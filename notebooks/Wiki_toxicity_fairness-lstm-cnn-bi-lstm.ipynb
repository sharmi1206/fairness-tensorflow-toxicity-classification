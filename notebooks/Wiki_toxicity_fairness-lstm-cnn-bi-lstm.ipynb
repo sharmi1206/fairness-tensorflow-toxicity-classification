{
 "cells": [
  {
   "cell_type": "markdown",
   "metadata": {
    "colab_type": "text",
    "id": "xrsx7fMbWs8u"
   },
   "source": [
    "##### Copyright 2018 The TensorFlow Constrained Optimization Authors. All Rights Reserved.\n",
    "\n",
    "Licensed under the Apache License, Version 2.0 (the \"License\"); you may not use this file except in compliance with the License. You may obtain a copy of the License at\n",
    "\n",
    "> http://www.apache.org/licenses/LICENSE-2.0\n",
    "\n",
    "Unless required by applicable law or agreed to in writing, software distributed under the License is distributed on an \"AS IS\" BASIS, WITHOUT WARRANTIES OR CONDITIONS OF ANY KIND, either express or implied. See the License for the specific language governing permissions and limitations under the License."
   ]
  },
  {
   "cell_type": "markdown",
   "metadata": {
    "colab_type": "text",
    "id": "bqdaOVRxWs8v"
   },
   "source": [
    "## Wiki Talk Comments Toxicity Prediction\n",
    "\n",
    "In this example, we consider the task of predicting whether a discussion comment posted on a Wiki talk page contains toxic content (i.e. contains content that is “rude, disrespectful or unreasonable”). We use a public <a href=\"https://figshare.com/articles/Wikipedia_Talk_Labels_Toxicity/4563973\">dataset</a> released by the <a href=\"https://conversationai.github.io/\">Conversation AI</a> project, which contains over 100k comments from the English Wikipedia that are annotated by crowd workers.\n",
    "\n",
    "One of the challenges with this dataset is that a very small proportion of the comments in the dataset cover sensitive topics such as sexuality or religion. So, training a neural network model on this dataset by optimizing a simple cross-entropy objective often leads to disparate performance on the smaller sensitive topics. We shall see that by imposing constraints during training, we can train a *fairer* model that enjoys equitable performance across the different topic groups. We shall use the TFCO library to optimize for two different fairness goals during training.\n",
    "\n",
    "Let's first install and import the relevant libraries."
   ]
  },
  {
   "cell_type": "code",
   "execution_count": null,
   "metadata": {},
   "outputs": [],
   "source": [
    "#### Reference  https://www.kaggle.com/c/jigsaw-unintended-bias-in-toxicity-classification/"
   ]
  },
  {
   "cell_type": "code",
   "execution_count": null,
   "metadata": {},
   "outputs": [],
   "source": [
    "!pip install git+https://github.com/google-research/tensorflow_constrained_optimization"
   ]
  },
  {
   "cell_type": "code",
   "execution_count": 1,
   "metadata": {
    "colab": {},
    "colab_type": "code",
    "id": "nd_Y6CTnWs8w"
   },
   "outputs": [],
   "source": [
    "import io\n",
    "import os\n",
    "import shutil\n",
    "import sys\n",
    "import tempfile\n",
    "import zipfile\n",
    "from urllib import request\n",
    "\n",
    "import matplotlib.pyplot as plt\n",
    "import numpy as np\n",
    "import pandas as pd\n",
    "import time\n",
    "\n",
    "import tensorflow as tf\n",
    "import tensorflow.keras as keras\n",
    "from tensorflow.keras import layers\n",
    "from tensorflow.keras.preprocessing import sequence\n",
    "from tensorflow.keras.preprocessing import text\n",
    "import tensorflow_constrained_optimization as tfco\n",
    "\n",
    "\n",
    "from tensorflow.keras.models import Model\n",
    "from tensorflow.keras.layers import Input, Dense, Embedding, SpatialDropout1D, add, concatenate, LSTM\n",
    "from tensorflow.keras.layers import Bidirectional, GlobalMaxPooling1D, GlobalAveragePooling1D\n",
    "from tensorflow.keras.preprocessing import text, sequence\n",
    "from gensim.models import KeyedVectors\n",
    "from tensorflow.compat.v1.keras.layers import CuDNNLSTM, Dropout"
   ]
  },
  {
   "cell_type": "code",
   "execution_count": 2,
   "metadata": {
    "colab": {},
    "colab_type": "code",
    "id": "DNAbLqqh1bpU"
   },
   "outputs": [],
   "source": [
    "tf.executing_eagerly()\n",
    "MODEL_TYPE ='CNN_LSTM' #Specify it to be either CNN, LSTM, BILSTM, "
   ]
  },
  {
   "cell_type": "markdown",
   "metadata": {
    "colab_type": "text",
    "id": "YUJyWaAwWs83"
   },
   "source": [
    "## Hyper-parameters\n",
    "\n",
    "Let's fix some hyper-parameters needed for the data preprocessing and model training."
   ]
  },
  {
   "cell_type": "code",
   "execution_count": 3,
   "metadata": {
    "colab": {},
    "colab_type": "code",
    "id": "1aXlwlqTWs84"
   },
   "outputs": [],
   "source": [
    "hparams = {\n",
    "    \"batch_size\": 256,\n",
    "    \"cnn_filter_sizes\": [128],\n",
    "    \"cnn_kernel_sizes\": [5],\n",
    "    \"cnn_pooling_sizes\": [5],\n",
    "    \"embedding_dim\": 100,\n",
    "    \"embedding_trainable\": False,\n",
    "    \"learning_rate\": 0.005,\n",
    "    \"max_num_words\": 10000,\n",
    "    \"max_sequence_length\": 250\n",
    "}"
   ]
  },
  {
   "cell_type": "code",
   "execution_count": 4,
   "metadata": {},
   "outputs": [],
   "source": [
    "MAX_LEN = 220\n",
    "IDENTITY_COLUMNS = [\n",
    "    'male', 'female', 'homosexual_gay_or_lesbian', 'christian', 'jewish',\n",
    "    'muslim', 'black', 'white', 'psychiatric_or_mental_illness'\n",
    "]\n",
    "AUX_COLUMNS = ['target', 'severe_toxicity', 'obscene', 'identity_attack', 'insult', 'threat']\n",
    "TEXT_COLUMN = 'comment_text'\n",
    "TARGET_COLUMN = 'target'\n",
    "CHARS_TO_REMOVE = '!\"#$%&()*+,-./:;<=>?@[\\\\]^_`{|}~\\t\\n“”’\\'∞θ÷α•à−β∅³π‘₹´°£€\\×™√²—'\n"
   ]
  },
  {
   "cell_type": "markdown",
   "metadata": {
    "colab_type": "text",
    "id": "dkSm-RIaWs86"
   },
   "source": [
    "## Load and pre-process dataset"
   ]
  },
  {
   "cell_type": "markdown",
   "metadata": {
    "colab_type": "text",
    "id": "DIe2JRDeWs87"
   },
   "source": [
    "We next download the dataset and preprocess it. The train, test and validations sets are provided as separate CSV files."
   ]
  },
  {
   "cell_type": "code",
   "execution_count": 5,
   "metadata": {
    "colab": {
     "base_uri": "https://localhost:8080/",
     "height": 204
    },
    "colab_type": "code",
    "id": "rcd2CV7pWs88",
    "outputId": "9aa7e6f0-ebaf-49e5-d41e-49d8c0cdbbd2"
   },
   "outputs": [],
   "source": [
    "# toxicity_data_url = (\"https://raw.githubusercontent.com/conversationai/\"\n",
    "#                      \"unintended-ml-bias-analysis/master/data/\")\n",
    "\n",
    "# data_train1 = pd.read_csv(toxicity_data_url + \"wiki_train.csv\")\n",
    "# data_test1 = pd.read_csv(toxicity_data_url + \"wiki_test.csv\")\n",
    "# data_vali1 = pd.read_csv(toxicity_data_url + \"wiki_dev.csv\")\n",
    "\n",
    "# data_train1.head()"
   ]
  },
  {
   "cell_type": "code",
   "execution_count": 6,
   "metadata": {},
   "outputs": [],
   "source": [
    "data_all = pd.read_csv('/Users/shachatt1/Desktop/sharmi/datascience/CrypTen/fair_data/jigsaw-unintended-bias-in-toxicity-classification/train.csv')"
   ]
  },
  {
   "cell_type": "code",
   "execution_count": 7,
   "metadata": {},
   "outputs": [
    {
     "data": {
      "text/html": [
       "<div>\n",
       "<style scoped>\n",
       "    .dataframe tbody tr th:only-of-type {\n",
       "        vertical-align: middle;\n",
       "    }\n",
       "\n",
       "    .dataframe tbody tr th {\n",
       "        vertical-align: top;\n",
       "    }\n",
       "\n",
       "    .dataframe thead th {\n",
       "        text-align: right;\n",
       "    }\n",
       "</style>\n",
       "<table border=\"1\" class=\"dataframe\">\n",
       "  <thead>\n",
       "    <tr style=\"text-align: right;\">\n",
       "      <th></th>\n",
       "      <th>id</th>\n",
       "      <th>target</th>\n",
       "      <th>comment_text</th>\n",
       "      <th>severe_toxicity</th>\n",
       "      <th>obscene</th>\n",
       "      <th>identity_attack</th>\n",
       "      <th>insult</th>\n",
       "      <th>threat</th>\n",
       "      <th>asian</th>\n",
       "      <th>atheist</th>\n",
       "      <th>...</th>\n",
       "      <th>article_id</th>\n",
       "      <th>rating</th>\n",
       "      <th>funny</th>\n",
       "      <th>wow</th>\n",
       "      <th>sad</th>\n",
       "      <th>likes</th>\n",
       "      <th>disagree</th>\n",
       "      <th>sexual_explicit</th>\n",
       "      <th>identity_annotator_count</th>\n",
       "      <th>toxicity_annotator_count</th>\n",
       "    </tr>\n",
       "  </thead>\n",
       "  <tbody>\n",
       "    <tr>\n",
       "      <th>0</th>\n",
       "      <td>59848</td>\n",
       "      <td>0.0</td>\n",
       "      <td>This is so cool. It's like, 'would you want yo...</td>\n",
       "      <td>0.0</td>\n",
       "      <td>0.0</td>\n",
       "      <td>0.0</td>\n",
       "      <td>0.0</td>\n",
       "      <td>0.0</td>\n",
       "      <td>NaN</td>\n",
       "      <td>NaN</td>\n",
       "      <td>...</td>\n",
       "      <td>2006</td>\n",
       "      <td>rejected</td>\n",
       "      <td>0</td>\n",
       "      <td>0</td>\n",
       "      <td>0</td>\n",
       "      <td>0</td>\n",
       "      <td>0</td>\n",
       "      <td>0.0</td>\n",
       "      <td>0</td>\n",
       "      <td>4</td>\n",
       "    </tr>\n",
       "    <tr>\n",
       "      <th>1</th>\n",
       "      <td>59849</td>\n",
       "      <td>0.0</td>\n",
       "      <td>Thank you!! This would make my life a lot less...</td>\n",
       "      <td>0.0</td>\n",
       "      <td>0.0</td>\n",
       "      <td>0.0</td>\n",
       "      <td>0.0</td>\n",
       "      <td>0.0</td>\n",
       "      <td>NaN</td>\n",
       "      <td>NaN</td>\n",
       "      <td>...</td>\n",
       "      <td>2006</td>\n",
       "      <td>rejected</td>\n",
       "      <td>0</td>\n",
       "      <td>0</td>\n",
       "      <td>0</td>\n",
       "      <td>0</td>\n",
       "      <td>0</td>\n",
       "      <td>0.0</td>\n",
       "      <td>0</td>\n",
       "      <td>4</td>\n",
       "    </tr>\n",
       "  </tbody>\n",
       "</table>\n",
       "<p>2 rows × 45 columns</p>\n",
       "</div>"
      ],
      "text/plain": [
       "      id  target                                       comment_text  \\\n",
       "0  59848     0.0  This is so cool. It's like, 'would you want yo...   \n",
       "1  59849     0.0  Thank you!! This would make my life a lot less...   \n",
       "\n",
       "   severe_toxicity  obscene  identity_attack  insult  threat  asian  atheist  \\\n",
       "0              0.0      0.0              0.0     0.0     0.0    NaN      NaN   \n",
       "1              0.0      0.0              0.0     0.0     0.0    NaN      NaN   \n",
       "\n",
       "   ...  article_id    rating  funny  wow  sad  likes  disagree  \\\n",
       "0  ...        2006  rejected      0    0    0      0         0   \n",
       "1  ...        2006  rejected      0    0    0      0         0   \n",
       "\n",
       "   sexual_explicit  identity_annotator_count  toxicity_annotator_count  \n",
       "0              0.0                         0                         4  \n",
       "1              0.0                         0                         4  \n",
       "\n",
       "[2 rows x 45 columns]"
      ]
     },
     "execution_count": 7,
     "metadata": {},
     "output_type": "execute_result"
    }
   ],
   "source": [
    "data_all.head(2)"
   ]
  },
  {
   "cell_type": "code",
   "execution_count": 8,
   "metadata": {},
   "outputs": [
    {
     "name": "stdout",
     "output_type": "stream",
     "text": [
      "902437\n"
     ]
    }
   ],
   "source": [
    "split_factor = int(np.shape(data_all)[0]*.5)\n",
    "print(split_factor)\n",
    "data_train  = data_all[0:split_factor]\n",
    "data_test_all = data_all[split_factor:]"
   ]
  },
  {
   "cell_type": "code",
   "execution_count": 9,
   "metadata": {},
   "outputs": [
    {
     "data": {
      "text/html": [
       "<div>\n",
       "<style scoped>\n",
       "    .dataframe tbody tr th:only-of-type {\n",
       "        vertical-align: middle;\n",
       "    }\n",
       "\n",
       "    .dataframe tbody tr th {\n",
       "        vertical-align: top;\n",
       "    }\n",
       "\n",
       "    .dataframe thead th {\n",
       "        text-align: right;\n",
       "    }\n",
       "</style>\n",
       "<table border=\"1\" class=\"dataframe\">\n",
       "  <thead>\n",
       "    <tr style=\"text-align: right;\">\n",
       "      <th></th>\n",
       "      <th>id</th>\n",
       "      <th>target</th>\n",
       "      <th>comment_text</th>\n",
       "      <th>severe_toxicity</th>\n",
       "      <th>obscene</th>\n",
       "      <th>identity_attack</th>\n",
       "      <th>insult</th>\n",
       "      <th>threat</th>\n",
       "      <th>asian</th>\n",
       "      <th>atheist</th>\n",
       "      <th>...</th>\n",
       "      <th>article_id</th>\n",
       "      <th>rating</th>\n",
       "      <th>funny</th>\n",
       "      <th>wow</th>\n",
       "      <th>sad</th>\n",
       "      <th>likes</th>\n",
       "      <th>disagree</th>\n",
       "      <th>sexual_explicit</th>\n",
       "      <th>identity_annotator_count</th>\n",
       "      <th>toxicity_annotator_count</th>\n",
       "    </tr>\n",
       "  </thead>\n",
       "  <tbody>\n",
       "    <tr>\n",
       "      <th>0</th>\n",
       "      <td>59848</td>\n",
       "      <td>0.0</td>\n",
       "      <td>This is so cool. It's like, 'would you want yo...</td>\n",
       "      <td>0.0</td>\n",
       "      <td>0.0</td>\n",
       "      <td>0.0</td>\n",
       "      <td>0.0</td>\n",
       "      <td>0.0</td>\n",
       "      <td>NaN</td>\n",
       "      <td>NaN</td>\n",
       "      <td>...</td>\n",
       "      <td>2006</td>\n",
       "      <td>rejected</td>\n",
       "      <td>0</td>\n",
       "      <td>0</td>\n",
       "      <td>0</td>\n",
       "      <td>0</td>\n",
       "      <td>0</td>\n",
       "      <td>0.0</td>\n",
       "      <td>0</td>\n",
       "      <td>4</td>\n",
       "    </tr>\n",
       "    <tr>\n",
       "      <th>1</th>\n",
       "      <td>59849</td>\n",
       "      <td>0.0</td>\n",
       "      <td>Thank you!! This would make my life a lot less...</td>\n",
       "      <td>0.0</td>\n",
       "      <td>0.0</td>\n",
       "      <td>0.0</td>\n",
       "      <td>0.0</td>\n",
       "      <td>0.0</td>\n",
       "      <td>NaN</td>\n",
       "      <td>NaN</td>\n",
       "      <td>...</td>\n",
       "      <td>2006</td>\n",
       "      <td>rejected</td>\n",
       "      <td>0</td>\n",
       "      <td>0</td>\n",
       "      <td>0</td>\n",
       "      <td>0</td>\n",
       "      <td>0</td>\n",
       "      <td>0.0</td>\n",
       "      <td>0</td>\n",
       "      <td>4</td>\n",
       "    </tr>\n",
       "  </tbody>\n",
       "</table>\n",
       "<p>2 rows × 45 columns</p>\n",
       "</div>"
      ],
      "text/plain": [
       "      id  target                                       comment_text  \\\n",
       "0  59848     0.0  This is so cool. It's like, 'would you want yo...   \n",
       "1  59849     0.0  Thank you!! This would make my life a lot less...   \n",
       "\n",
       "   severe_toxicity  obscene  identity_attack  insult  threat  asian  atheist  \\\n",
       "0              0.0      0.0              0.0     0.0     0.0    NaN      NaN   \n",
       "1              0.0      0.0              0.0     0.0     0.0    NaN      NaN   \n",
       "\n",
       "   ...  article_id    rating  funny  wow  sad  likes  disagree  \\\n",
       "0  ...        2006  rejected      0    0    0      0         0   \n",
       "1  ...        2006  rejected      0    0    0      0         0   \n",
       "\n",
       "   sexual_explicit  identity_annotator_count  toxicity_annotator_count  \n",
       "0              0.0                         0                         4  \n",
       "1              0.0                         0                         4  \n",
       "\n",
       "[2 rows x 45 columns]"
      ]
     },
     "execution_count": 9,
     "metadata": {},
     "output_type": "execute_result"
    }
   ],
   "source": [
    "data_train.head(2)"
   ]
  },
  {
   "cell_type": "code",
   "execution_count": 10,
   "metadata": {},
   "outputs": [
    {
     "data": {
      "text/html": [
       "<div>\n",
       "<style scoped>\n",
       "    .dataframe tbody tr th:only-of-type {\n",
       "        vertical-align: middle;\n",
       "    }\n",
       "\n",
       "    .dataframe tbody tr th {\n",
       "        vertical-align: top;\n",
       "    }\n",
       "\n",
       "    .dataframe thead th {\n",
       "        text-align: right;\n",
       "    }\n",
       "</style>\n",
       "<table border=\"1\" class=\"dataframe\">\n",
       "  <thead>\n",
       "    <tr style=\"text-align: right;\">\n",
       "      <th></th>\n",
       "      <th>id</th>\n",
       "      <th>target</th>\n",
       "      <th>comment_text</th>\n",
       "      <th>severe_toxicity</th>\n",
       "      <th>obscene</th>\n",
       "      <th>identity_attack</th>\n",
       "      <th>insult</th>\n",
       "      <th>threat</th>\n",
       "      <th>asian</th>\n",
       "      <th>atheist</th>\n",
       "      <th>...</th>\n",
       "      <th>article_id</th>\n",
       "      <th>rating</th>\n",
       "      <th>funny</th>\n",
       "      <th>wow</th>\n",
       "      <th>sad</th>\n",
       "      <th>likes</th>\n",
       "      <th>disagree</th>\n",
       "      <th>sexual_explicit</th>\n",
       "      <th>identity_annotator_count</th>\n",
       "      <th>toxicity_annotator_count</th>\n",
       "    </tr>\n",
       "  </thead>\n",
       "  <tbody>\n",
       "    <tr>\n",
       "      <th>902437</th>\n",
       "      <td>5223775</td>\n",
       "      <td>0.0</td>\n",
       "      <td>That could be true IF the hack damaged Macron....</td>\n",
       "      <td>0.0</td>\n",
       "      <td>0.0</td>\n",
       "      <td>0.0</td>\n",
       "      <td>0.0</td>\n",
       "      <td>0.0</td>\n",
       "      <td>NaN</td>\n",
       "      <td>NaN</td>\n",
       "      <td>...</td>\n",
       "      <td>332501</td>\n",
       "      <td>approved</td>\n",
       "      <td>0</td>\n",
       "      <td>0</td>\n",
       "      <td>0</td>\n",
       "      <td>0</td>\n",
       "      <td>0</td>\n",
       "      <td>0.0</td>\n",
       "      <td>0</td>\n",
       "      <td>4</td>\n",
       "    </tr>\n",
       "    <tr>\n",
       "      <th>902438</th>\n",
       "      <td>5223777</td>\n",
       "      <td>0.0</td>\n",
       "      <td>Exposing the not-so-pleasant underbelly of cor...</td>\n",
       "      <td>0.0</td>\n",
       "      <td>0.0</td>\n",
       "      <td>0.0</td>\n",
       "      <td>0.0</td>\n",
       "      <td>0.0</td>\n",
       "      <td>NaN</td>\n",
       "      <td>NaN</td>\n",
       "      <td>...</td>\n",
       "      <td>331035</td>\n",
       "      <td>approved</td>\n",
       "      <td>0</td>\n",
       "      <td>0</td>\n",
       "      <td>0</td>\n",
       "      <td>0</td>\n",
       "      <td>0</td>\n",
       "      <td>0.0</td>\n",
       "      <td>0</td>\n",
       "      <td>4</td>\n",
       "    </tr>\n",
       "  </tbody>\n",
       "</table>\n",
       "<p>2 rows × 45 columns</p>\n",
       "</div>"
      ],
      "text/plain": [
       "             id  target                                       comment_text  \\\n",
       "902437  5223775     0.0  That could be true IF the hack damaged Macron....   \n",
       "902438  5223777     0.0  Exposing the not-so-pleasant underbelly of cor...   \n",
       "\n",
       "        severe_toxicity  obscene  identity_attack  insult  threat  asian  \\\n",
       "902437              0.0      0.0              0.0     0.0     0.0    NaN   \n",
       "902438              0.0      0.0              0.0     0.0     0.0    NaN   \n",
       "\n",
       "        atheist  ...  article_id    rating  funny  wow  sad  likes  disagree  \\\n",
       "902437      NaN  ...      332501  approved      0    0    0      0         0   \n",
       "902438      NaN  ...      331035  approved      0    0    0      0         0   \n",
       "\n",
       "        sexual_explicit  identity_annotator_count  toxicity_annotator_count  \n",
       "902437              0.0                         0                         4  \n",
       "902438              0.0                         0                         4  \n",
       "\n",
       "[2 rows x 45 columns]"
      ]
     },
     "execution_count": 10,
     "metadata": {},
     "output_type": "execute_result"
    }
   ],
   "source": [
    "data_test_all.head(2)"
   ]
  },
  {
   "cell_type": "code",
   "execution_count": 11,
   "metadata": {},
   "outputs": [
    {
     "name": "stdout",
     "output_type": "stream",
     "text": [
      "451218\n"
     ]
    }
   ],
   "source": [
    "split_factor = int(np.shape(data_test_all)[0]*.5)\n",
    "print(split_factor)\n",
    "data_vali  = data_test_all[0:split_factor]\n",
    "data_test = data_test_all[split_factor:]"
   ]
  },
  {
   "cell_type": "code",
   "execution_count": 12,
   "metadata": {},
   "outputs": [
    {
     "name": "stdout",
     "output_type": "stream",
     "text": [
      "Train data size (902437, 45)\n",
      "Test data size (451219, 45)\n",
      "Validation data size (451218, 45)\n"
     ]
    }
   ],
   "source": [
    "print(\"Train data size\", np.shape(data_train))\n",
    "print(\"Test data size\", np.shape(data_test))\n",
    "print(\"Validation data size\", np.shape(data_vali))"
   ]
  },
  {
   "cell_type": "code",
   "execution_count": 13,
   "metadata": {},
   "outputs": [
    {
     "name": "stdout",
     "output_type": "stream",
     "text": [
      "Index(['id', 'target', 'comment_text', 'severe_toxicity', 'obscene',\n",
      "       'identity_attack', 'insult', 'threat', 'asian', 'atheist', 'bisexual',\n",
      "       'black', 'buddhist', 'christian', 'female', 'heterosexual', 'hindu',\n",
      "       'homosexual_gay_or_lesbian', 'intellectual_or_learning_disability',\n",
      "       'jewish', 'latino', 'male', 'muslim', 'other_disability',\n",
      "       'other_gender', 'other_race_or_ethnicity', 'other_religion',\n",
      "       'other_sexual_orientation', 'physical_disability',\n",
      "       'psychiatric_or_mental_illness', 'transgender', 'white', 'created_date',\n",
      "       'publication_id', 'parent_id', 'article_id', 'rating', 'funny', 'wow',\n",
      "       'sad', 'likes', 'disagree', 'sexual_explicit',\n",
      "       'identity_annotator_count', 'toxicity_annotator_count'],\n",
      "      dtype='object')\n",
      "Index(['id', 'target', 'comment_text', 'severe_toxicity', 'obscene',\n",
      "       'identity_attack', 'insult', 'threat', 'asian', 'atheist', 'bisexual',\n",
      "       'black', 'buddhist', 'christian', 'female', 'heterosexual', 'hindu',\n",
      "       'homosexual_gay_or_lesbian', 'intellectual_or_learning_disability',\n",
      "       'jewish', 'latino', 'male', 'muslim', 'other_disability',\n",
      "       'other_gender', 'other_race_or_ethnicity', 'other_religion',\n",
      "       'other_sexual_orientation', 'physical_disability',\n",
      "       'psychiatric_or_mental_illness', 'transgender', 'white', 'created_date',\n",
      "       'publication_id', 'parent_id', 'article_id', 'rating', 'funny', 'wow',\n",
      "       'sad', 'likes', 'disagree', 'sexual_explicit',\n",
      "       'identity_annotator_count', 'toxicity_annotator_count'],\n",
      "      dtype='object')\n",
      "Index(['id', 'target', 'comment_text', 'severe_toxicity', 'obscene',\n",
      "       'identity_attack', 'insult', 'threat', 'asian', 'atheist', 'bisexual',\n",
      "       'black', 'buddhist', 'christian', 'female', 'heterosexual', 'hindu',\n",
      "       'homosexual_gay_or_lesbian', 'intellectual_or_learning_disability',\n",
      "       'jewish', 'latino', 'male', 'muslim', 'other_disability',\n",
      "       'other_gender', 'other_race_or_ethnicity', 'other_religion',\n",
      "       'other_sexual_orientation', 'physical_disability',\n",
      "       'psychiatric_or_mental_illness', 'transgender', 'white', 'created_date',\n",
      "       'publication_id', 'parent_id', 'article_id', 'rating', 'funny', 'wow',\n",
      "       'sad', 'likes', 'disagree', 'sexual_explicit',\n",
      "       'identity_annotator_count', 'toxicity_annotator_count'],\n",
      "      dtype='object')\n"
     ]
    }
   ],
   "source": [
    "print(data_train.columns)\n",
    "print(data_test.columns)\n",
    "print(data_vali.columns)"
   ]
  },
  {
   "cell_type": "code",
   "execution_count": 14,
   "metadata": {},
   "outputs": [
    {
     "data": {
      "text/html": [
       "<div>\n",
       "<style scoped>\n",
       "    .dataframe tbody tr th:only-of-type {\n",
       "        vertical-align: middle;\n",
       "    }\n",
       "\n",
       "    .dataframe tbody tr th {\n",
       "        vertical-align: top;\n",
       "    }\n",
       "\n",
       "    .dataframe thead th {\n",
       "        text-align: right;\n",
       "    }\n",
       "</style>\n",
       "<table border=\"1\" class=\"dataframe\">\n",
       "  <thead>\n",
       "    <tr style=\"text-align: right;\">\n",
       "      <th></th>\n",
       "      <th>id</th>\n",
       "      <th>target</th>\n",
       "      <th>comment_text</th>\n",
       "      <th>severe_toxicity</th>\n",
       "      <th>obscene</th>\n",
       "      <th>identity_attack</th>\n",
       "      <th>insult</th>\n",
       "      <th>threat</th>\n",
       "      <th>asian</th>\n",
       "      <th>atheist</th>\n",
       "      <th>...</th>\n",
       "      <th>article_id</th>\n",
       "      <th>rating</th>\n",
       "      <th>funny</th>\n",
       "      <th>wow</th>\n",
       "      <th>sad</th>\n",
       "      <th>likes</th>\n",
       "      <th>disagree</th>\n",
       "      <th>sexual_explicit</th>\n",
       "      <th>identity_annotator_count</th>\n",
       "      <th>toxicity_annotator_count</th>\n",
       "    </tr>\n",
       "  </thead>\n",
       "  <tbody>\n",
       "    <tr>\n",
       "      <th>0</th>\n",
       "      <td>59848</td>\n",
       "      <td>0.000000</td>\n",
       "      <td>This is so cool. It's like, 'would you want yo...</td>\n",
       "      <td>0.000000</td>\n",
       "      <td>0.0</td>\n",
       "      <td>0.000000</td>\n",
       "      <td>0.00000</td>\n",
       "      <td>0.0</td>\n",
       "      <td>NaN</td>\n",
       "      <td>NaN</td>\n",
       "      <td>...</td>\n",
       "      <td>2006</td>\n",
       "      <td>rejected</td>\n",
       "      <td>0</td>\n",
       "      <td>0</td>\n",
       "      <td>0</td>\n",
       "      <td>0</td>\n",
       "      <td>0</td>\n",
       "      <td>0.0</td>\n",
       "      <td>0</td>\n",
       "      <td>4</td>\n",
       "    </tr>\n",
       "    <tr>\n",
       "      <th>1</th>\n",
       "      <td>59849</td>\n",
       "      <td>0.000000</td>\n",
       "      <td>Thank you!! This would make my life a lot less...</td>\n",
       "      <td>0.000000</td>\n",
       "      <td>0.0</td>\n",
       "      <td>0.000000</td>\n",
       "      <td>0.00000</td>\n",
       "      <td>0.0</td>\n",
       "      <td>NaN</td>\n",
       "      <td>NaN</td>\n",
       "      <td>...</td>\n",
       "      <td>2006</td>\n",
       "      <td>rejected</td>\n",
       "      <td>0</td>\n",
       "      <td>0</td>\n",
       "      <td>0</td>\n",
       "      <td>0</td>\n",
       "      <td>0</td>\n",
       "      <td>0.0</td>\n",
       "      <td>0</td>\n",
       "      <td>4</td>\n",
       "    </tr>\n",
       "    <tr>\n",
       "      <th>2</th>\n",
       "      <td>59852</td>\n",
       "      <td>0.000000</td>\n",
       "      <td>This is such an urgent design problem; kudos t...</td>\n",
       "      <td>0.000000</td>\n",
       "      <td>0.0</td>\n",
       "      <td>0.000000</td>\n",
       "      <td>0.00000</td>\n",
       "      <td>0.0</td>\n",
       "      <td>NaN</td>\n",
       "      <td>NaN</td>\n",
       "      <td>...</td>\n",
       "      <td>2006</td>\n",
       "      <td>rejected</td>\n",
       "      <td>0</td>\n",
       "      <td>0</td>\n",
       "      <td>0</td>\n",
       "      <td>0</td>\n",
       "      <td>0</td>\n",
       "      <td>0.0</td>\n",
       "      <td>0</td>\n",
       "      <td>4</td>\n",
       "    </tr>\n",
       "    <tr>\n",
       "      <th>3</th>\n",
       "      <td>59855</td>\n",
       "      <td>0.000000</td>\n",
       "      <td>Is this something I'll be able to install on m...</td>\n",
       "      <td>0.000000</td>\n",
       "      <td>0.0</td>\n",
       "      <td>0.000000</td>\n",
       "      <td>0.00000</td>\n",
       "      <td>0.0</td>\n",
       "      <td>NaN</td>\n",
       "      <td>NaN</td>\n",
       "      <td>...</td>\n",
       "      <td>2006</td>\n",
       "      <td>rejected</td>\n",
       "      <td>0</td>\n",
       "      <td>0</td>\n",
       "      <td>0</td>\n",
       "      <td>0</td>\n",
       "      <td>0</td>\n",
       "      <td>0.0</td>\n",
       "      <td>0</td>\n",
       "      <td>4</td>\n",
       "    </tr>\n",
       "    <tr>\n",
       "      <th>4</th>\n",
       "      <td>59856</td>\n",
       "      <td>0.893617</td>\n",
       "      <td>haha you guys are a bunch of losers.</td>\n",
       "      <td>0.021277</td>\n",
       "      <td>0.0</td>\n",
       "      <td>0.021277</td>\n",
       "      <td>0.87234</td>\n",
       "      <td>0.0</td>\n",
       "      <td>0.0</td>\n",
       "      <td>0.0</td>\n",
       "      <td>...</td>\n",
       "      <td>2006</td>\n",
       "      <td>rejected</td>\n",
       "      <td>0</td>\n",
       "      <td>0</td>\n",
       "      <td>0</td>\n",
       "      <td>1</td>\n",
       "      <td>0</td>\n",
       "      <td>0.0</td>\n",
       "      <td>4</td>\n",
       "      <td>47</td>\n",
       "    </tr>\n",
       "  </tbody>\n",
       "</table>\n",
       "<p>5 rows × 45 columns</p>\n",
       "</div>"
      ],
      "text/plain": [
       "      id    target                                       comment_text  \\\n",
       "0  59848  0.000000  This is so cool. It's like, 'would you want yo...   \n",
       "1  59849  0.000000  Thank you!! This would make my life a lot less...   \n",
       "2  59852  0.000000  This is such an urgent design problem; kudos t...   \n",
       "3  59855  0.000000  Is this something I'll be able to install on m...   \n",
       "4  59856  0.893617               haha you guys are a bunch of losers.   \n",
       "\n",
       "   severe_toxicity  obscene  identity_attack   insult  threat  asian  atheist  \\\n",
       "0         0.000000      0.0         0.000000  0.00000     0.0    NaN      NaN   \n",
       "1         0.000000      0.0         0.000000  0.00000     0.0    NaN      NaN   \n",
       "2         0.000000      0.0         0.000000  0.00000     0.0    NaN      NaN   \n",
       "3         0.000000      0.0         0.000000  0.00000     0.0    NaN      NaN   \n",
       "4         0.021277      0.0         0.021277  0.87234     0.0    0.0      0.0   \n",
       "\n",
       "   ...  article_id    rating  funny  wow  sad  likes  disagree  \\\n",
       "0  ...        2006  rejected      0    0    0      0         0   \n",
       "1  ...        2006  rejected      0    0    0      0         0   \n",
       "2  ...        2006  rejected      0    0    0      0         0   \n",
       "3  ...        2006  rejected      0    0    0      0         0   \n",
       "4  ...        2006  rejected      0    0    0      1         0   \n",
       "\n",
       "   sexual_explicit  identity_annotator_count  toxicity_annotator_count  \n",
       "0              0.0                         0                         4  \n",
       "1              0.0                         0                         4  \n",
       "2              0.0                         0                         4  \n",
       "3              0.0                         0                         4  \n",
       "4              0.0                         4                        47  \n",
       "\n",
       "[5 rows x 45 columns]"
      ]
     },
     "execution_count": 14,
     "metadata": {},
     "output_type": "execute_result"
    }
   ],
   "source": [
    "data_train.head()"
   ]
  },
  {
   "cell_type": "code",
   "execution_count": 15,
   "metadata": {},
   "outputs": [
    {
     "name": "stderr",
     "output_type": "stream",
     "text": [
      "/anaconda3/lib/python3.7/site-packages/ipykernel_launcher.py:2: SettingWithCopyWarning: \n",
      "A value is trying to be set on a copy of a slice from a DataFrame.\n",
      "Try using .loc[row_indexer,col_indexer] = value instead\n",
      "\n",
      "See the caveats in the documentation: https://pandas.pydata.org/pandas-docs/stable/user_guide/indexing.html#returning-a-view-versus-a-copy\n",
      "  \n"
     ]
    }
   ],
   "source": [
    "for column in IDENTITY_COLUMNS + [TARGET_COLUMN]:\n",
    "    data_train[column] = np.where(data_train[column] >= 0.5, 1, 0)"
   ]
  },
  {
   "cell_type": "markdown",
   "metadata": {
    "colab_type": "text",
    "id": "Ojo617RIWs8_"
   },
   "source": [
    "The `comment` column contains the discussion comments and `is_toxic` column indicates whether or not a comment is annotated as toxic.\n",
    "\n",
    "In the following, we (i) separate out the labels, (ii) tokenize the text comments, and (iii) identify comments that contain sensitive topic terms.\n",
    "\n",
    "First, we separate the labels from the train, test and validation sets. The labels are all binary (0 or 1)."
   ]
  },
  {
   "cell_type": "code",
   "execution_count": 16,
   "metadata": {},
   "outputs": [],
   "source": [
    "labels_train = data_train[\"target\"].values.reshape(-1, 1) * 1.0\n",
    "labels_test = data_test[\"target\"].values.reshape(-1, 1) * 1.0\n",
    "labels_vali = data_vali[\"target\"].values.reshape(-1, 1) * 1.0"
   ]
  },
  {
   "cell_type": "markdown",
   "metadata": {
    "colab_type": "text",
    "id": "alrWi6jUWs9C"
   },
   "source": [
    "Next, we tokenize the textual comments using the `Tokenizer` provided by `Keras`. We use the training set comments alone to build a vocabulary of tokens, and use them to convert all the comments into a (padded) sequence of tokens of the same length."
   ]
  },
  {
   "cell_type": "code",
   "execution_count": 17,
   "metadata": {
    "colab": {},
    "colab_type": "code",
    "id": "yvOTBsrHWs9D"
   },
   "outputs": [],
   "source": [
    "tokenizer = text.Tokenizer(filters=CHARS_TO_REMOVE, num_words=hparams[\"max_num_words\"], lower=False)\n",
    "#tokenizer.fit_on_texts(list(x_train) + list(x_test))\n",
    "\n",
    "#tokenizer = text.Tokenizer(num_words=hparams[\"max_num_words\"])\n",
    "tokenizer.fit_on_texts(data_train[\"comment_text\"])\n",
    "\n",
    "def prep_text(texts, tokenizer, max_sequence_length):\n",
    "    # Turns text into into padded sequences.\n",
    "    text_sequences = tokenizer.texts_to_sequences(texts)\n",
    "    return sequence.pad_sequences(text_sequences, maxlen=max_sequence_length)\n",
    "\n",
    "text_train = prep_text(data_train[\"comment_text\"], tokenizer, hparams[\"max_sequence_length\"])\n",
    "text_test = prep_text(data_test[\"comment_text\"], tokenizer, hparams[\"max_sequence_length\"])\n",
    "text_vali = prep_text(data_vali[\"comment_text\"], tokenizer, hparams[\"max_sequence_length\"])"
   ]
  },
  {
   "cell_type": "markdown",
   "metadata": {
    "colab_type": "text",
    "id": "Cn5zbgp-Ws9F"
   },
   "source": [
    "Finally, we identify comments belonging to certain sensitive topic groups. We consider a subset of the <a href=\"https://github.com/conversationai/unintended-ml-bias-analysis/blob/master/unintended_ml_bias/bias_madlibs_data/adjectives_people.txt\">identity terms</a> provided with the dataset and group them into\n",
    "four broad topic groups: *sexuality*, *gender identity*, *religion* and *race*."
   ]
  },
  {
   "cell_type": "code",
   "execution_count": 18,
   "metadata": {
    "colab": {},
    "colab_type": "code",
    "id": "EnFfV2gEWs9G"
   },
   "outputs": [],
   "source": [
    "terms = {\n",
    "    'sexuality': ['gay', 'lesbian', 'bisexual', 'homosexual', 'straight', 'heterosexual'],\n",
    "    'gender identity': ['trans', 'transgender', 'cis', 'nonbinary'],\n",
    "    'religion': ['christian', 'muslim', 'jewish', 'buddhist', 'catholic', 'protestant', 'sikh', 'taoist'],\n",
    "    'race': ['african', 'african american', 'black', 'white', 'european', 'hispanic', 'latino', 'latina',\n",
    "             'latinx', 'mexican', 'canadian', 'american', 'asian', 'indian', 'middle eastern', 'chinese',\n",
    "             'japanese'],\n",
    "     'mental': ['depression', 'anxiety', 'bipolar', 'autism', 'schizophrenia', 'adhd', 'attention-Deficit', \n",
    "                'agoraphobia', 'amnesia', 'asperger', 'alcohol abuse', 'alcoholic'],\n",
    "     'economic': ['poor', 'retired', 'unemployed', 'rich', 'homeless', 'layoffs'],\n",
    "     'physical': ['cancer', 'arthritis', 'injury', 'disability', 'alzheimer\\'s', 'diabetes', \n",
    "                  'infertility', 'hiv', 'parkinson', 'herpes', 'ulcers', 'allergies', 'stroke', 'influenza'] }\n",
    "\n",
    "\n",
    "group_names = list(terms.keys())\n",
    "num_groups = len(group_names)"
   ]
  },
  {
   "cell_type": "markdown",
   "metadata": {
    "colab_type": "text",
    "id": "ooI3F5M4Ws9I"
   },
   "source": [
    "We then create separate group membership matrices for the train, test and validation sets, where the rows correspond to comments, the columns correspond to the four sensitive groups, and each entry is a boolean indicating whether the comment contains a term from the topic group."
   ]
  },
  {
   "cell_type": "code",
   "execution_count": 19,
   "metadata": {
    "colab": {},
    "colab_type": "code",
    "id": "zO7PyNckWs9J"
   },
   "outputs": [],
   "source": [
    "def get_groups(text):\n",
    "    # Returns a boolean NumPy array of shape (n, k), where n is the number of comments,\n",
    "    # and k is the number of groups. Each entry (i, j) indicates if the i-th comment\n",
    "    # contains a term from the j-th group.\n",
    "    groups = np.zeros((text.shape[0], num_groups))\n",
    "    for ii in range(num_groups):\n",
    "        groups[:, ii] = text.str.contains('|'.join(terms[group_names[ii]]), case=False)\n",
    "    return groups\n",
    "\n",
    "groups_train = get_groups(data_train[\"comment_text\"])\n",
    "groups_test = get_groups(data_test[\"comment_text\"])\n",
    "groups_vali = get_groups(data_vali[\"comment_text\"])"
   ]
  },
  {
   "cell_type": "markdown",
   "metadata": {
    "colab_type": "text",
    "id": "GFAI6AB9Ws9L"
   },
   "source": [
    "As shown below, all four topic groups constitute only a small fractions of the overall dataset, and have varying proportions of toxic comments."
   ]
  },
  {
   "cell_type": "code",
   "execution_count": 20,
   "metadata": {
    "colab": {
     "base_uri": "https://localhost:8080/",
     "height": 190
    },
    "colab_type": "code",
    "id": "8Ug4u_P9Ws9M",
    "outputId": "9013a0a9-5b85-47a0-89c8-56504a32e945"
   },
   "outputs": [
    {
     "name": "stdout",
     "output_type": "stream",
     "text": [
      "Overall label proportion = 7.8%\n"
     ]
    },
    {
     "data": {
      "text/html": [
       "<div>\n",
       "<style scoped>\n",
       "    .dataframe tbody tr th:only-of-type {\n",
       "        vertical-align: middle;\n",
       "    }\n",
       "\n",
       "    .dataframe tbody tr th {\n",
       "        vertical-align: top;\n",
       "    }\n",
       "\n",
       "    .dataframe thead th {\n",
       "        text-align: right;\n",
       "    }\n",
       "</style>\n",
       "<table border=\"1\" class=\"dataframe\">\n",
       "  <thead>\n",
       "    <tr style=\"text-align: right;\">\n",
       "      <th></th>\n",
       "      <th>Topic group</th>\n",
       "      <th>Group proportion</th>\n",
       "      <th>Label proportion</th>\n",
       "    </tr>\n",
       "  </thead>\n",
       "  <tbody>\n",
       "    <tr>\n",
       "      <th>0</th>\n",
       "      <td>sexuality</td>\n",
       "      <td>0.92%</td>\n",
       "      <td>19.7%</td>\n",
       "    </tr>\n",
       "    <tr>\n",
       "      <th>1</th>\n",
       "      <td>gender identity</td>\n",
       "      <td>6.29%</td>\n",
       "      <td>11.2%</td>\n",
       "    </tr>\n",
       "    <tr>\n",
       "      <th>2</th>\n",
       "      <td>religion</td>\n",
       "      <td>3.14%</td>\n",
       "      <td>13.5%</td>\n",
       "    </tr>\n",
       "    <tr>\n",
       "      <th>3</th>\n",
       "      <td>race</td>\n",
       "      <td>9.67%</td>\n",
       "      <td>11.8%</td>\n",
       "    </tr>\n",
       "    <tr>\n",
       "      <th>4</th>\n",
       "      <td>mental</td>\n",
       "      <td>0.27%</td>\n",
       "      <td>7.1%</td>\n",
       "    </tr>\n",
       "    <tr>\n",
       "      <th>5</th>\n",
       "      <td>economic</td>\n",
       "      <td>3.97%</td>\n",
       "      <td>7.8%</td>\n",
       "    </tr>\n",
       "    <tr>\n",
       "      <th>6</th>\n",
       "      <td>physical</td>\n",
       "      <td>0.61%</td>\n",
       "      <td>7.1%</td>\n",
       "    </tr>\n",
       "  </tbody>\n",
       "</table>\n",
       "</div>"
      ],
      "text/plain": [
       "       Topic group Group proportion Label proportion\n",
       "0        sexuality            0.92%            19.7%\n",
       "1  gender identity            6.29%            11.2%\n",
       "2         religion            3.14%            13.5%\n",
       "3             race            9.67%            11.8%\n",
       "4           mental            0.27%             7.1%\n",
       "5         economic            3.97%             7.8%\n",
       "6         physical            0.61%             7.1%"
      ]
     },
     "execution_count": 20,
     "metadata": {},
     "output_type": "execute_result"
    }
   ],
   "source": [
    "print(\"Overall label proportion = %.1f%%\" % (labels_train.mean() * 100))\n",
    "\n",
    "group_stats = []\n",
    "for ii in range(num_groups):\n",
    "    group_proportion = groups_train[:, ii].mean()\n",
    "    group_pos_proportion = labels_train[groups_train[:, ii] == 1].mean()\n",
    "    group_stats.append([group_names[ii],\n",
    "                        \"%.2f%%\" % (group_proportion * 100),\n",
    "                        \"%.1f%%\" % (group_pos_proportion * 100)])\n",
    "group_stats = pd.DataFrame(group_stats,\n",
    "                           columns=[\"Topic group\", \"Group proportion\", \"Label proportion\"])\n",
    "group_stats"
   ]
  },
  {
   "cell_type": "markdown",
   "metadata": {
    "colab_type": "text",
    "id": "aG5ZKKrVWs9O"
   },
   "source": [
    "In particular, only 1.3% of the dataset contains comments related to sexuality. Among them, 37% of the comments have been annotated as being toxic. Note that this is significantly larger than the overall proportion of comments annotated as toxic."
   ]
  },
  {
   "cell_type": "markdown",
   "metadata": {
    "colab_type": "text",
    "id": "5DkJpKaLWs9P"
   },
   "source": [
    "## Build CNN/LSTM/BI-LSTM/LSTM_CNN/BI_LSTM_CNN toxicity prediction model"
   ]
  },
  {
   "cell_type": "markdown",
   "metadata": {
    "colab_type": "text",
    "id": "niJ4KIJgWs9Q"
   },
   "source": [
    "Having prepared the dataset, we now build a `Keras` model for prediction toxicity. The model we use is a convolutional neural network (CNN) with the same architecture used by the Conversation AI project for their debiasing analysis. We adapt <a href=\"https://github.com/conversationai/unintended-ml-bias-analysis/blob/master/unintended_ml_bias/model_tool.py\">code</a> provided by them to construct the model layers.\n",
    "\n",
    "The model uses an embedding layer to convert the text tokens to fixed-length vectors. This layer converts the input text sequence into a sequence of vectors, and passes them through several layers of convolution and pooling operations, followed by a final fully-connected layer.\n",
    "\n",
    "We make use of pre-trained GloVe word vector emebeddings, which we download below. This may take a few minutes to complete!"
   ]
  },
  {
   "cell_type": "code",
   "execution_count": 21,
   "metadata": {
    "colab": {},
    "colab_type": "code",
    "id": "yevbBL2oWs9Q"
   },
   "outputs": [],
   "source": [
    "zip_file_url = \"http://nlp.stanford.edu/data/glove.6B.zip\"\n",
    "zip_file = request.urlopen(zip_file_url)\n",
    "archive = zipfile.ZipFile(io.BytesIO(zip_file.read()))"
   ]
  },
  {
   "cell_type": "markdown",
   "metadata": {
    "colab_type": "text",
    "id": "a11-YWDnWs9S"
   },
   "source": [
    "We use the the downloaded GloVe embeddings to create an embedding matrix, where the rows contain the word embeddings for the tokens in the `Tokenizer`'s vocabulary. "
   ]
  },
  {
   "cell_type": "code",
   "execution_count": 22,
   "metadata": {
    "colab": {},
    "colab_type": "code",
    "id": "bBS74MMYWs9T"
   },
   "outputs": [],
   "source": [
    "embeddings_index = {}\n",
    "glove_file = \"glove.6B.100d.txt\"\n",
    "\n",
    "with archive.open(glove_file) as f:\n",
    "    for line in f:\n",
    "        values = line.split()\n",
    "        word = values[0].decode(\"utf-8\")\n",
    "        coefs = np.asarray(values[1:], dtype=\"float32\")\n",
    "        embeddings_index[word] = coefs\n",
    "\n",
    "embedding_matrix = np.zeros((len(tokenizer.word_index) + 1, hparams[\"embedding_dim\"]))\n",
    "num_words_in_embedding = 0\n",
    "for word, i in tokenizer.word_index.items():\n",
    "    embedding_vector = embeddings_index.get(word)\n",
    "    if embedding_vector is not None:\n",
    "        num_words_in_embedding += 1\n",
    "        embedding_matrix[i] = embedding_vector"
   ]
  },
  {
   "cell_type": "markdown",
   "metadata": {
    "colab_type": "text",
    "id": "t9NVp-_eWs9V"
   },
   "source": [
    "We are now ready to specify the `Keras` layers. We write a function to create a new model, which we will invoke whenever we wish to train a new model."
   ]
  },
  {
   "cell_type": "code",
   "execution_count": 24,
   "metadata": {
    "colab": {},
    "colab_type": "code",
    "id": "_f_DhA6OWs9W"
   },
   "outputs": [],
   "source": [
    "def build_cnn_model():\n",
    "    model = keras.Sequential()\n",
    "\n",
    "    # Embedding layer.\n",
    "    embedding_layer = layers.Embedding(\n",
    "        embedding_matrix.shape[0], embedding_matrix.shape[1], weights=[embedding_matrix],\n",
    "        input_length=hparams[\"max_sequence_length\"], trainable=hparams['embedding_trainable'])\n",
    "    model.add(embedding_layer)\n",
    "\n",
    "    # Convolution layers.\n",
    "    for filter_size, kernel_size, pool_size in zip(\n",
    "        hparams['cnn_filter_sizes'], hparams['cnn_kernel_sizes'], hparams['cnn_pooling_sizes']):\n",
    "\n",
    "        conv_layer = layers.Conv1D(filter_size, kernel_size, activation='relu', padding='same')\n",
    "        model.add(conv_layer)\n",
    "\n",
    "        pooled_layer = layers.MaxPooling1D(pool_size, padding='same')\n",
    "        model.add(pooled_layer)\n",
    "\n",
    "    # Add a flatten layer, a fully-connected layer and an output layer.\n",
    "    model.add(layers.Flatten())\n",
    "    model.add(layers.Dense(128, activation='relu'))\n",
    "    model.add(layers.Dense(1))\n",
    "\n",
    "    return model"
   ]
  },
  {
   "cell_type": "code",
   "execution_count": 25,
   "metadata": {},
   "outputs": [],
   "source": [
    "def build_lstm_model():  \n",
    "    # define the model\n",
    "    # Embedding layer.\n",
    "    model = keras.Sequential()\n",
    "    embedding_layer = layers.Embedding(\n",
    "        embedding_matrix.shape[0], embedding_matrix.shape[1], weights=[embedding_matrix],\n",
    "        input_length=hparams[\"max_sequence_length\"], trainable=hparams['embedding_trainable'])\n",
    "    model.add(embedding_layer)\n",
    "    model.add(layers.Flatten())\n",
    "    model.add(layers.Dense(128, activation='relu'))\n",
    "    model.add(layers.Dense(1))\n",
    "    return model"
   ]
  },
  {
   "cell_type": "code",
   "execution_count": 26,
   "metadata": {},
   "outputs": [],
   "source": [
    "def build_bi_lstm_model():  \n",
    "    # define the model\n",
    "    # Embedding layer.\n",
    "    model = keras.Sequential()\n",
    "    embedding_layer = layers.Embedding(\n",
    "        embedding_matrix.shape[0], embedding_matrix.shape[1], weights=[embedding_matrix],\n",
    "        input_length=hparams[\"max_sequence_length\"], trainable=hparams['embedding_trainable'])\n",
    "    model.add(embedding_layer)\n",
    "    model.add(SpatialDropout1D(0.2))\n",
    "    model.add(Bidirectional(LSTM(64, return_sequences=True)))\n",
    "    model.add(Bidirectional(LSTM(32)))\n",
    "    model.add(Dropout(0.25))\n",
    "    model.add(layers.Dense(1))\n",
    "    return model"
   ]
  },
  {
   "cell_type": "code",
   "execution_count": 23,
   "metadata": {},
   "outputs": [],
   "source": [
    "def build_lstm_cnn():\n",
    "    \n",
    "    model = keras.Sequential()\n",
    "    embedding_layer = layers.Embedding(\n",
    "        embedding_matrix.shape[0], embedding_matrix.shape[1], weights=[embedding_matrix],\n",
    "        input_length=hparams[\"max_sequence_length\"], trainable=hparams['embedding_trainable'])\n",
    "    model.add(embedding_layer)\n",
    "    \n",
    "    model.add(Dropout(0.2))\n",
    "    model.add(layers.Conv1D(64, 5, activation='relu'))\n",
    "    model.add(layers.MaxPooling1D(pool_size=4))\n",
    "    model.add(LSTM(100))\n",
    "    model.add(layers.Dense(128, activation='relu'))\n",
    "    model.add(layers.Dense(1))\n",
    "    return model"
   ]
  },
  {
   "cell_type": "code",
   "execution_count": 27,
   "metadata": {},
   "outputs": [],
   "source": [
    "def build_bi_lstm_cnn():\n",
    "    \n",
    "    model = keras.Sequential()\n",
    "    embedding_layer = layers.Embedding(\n",
    "        embedding_matrix.shape[0], embedding_matrix.shape[1], weights=[embedding_matrix],\n",
    "        input_length=hparams[\"max_sequence_length\"], trainable=hparams['embedding_trainable'])\n",
    "    model.add(embedding_layer)\n",
    "    \n",
    "    model.add(SpatialDropout1D(0.2))    \n",
    "    #model.add(layers.Conv1D(64, 5, activation='relu'))\n",
    "    conv_layer = layers.Conv1D(128, 5, activation='relu', padding='same')\n",
    "    model.add(conv_layer)\n",
    "    model.add(layers.MaxPooling1D(pool_size=5))\n",
    "    model.add(Bidirectional(LSTM(64, return_sequences=True)))\n",
    "    model.add(Bidirectional(LSTM(32)))\n",
    "    model.add(Dropout(0.25))\n",
    "    model.add(layers.Dense(1))\n",
    "    return model"
   ]
  },
  {
   "cell_type": "markdown",
   "metadata": {
    "colab_type": "text",
    "id": "X-_fKjDtWs9Y"
   },
   "source": [
    "## Evaluation and plotting functions"
   ]
  },
  {
   "cell_type": "markdown",
   "metadata": {
    "colab_type": "text",
    "id": "k009haGaWs9Z"
   },
   "source": [
    "Before proceeding to training the model, we will write functions to evaluate the overall error rate, the overall false negative rate and the overall false positive rate for the given labels and predictions. We also include functions to evaluate the false positive and false negative rates for individual groups."
   ]
  },
  {
   "cell_type": "code",
   "execution_count": 28,
   "metadata": {
    "colab": {},
    "colab_type": "code",
    "id": "JF8-ENxOWs9Z"
   },
   "outputs": [],
   "source": [
    "def error_rate(labels, predictions):\n",
    "    # Returns error rate for given labels and predictions.\n",
    "    # Recall that the labels are binary (0 or 1).\n",
    "    signed_labels = (labels * 2) - 1\n",
    "    return np.mean(signed_labels * predictions <= 0.0)\n",
    "\n",
    "\n",
    "def false_negative_rate(labels, predictions):\n",
    "    # Returns false negative rate for given labels and predictions.\n",
    "    if np.sum(labels > 0) == 0:  # Any positives?\n",
    "        return 0.0\n",
    "    else:\n",
    "        return np.mean(predictions[labels > 0] <= 0)\n",
    "\n",
    "\n",
    "def false_positive_rate(labels, predictions):\n",
    "    # Returns false positive rate for given labels and predictions.\n",
    "    if np.sum(labels <= 0) == 0:  # Any negatives?\n",
    "        return 0.0\n",
    "    else:\n",
    "        return np.mean(predictions[labels <= 0] > 0)\n",
    "\n",
    "\n",
    "def group_false_negative_rates(labels, predictions, groups):\n",
    "    # Returns list of per-group false negative rates for given labels,\n",
    "    # predictions and group membership matrix.\n",
    "    fnrs = []\n",
    "    for ii in range(groups.shape[1]):\n",
    "        labels_ii = labels[groups[:, ii] == 1]\n",
    "        if np.sum(labels_ii > 0) > 0:  # Any positives?\n",
    "            predictions_ii = predictions[groups[:, ii] == 1]\n",
    "            fnr_ii = np.mean(predictions_ii[labels_ii > 0] <= 0)\n",
    "        else:\n",
    "            fnr_ii = 0.0\n",
    "        fnrs.append(fnr_ii)\n",
    "    return fnrs\n",
    "\n",
    "\n",
    "def group_false_positive_rates(labels, predictions, groups):\n",
    "    # Returns list of per-group false positive rates for given labels,\n",
    "    # predictions and group membership matrix.\n",
    "    fprs = []\n",
    "    for ii in range(groups.shape[1]):\n",
    "        labels_ii = labels[groups[:, ii] == 1]\n",
    "        if np.sum(labels_ii <= 0) > 0:  # Any negatives?\n",
    "            predictions_ii = predictions[groups[:, ii] == 1]\n",
    "            fpr_ii = np.mean(predictions_ii[labels_ii <= 0] > 0)\n",
    "        else:\n",
    "            fpr_ii = 0.0\n",
    "        fprs.append(fpr_ii)\n",
    "    return fprs"
   ]
  },
  {
   "cell_type": "markdown",
   "metadata": {
    "colab_type": "text",
    "id": "lgScXhMUWs9c"
   },
   "source": [
    "We also write a function to generate a bar plot of the above metrics for given labels, predictions and group information. "
   ]
  },
  {
   "cell_type": "code",
   "execution_count": 29,
   "metadata": {
    "colab": {},
    "colab_type": "code",
    "id": "8xIRl8f4Ws9d"
   },
   "outputs": [],
   "source": [
    "# Set plot fonts.\n",
    "plt.rcParams['font.sans-serif'] = \"Liberation Sans\"\n",
    "plt.rcParams['font.family'] = \"sans-serif\"\n",
    "plt.rcParams['font.size'] = 13\n",
    "\n",
    "# Color-blind friendly color palette from https://gist.github.com/thriveth/8560036\n",
    "cb_palette = [\"#377eb8\", \"#ff7f00\", \"#4daf4a\", \"#f781bf\", \"#a65628\", \"#984ea3\",\n",
    "              \"#e41a1c\", \"#dede00\", \"#999999\"]"
   ]
  },
  {
   "cell_type": "code",
   "execution_count": 30,
   "metadata": {
    "colab": {},
    "colab_type": "code",
    "id": "W3Sp7mpsWs9f"
   },
   "outputs": [],
   "source": [
    "def plot_metrics(labels, predictions, groups, group_names, title):\n",
    "    # Plot overall FPR, overall FNR, per-group FPRs, per-group FNRs for given labels,\n",
    "    # predictions, group membership matrix, group names, and plot title.\n",
    "\n",
    "    # Evaluate all the above metrics.\n",
    "    overall_error = error_rate(labels, predictions)\n",
    "    overall_fpr = false_positive_rate(labels, predictions)\n",
    "    overall_fnr = false_negative_rate(labels, predictions)\n",
    "    group_fprs = group_false_positive_rates(labels, predictions, groups)\n",
    "    group_fnrs = group_false_negative_rates(labels, predictions, groups)\n",
    "\n",
    "    # Plot bar plot overall and per-group FPRs and FNRs.\n",
    "    fig, ax = plt.subplots(1, 2, figsize=(8, 3))\n",
    "\n",
    "    fpr_percentages = [x * 100 for x in [overall_fpr] + group_fprs]\n",
    "    fnr_percentages = [x * 100 for x in [overall_fnr] + group_fnrs]\n",
    "\n",
    "    ax[0].barh(-np.arange(len(group_names) + 1), fpr_percentages, color=cb_palette)\n",
    "    ax[0].set_yticks(-np.arange(len(group_names) + 1))\n",
    "    ax[0].set_yticklabels([\"overall\"] + group_names)\n",
    "    ax[0].set_xlabel(\"False Positive Rate %\")\n",
    "    ax[0].set_xlim([0, max(10, max(fpr_percentages) + 1)])\n",
    "\n",
    "    ax[1].barh(-np.arange(len(group_names) + 1), fnr_percentages, color=cb_palette)\n",
    "    ax[1].set_yticks(-np.arange(len(group_names) + 1))\n",
    "    ax[1].set_yticklabels([\"overall\"] + group_names)\n",
    "    ax[1].set_xlabel(\"False Negative Rate %\")\n",
    "    ax[1].set_xlim([0, max(fnr_percentages) + 1])\n",
    "\n",
    "    fig.tight_layout()\n",
    "\n",
    "    # Specify accuracy rate in the plot title.\n",
    "    fig.suptitle(title + \": Accuracy = %.2f%%\" % ((1 - overall_error) * 100),\n",
    "                 x=0.55, y=1.1)"
   ]
  },
  {
   "cell_type": "markdown",
   "metadata": {
    "colab_type": "text",
    "id": "8aWNc4CdWs9h"
   },
   "source": [
    "## Train unconstrained model"
   ]
  },
  {
   "cell_type": "markdown",
   "metadata": {
    "colab_type": "text",
    "id": "DuSA8qL7Ws9i"
   },
   "source": [
    "For the first model we train, we optimize a simple cross-entropy loss *without* any constraints.\n",
    "\n",
    "**Note**: The following code cell may take several minutes to run."
   ]
  },
  {
   "cell_type": "code",
   "execution_count": null,
   "metadata": {
    "colab": {
     "base_uri": "https://localhost:8080/",
     "height": 119
    },
    "colab_type": "code",
    "id": "C9O4h6dOWs9r",
    "outputId": "cc34a425-ba55-43c1-df7d-e041ab5a1ff5"
   },
   "outputs": [],
   "source": [
    "# Set random seed for reproducible results.\n",
    "np.random.seed(121212)\n",
    "tf.compat.v1.random.set_random_seed(212121)\n",
    "\n",
    "# Optimizer and loss.\n",
    "optimizer = tf.keras.optimizers.Adam(learning_rate=hparams[\"learning_rate\"])\n",
    "loss = lambda y_true, y_pred: tf.keras.losses.binary_crossentropy(\n",
    "    y_true, y_pred, from_logits=True)\n",
    "\n",
    "# Create, compile and fit model.\n",
    "if(MODEL_TYPE == 'CNN'):\n",
    "    model_unconstrained = build_cnn_model()\n",
    "if(MODEL_TYPE == 'LSTM'):\n",
    "    model_unconstrained = build_lstm_model()\n",
    "if(MODEL_TYPE == 'BILSTM'):\n",
    "    model_unconstrained = build_bi_lstm_model()\n",
    "if(MODEL_TYPE == 'CNN_LSTM'):\n",
    "    model_unconstrained = build_lstm_cnn()\n",
    "if(MODEL_TYPE == 'CNN_BILSTM'):\n",
    "    model_unconstrained = build_bi_lstm_cnn()\n",
    "    \n",
    "model_unconstrained.compile(optimizer=optimizer, loss=loss)\n",
    "model_unconstrained.fit(\n",
    "    x=text_train, y=labels_train, batch_size=hparams[\"batch_size\"], epochs=2)"
   ]
  },
  {
   "cell_type": "markdown",
   "metadata": {},
   "source": [
    "# CNN"
   ]
  },
  {
   "cell_type": "code",
   "execution_count": 32,
   "metadata": {
    "scrolled": true
   },
   "outputs": [
    {
     "name": "stderr",
     "output_type": "stream",
     "text": [
      "WARNING: Logging before flag parsing goes to stderr.\n",
      "W0621 17:17:45.433134 4751881664 font_manager.py:1282] findfont: Font family ['sans-serif'] not found. Falling back to DejaVu Sans.\n",
      "W0621 17:17:45.554798 4751881664 font_manager.py:1282] findfont: Font family ['sans-serif'] not found. Falling back to DejaVu Sans.\n"
     ]
    },
    {
     "data": {
      "image/png": "[encoded data removed]",
      "text/plain": [
       "<Figure size 576x216 with 2 Axes>"
      ]
     },
     "metadata": {
      "needs_background": "light"
     },
     "output_type": "display_data"
    }
   ],
   "source": [
    "scores_unconstrained_test = model_unconstrained.predict(text_test)\n",
    "plot_metrics(labels_test, scores_unconstrained_test, groups_test, group_names,\n",
    "             \"CNN Unconstrained Model\")"
   ]
  },
  {
   "cell_type": "markdown",
   "metadata": {},
   "source": [
    "# Bi-Directional LSTM"
   ]
  },
  {
   "cell_type": "code",
   "execution_count": 112,
   "metadata": {},
   "outputs": [
    {
     "data": {
      "image/png": "[encoded data removed]",
      "text/plain": [
       "<Figure size 576x216 with 2 Axes>"
      ]
     },
     "metadata": {
      "needs_background": "light"
     },
     "output_type": "display_data"
    }
   ],
   "source": [
    "scores_unconstrained_test = model_unconstrained.predict(text_test)\n",
    "plot_metrics(labels_test, scores_unconstrained_test, groups_test, group_names,\n",
    "             \"BI-LSTM Unconstrained Model\")"
   ]
  },
  {
   "cell_type": "markdown",
   "metadata": {
    "colab_type": "text",
    "id": "p7AvIdktWs9t"
   },
   "source": [
    "Having trained the unconstrained model, we plot various evaluation metrics for the model on the test set."
   ]
  },
  {
   "cell_type": "markdown",
   "metadata": {},
   "source": [
    "# Simple LSTM"
   ]
  },
  {
   "cell_type": "code",
   "execution_count": 80,
   "metadata": {},
   "outputs": [
    {
     "data": {
      "image/png": "[encoded data removed]",
      "text/plain": [
       "<Figure size 576x216 with 2 Axes>"
      ]
     },
     "metadata": {
      "needs_background": "light"
     },
     "output_type": "display_data"
    }
   ],
   "source": [
    "scores_unconstrained_test = model_unconstrained.predict(text_test)\n",
    "plot_metrics(labels_test, scores_unconstrained_test, groups_test, group_names,\n",
    "             \"LSTM Unconstrained Model\")"
   ]
  },
  {
   "cell_type": "raw",
   "metadata": {
    "colab_type": "text",
    "id": "fhTCSc9pWs9v"
   },
   "source": [
    "While the overall false positive rate is less than 2%, the false positive rate on the sexuality-related comments is significantly higher. This is because the sexuality group is very small in size, and has a disproportionately higher fraction of comments annotated as toxic. Hence, training a model without constraints results in the model believing that sexuality-related terms are a strong indicator of toxicity."
   ]
  },
  {
   "cell_type": "markdown",
   "metadata": {
    "colab_type": "text",
    "id": "KmxyAo9hWs9w"
   },
   "source": [
    "## Train with constraints on false positive rates"
   ]
  },
  {
   "cell_type": "markdown",
   "metadata": {
    "colab_type": "text",
    "id": "l3dYUchIWs9w"
   },
   "source": [
    "To avoid large differences in false positive rates across different groups, we\n",
    "next train a model by constraining the false positive rates for each group to be within a desired limit. Specifically, we optimize the error rate of the model subject to the *per-group false positive rates being lesser or equal to 2%*.\n",
    "\n",
    "Performing minibatch training with per-group constraints can however be challenging for this dataset, as the groups we wish to constraint are all small in size, and its likely that the individual minibatches contains very few examples from each group. Hence the gradients we compute during training will be noisy, and result in the model converging very slowly.\n",
    "\n",
    "To mitigate this problem, we recommend using two streams of minibatches, with the first stream formed as before from the entire training set, and the second stream formed solely from the sensitive group examples. We will compute the objective using minibatches from the first stream and the per-group constraints using minibatches from the second stream. Because the batches from the second stream are likely to contain larger number of examples from each group, we expect our updates to be less noisy. This strategy is similar to the one described in the <a href=\"https://github.com/google-research/tensorflow_constrained_optimization/tree/master/examples/jupyter/Minibatch_training.ipynb\">Minibatch_training.ipynb</a> notebook.\n",
    "\n",
    "We create separate features, labels and groups tensors to hold the minibatches from the two streams."
   ]
  },
  {
   "cell_type": "code",
   "execution_count": 113,
   "metadata": {
    "colab": {},
    "colab_type": "code",
    "id": "vMuuTOEOWs9x"
   },
   "outputs": [],
   "source": [
    "# Set random seed.\n",
    "np.random.seed(121212)\n",
    "tf.compat.v1.random.set_random_seed(212121)\n",
    "\n",
    "# Features tensors.\n",
    "batch_shape = (hparams[\"batch_size\"], hparams['max_sequence_length'])\n",
    "features_tensor = tf.Variable(np.zeros(batch_shape, dtype='int32'), name='x')\n",
    "features_tensor_sen = tf.Variable(np.zeros(batch_shape, dtype='int32'), name='x_sen')\n",
    "\n",
    "# Labels tensors.\n",
    "batch_shape = (hparams[\"batch_size\"], 1)\n",
    "labels_tensor = tf.Variable(np.zeros(batch_shape, dtype='float32'), name='labels')\n",
    "labels_tensor_sen = tf.Variable(np.zeros(batch_shape, dtype='float32'), name='labels_sen')\n",
    "\n",
    "# Groups tensors.\n",
    "batch_shape = (hparams[\"batch_size\"], num_groups)\n",
    "groups_tensor_sen = tf.Variable(np.zeros(batch_shape, dtype='float32'), name='groups_sen')"
   ]
  },
  {
   "cell_type": "markdown",
   "metadata": {
    "colab_type": "text",
    "id": "-wh26V7nWs9z"
   },
   "source": [
    "We instantiate a new model, and compute predictions for minibatches from the two streams."
   ]
  },
  {
   "cell_type": "code",
   "execution_count": 114,
   "metadata": {
    "colab": {},
    "colab_type": "code",
    "id": "kawyrkQIWs9z"
   },
   "outputs": [],
   "source": [
    "# Create model, and separate prediction functions for the two streams.\n",
    "# For the predictions, we use a nullary function returning a Tensor to support eager mode.\n",
    "# Create, compile and fit model.\n",
    "if(MODEL_TYPE == 'CNN'):\n",
    "    model_constrained = build_cnn_model()\n",
    "if(MODEL_TYPE == 'LSTM'):\n",
    "    model_constrained = build_lstm_model()\n",
    "if(MODEL_TYPE == 'BILSTM'):\n",
    "    model_constrained = build_bi_lstm_model()\n",
    "if(MODEL_TYPE == 'CNN_LSTM'):\n",
    "    model_constrained = build_lstm_cnn()\n",
    "if(MODEL_TYPE == 'CNN_BILSTM'):\n",
    "    model_constrained = build_bi_lstm_cnn()\n",
    "\n",
    "def predictions():\n",
    "  return model_constrained(features_tensor)\n",
    "\n",
    "def predictions_sen():\n",
    "  return model_constrained(features_tensor_sen)"
   ]
  },
  {
   "cell_type": "markdown",
   "metadata": {
    "colab_type": "text",
    "id": "UG9t7dw1Ws91"
   },
   "source": [
    "We then set up a constrained optimization problem with the error rate as the objective and with constraints on the per-group false positive rate."
   ]
  },
  {
   "cell_type": "code",
   "execution_count": 115,
   "metadata": {
    "colab": {},
    "colab_type": "code",
    "id": "EhKAMGSJWs93"
   },
   "outputs": [],
   "source": [
    "epsilon = 0.02  # Desired false-positive rate threshold.\n",
    "\n",
    "# Set up separate contexts for the two minibatch streams.\n",
    "context = tfco.rate_context(predictions, lambda: labels_tensor)\n",
    "context_sen = tfco.rate_context(predictions_sen, lambda: labels_tensor_sen)\n",
    "\n",
    "# Compute the objective using the first stream.\n",
    "objective = tfco.error_rate(context)\n",
    "\n",
    "# Compute the constraints using the second stream.\n",
    "# For each group, subset the examples belonging to that group from the second stream,\n",
    "# and add a constraint on the group's false positive rate.\n",
    "constraints = []\n",
    "for ii in range(num_groups):\n",
    "    context_sen_subset = context_sen.subset(\n",
    "        lambda kk=ii: groups_tensor_sen[:, kk] > 0)\n",
    "    # We pass the group index ii as a default argument to the the function, so\n",
    "    # that the function retains a local copy of this variable, and is unaffected\n",
    "    # by changes to the variable outside the function.\n",
    "    constraints.append(\n",
    "        tfco.false_positive_rate(context_sen_subset) <= epsilon)\n",
    "\n",
    "# Create a rate minimization problem.\n",
    "problem = tfco.RateMinimizationProblem(objective, constraints)\n",
    "\n",
    "# Set up a constrained optimizer.\n",
    "optimizer = tfco.ProxyLagrangianOptimizerV2(\n",
    "    optimizer=tf.keras.optimizers.Adam(learning_rate=hparams[\"learning_rate\"]),\n",
    "    num_constraints=problem.num_constraints)\n",
    "\n",
    "# List of variables to optimize include the model weights,\n",
    "# and the trainable variables from the rate minimization problem and\n",
    "# the constrained optimizer.\n",
    "var_list = (model_constrained.trainable_weights + problem.trainable_variables +\n",
    "            optimizer.trainable_variables())"
   ]
  },
  {
   "cell_type": "markdown",
   "metadata": {
    "colab_type": "text",
    "id": "CoFWd8wMWs94"
   },
   "source": [
    "We are ready to train the model. We maintain a separate counter for the two minibatch streams. Every time we perform a gradient update, we will have to copy the minibatch contents from the first stream to the tensors `features_tensor` and `labels_tensor`, and the minibatch contents from the second stream to the tensors `features_tensor_sen`, `labels_tensor_sen` and `groups_tensor_sen`.\n",
    "\n",
    "Also note since we are solving a constrained optimization problem, the final iterate from training  may not always be the best solution, and an intermediate iterate may do a better job of optimizing objective while satisfying the constraints. So, we periodically snapshot the model parameters and evaluate its performance on the validation set. At the end of training, we choose the best iterate from the recorded snapshots using a heuristic provided the TF constrained optimization library.\n",
    "\n",
    "**Note**: The following code cell may take several minutes to run."
   ]
  },
  {
   "cell_type": "code",
   "execution_count": 116,
   "metadata": {
    "colab": {
     "base_uri": "https://localhost:8080/",
     "height": 34
    },
    "colab_type": "code",
    "id": "mHiCT2Qet1n9",
    "outputId": "3faa9c91-507f-4900-9454-32e8a3c366e1"
   },
   "outputs": [
    {
     "name": "stdout",
     "output_type": "stream",
     "text": [
      "Iteration 3525 / 3525: Elapsed time = 58082 secs, Error = 0.061, Violation = -0.015 "
     ]
    }
   ],
   "source": [
    "# Create temporary directory to record model snapshots.\n",
    "temp_directory = tempfile.mktemp()\n",
    "os.mkdir(temp_directory)\n",
    "\n",
    "# Indices of sensitive group members.\n",
    "protected_group_indices = np.nonzero(groups_train.sum(axis=1))[0]\n",
    "\n",
    "num_examples = text_train.shape[0]\n",
    "num_examples_sen = protected_group_indices.shape[0]\n",
    "batch_size = hparams[\"batch_size\"]\n",
    "\n",
    "# Number of steps needed for one epoch over the training sample.\n",
    "num_steps = int(num_examples / batch_size)\n",
    "\n",
    "# Number of steps to skip before check-pointing the current model.\n",
    "skip_steps = int(num_steps / 10)\n",
    "\n",
    "# List of recorded objectives and constrained violations.\n",
    "objectives_list = []\n",
    "violations_list = []\n",
    "\n",
    "start_time = time.time()\n",
    "\n",
    "# Loop over minibatches.\n",
    "for batch_index in range(num_steps):\n",
    "    # Indices for current minibatch in the first stream.\n",
    "    batch_indices = np.arange(batch_index * batch_size, (batch_index + 1) * batch_size)\n",
    "    batch_indices = [ind % num_examples for ind in batch_indices]\n",
    "\n",
    "    # Indices for current minibatch in the second stream.\n",
    "    batch_indices_sen = np.arange(batch_index * batch_size, (batch_index + 1) * batch_size)\n",
    "    batch_indices_sen = [protected_group_indices[ind % num_examples_sen]\n",
    "                         for ind in batch_indices_sen]\n",
    "\n",
    "    # Assign features, labels, groups from the minibatches to the respective tensors.\n",
    "    features_tensor.assign(text_train[batch_indices, :])\n",
    "    labels_tensor.assign(labels_train[batch_indices])\n",
    "\n",
    "    features_tensor_sen.assign(text_train[batch_indices_sen, :])\n",
    "    labels_tensor_sen.assign(labels_train[batch_indices_sen])\n",
    "    groups_tensor_sen.assign(groups_train[batch_indices_sen, :])\n",
    "\n",
    "    # Gradient update.\n",
    "    optimizer.minimize(problem, var_list=var_list)\n",
    "\n",
    "    # Once in every skip_steps iterations, snapshot model parameters\n",
    "    # and evaluate objective and constraint violations on validation set.\n",
    "    if batch_index % skip_steps == 0:\n",
    "        # Evaluate model on validation set.\n",
    "        scores_vali = model_constrained.predict(text_vali)\n",
    "\n",
    "        error = error_rate(labels_vali, scores_vali)  # Error rate\n",
    "        group_fprs = group_false_positive_rates(\n",
    "            labels_vali, scores_vali, groups_vali)\n",
    "        violations = [z - epsilon for z in group_fprs]  # FPR constraint violations\n",
    "\n",
    "        objectives_list.append(error)\n",
    "        violations_list.append(violations)\n",
    "\n",
    "        # Save model weights to temporary directory.\n",
    "        model_constrained.save_weights(\n",
    "            temp_directory + \"constrained_\" +\n",
    "            str(int(batch_index / skip_steps)) + \".h5\")\n",
    "\n",
    "    # Display most recently recorded objective and max violation in constraints.\n",
    "    elapsed_time = time.time() - start_time\n",
    "    sys.stdout.write(\n",
    "        \"\\rIteration %d / %d: Elapsed time = %d secs, Error = %.3f, Violation = %.3f \" %\n",
    "        (batch_index + 1, num_steps, elapsed_time, objectives_list[-1], \n",
    "         max(violations_list[-1])))\n",
    "\n",
    "# Select the beszt model from the recorded iterates using TFCO's find best\n",
    "# candidates heuristic.\n",
    "best_index = tfco.find_best_candidate_index(\n",
    "    np.array(objectives_list), np.array(violations_list), rank_objectives=False)\n",
    "\n",
    "# Load model weights for the best iterate from the snapshots saved previously.\n",
    "model_constrained.load_weights(\n",
    "    temp_directory + \"constrained_\" + str(best_index) + \".h5\")"
   ]
  },
  {
   "cell_type": "markdown",
   "metadata": {
    "colab_type": "text",
    "id": "DdJfplDpWs97"
   },
   "source": [
    "Having trained the constrained model, we plot various evaluation metrics for the model on the test set."
   ]
  },
  {
   "cell_type": "markdown",
   "metadata": {},
   "source": [
    "# CNN"
   ]
  },
  {
   "cell_type": "code",
   "execution_count": 76,
   "metadata": {
    "colab": {
     "base_uri": "https://localhost:8080/",
     "height": 254
    },
    "colab_type": "code",
    "id": "h1jRbseosqxQ",
    "outputId": "9fe38e95-32ff-45c0-ee3d-46641b12aa97"
   },
   "outputs": [
    {
     "data": {
      "image/png": "[encoded data removed]",
      "text/plain": [
       "<Figure size 576x216 with 2 Axes>"
      ]
     },
     "metadata": {
      "needs_background": "light"
     },
     "output_type": "display_data"
    }
   ],
   "source": [
    "scores_constrained_test = model_constrained.predict(text_test)\n",
    "plot_metrics(labels_test, scores_constrained_test, groups_test, group_names,\n",
    "             \"CNN Constrained Model\")"
   ]
  },
  {
   "cell_type": "markdown",
   "metadata": {
    "colab_type": "text",
    "id": "EfKo5O3QWs9-"
   },
   "source": [
    "Below, we present a side-by-side comparison of the plots for the unconstrained and constrained models."
   ]
  },
  {
   "cell_type": "code",
   "execution_count": 77,
   "metadata": {
    "colab": {
     "base_uri": "https://localhost:8080/",
     "height": 219
    },
    "colab_type": "code",
    "id": "IFLLircZWs9-",
    "outputId": "b84e2351-dd4b-4352-d823-3275c02d3030"
   },
   "outputs": [
    {
     "data": {
      "image/png": "[encoded data removed]",
      "text/plain": [
       "<Figure size 576x216 with 2 Axes>"
      ]
     },
     "metadata": {
      "needs_background": "light"
     },
     "output_type": "display_data"
    }
   ],
   "source": [
    "# Evaluate all evaluation metrics.\n",
    "overall_error1 = error_rate(labels_test, scores_unconstrained_test)\n",
    "overall_error2 = error_rate(labels_test, scores_constrained_test)\n",
    "\n",
    "overall_fpr1 = false_positive_rate(labels_test, scores_unconstrained_test)\n",
    "overall_fpr2 = false_positive_rate(labels_test, scores_constrained_test)\n",
    "\n",
    "group_fprs1 = group_false_positive_rates(labels_test, scores_unconstrained_test, groups_test)\n",
    "group_fprs2 = group_false_positive_rates(labels_test, scores_constrained_test, groups_test)\n",
    "\n",
    "# Plot FPRs and FNRs.\n",
    "fig, ax = plt.subplots(1, 2, figsize=(8, 3))\n",
    "\n",
    "fpr_percentages1 = [x * 100 for x in [overall_fpr1] + group_fprs1]\n",
    "fpr_percentages2 = [x * 100 for x in [overall_fpr2] + group_fprs2]\n",
    "\n",
    "ax[0].barh(-np.arange(len(group_names) + 1), fpr_percentages1, color=cb_palette)\n",
    "ax[0].set_yticks(-np.arange(len(group_names) + 1))\n",
    "ax[0].set_yticklabels([\"overall\"] + group_names)\n",
    "ax[0].set_xlabel(\"False Positive Rate %\")\n",
    "ax[0].set_xlim([0, max(10, max(fpr_percentages1) + 1)])\n",
    "ax[0].set_title(\"CNN Unconstrained Model\\nAccuracy = %.2f%%\" % ((1 - overall_error1) * 100),\n",
    "                fontsize=13)\n",
    "\n",
    "ax[1].barh(-np.arange(len(group_names) + 1), fpr_percentages2, color=cb_palette)\n",
    "ax[1].set_yticks(-np.arange(len(group_names) + 1))\n",
    "ax[1].set_yticklabels([\"overall\"] + group_names)\n",
    "ax[1].set_xlabel(\"False Positive Rate %\")\n",
    "ax[1].set_xlim([0, max(10, max(fpr_percentages2) + 1)])\n",
    "ax[1].set_title(\"CNN Constrained Model\\nAccuracy = %.2f%%\" % ((1 - overall_error2) * 100),\n",
    "                fontsize=13)\n",
    "\n",
    "fig.tight_layout()"
   ]
  },
  {
   "cell_type": "markdown",
   "metadata": {},
   "source": [
    "# LSTM"
   ]
  },
  {
   "cell_type": "code",
   "execution_count": 85,
   "metadata": {},
   "outputs": [
    {
     "data": {
      "image/png": "[encoded data removed]",
      "text/plain": [
       "<Figure size 576x216 with 2 Axes>"
      ]
     },
     "metadata": {
      "needs_background": "light"
     },
     "output_type": "display_data"
    }
   ],
   "source": [
    "scores_constrained_test = model_constrained.predict(text_test)\n",
    "plot_metrics(labels_test, scores_constrained_test, groups_test, group_names,\n",
    "             \"LSTM Constrained Model\")"
   ]
  },
  {
   "cell_type": "code",
   "execution_count": 86,
   "metadata": {},
   "outputs": [
    {
     "data": {
      "image/png": "[encoded data removed]",
      "text/plain": [
       "<Figure size 576x216 with 2 Axes>"
      ]
     },
     "metadata": {
      "needs_background": "light"
     },
     "output_type": "display_data"
    }
   ],
   "source": [
    "# Evaluate all evaluation metrics.\n",
    "overall_error1 = error_rate(labels_test, scores_unconstrained_test)\n",
    "overall_error2 = error_rate(labels_test, scores_constrained_test)\n",
    "\n",
    "overall_fpr1 = false_positive_rate(labels_test, scores_unconstrained_test)\n",
    "overall_fpr2 = false_positive_rate(labels_test, scores_constrained_test)\n",
    "\n",
    "group_fprs1 = group_false_positive_rates(labels_test, scores_unconstrained_test, groups_test)\n",
    "group_fprs2 = group_false_positive_rates(labels_test, scores_constrained_test, groups_test)\n",
    "\n",
    "# Plot FPRs and FNRs.\n",
    "fig, ax = plt.subplots(1, 2, figsize=(8, 3))\n",
    "\n",
    "fpr_percentages1 = [x * 100 for x in [overall_fpr1] + group_fprs1]\n",
    "fpr_percentages2 = [x * 100 for x in [overall_fpr2] + group_fprs2]\n",
    "\n",
    "ax[0].barh(-np.arange(len(group_names) + 1), fpr_percentages1, color=cb_palette)\n",
    "ax[0].set_yticks(-np.arange(len(group_names) + 1))\n",
    "ax[0].set_yticklabels([\"overall\"] + group_names)\n",
    "ax[0].set_xlabel(\"False Positive Rate %\")\n",
    "ax[0].set_xlim([0, max(10, max(fpr_percentages1) + 1)])\n",
    "ax[0].set_title(\"LSTM Unconstrained Model\\nAccuracy = %.2f%%\" % ((1 - overall_error1) * 100),\n",
    "                fontsize=13)\n",
    "\n",
    "ax[1].barh(-np.arange(len(group_names) + 1), fpr_percentages2, color=cb_palette)\n",
    "ax[1].set_yticks(-np.arange(len(group_names) + 1))\n",
    "ax[1].set_yticklabels([\"overall\"] + group_names)\n",
    "ax[1].set_xlabel(\"False Positive Rate %\")\n",
    "ax[1].set_xlim([0, max(10, max(fpr_percentages2) + 1)])\n",
    "ax[1].set_title(\"LSTM Constrained Model\\nAccuracy = %.2f%%\" % ((1 - overall_error2) * 100),\n",
    "                fontsize=13)\n",
    "\n",
    "fig.tight_layout()"
   ]
  },
  {
   "cell_type": "markdown",
   "metadata": {},
   "source": [
    "# BI-LSTM"
   ]
  },
  {
   "cell_type": "code",
   "execution_count": 117,
   "metadata": {},
   "outputs": [
    {
     "data": {
      "image/png": "[encoded data removed]",
      "text/plain": [
       "<Figure size 576x216 with 2 Axes>"
      ]
     },
     "metadata": {
      "needs_background": "light"
     },
     "output_type": "display_data"
    }
   ],
   "source": [
    "scores_constrained_test = model_constrained.predict(text_test)\n",
    "plot_metrics(labels_test, scores_constrained_test, groups_test, group_names,\n",
    "             \"BI-LSTM Constrained Model\")"
   ]
  },
  {
   "cell_type": "code",
   "execution_count": 118,
   "metadata": {},
   "outputs": [
    {
     "data": {
      "image/png": "[encoded data removed]",
      "text/plain": [
       "<Figure size 576x216 with 2 Axes>"
      ]
     },
     "metadata": {
      "needs_background": "light"
     },
     "output_type": "display_data"
    }
   ],
   "source": [
    "# Evaluate all evaluation metrics.\n",
    "overall_error1 = error_rate(labels_test, scores_unconstrained_test)\n",
    "overall_error2 = error_rate(labels_test, scores_constrained_test)\n",
    "\n",
    "overall_fpr1 = false_positive_rate(labels_test, scores_unconstrained_test)\n",
    "overall_fpr2 = false_positive_rate(labels_test, scores_constrained_test)\n",
    "\n",
    "group_fprs1 = group_false_positive_rates(labels_test, scores_unconstrained_test, groups_test)\n",
    "group_fprs2 = group_false_positive_rates(labels_test, scores_constrained_test, groups_test)\n",
    "\n",
    "# Plot FPRs and FNRs.\n",
    "fig, ax = plt.subplots(1, 2, figsize=(8, 3))\n",
    "\n",
    "fpr_percentages1 = [x * 100 for x in [overall_fpr1] + group_fprs1]\n",
    "fpr_percentages2 = [x * 100 for x in [overall_fpr2] + group_fprs2]\n",
    "\n",
    "ax[0].barh(-np.arange(len(group_names) + 1), fpr_percentages1, color=cb_palette)\n",
    "ax[0].set_yticks(-np.arange(len(group_names) + 1))\n",
    "ax[0].set_yticklabels([\"overall\"] + group_names)\n",
    "ax[0].set_xlabel(\"False Positive Rate %\")\n",
    "ax[0].set_xlim([0, max(10, max(fpr_percentages1) + 1)])\n",
    "ax[0].set_title(\"BI-LSTM Unconstrained Model\\nAccuracy = %.2f%%\" % ((1 - overall_error1) * 100),\n",
    "                fontsize=13)\n",
    "\n",
    "ax[1].barh(-np.arange(len(group_names) + 1), fpr_percentages2, color=cb_palette)\n",
    "ax[1].set_yticks(-np.arange(len(group_names) + 1))\n",
    "ax[1].set_yticklabels([\"overall\"] + group_names)\n",
    "ax[1].set_xlabel(\"False Positive Rate %\")\n",
    "ax[1].set_xlim([0, max(10, max(fpr_percentages2) + 1)])\n",
    "ax[1].set_title(\"BI-LSTM Constrained Model\\nAccuracy = %.2f%%\" % ((1 - overall_error2) * 100),\n",
    "                fontsize=13)\n",
    "\n",
    "fig.tight_layout()"
   ]
  },
  {
   "cell_type": "markdown",
   "metadata": {
    "colab_type": "text",
    "id": "IxshklMhWs-B"
   },
   "source": [
    "Compared to the unconstrained model, the constrained model yields significantly lower false positive rates for the sexuality-related comments, and does so with only a slight dip in the overall accuracy."
   ]
  },
  {
   "cell_type": "markdown",
   "metadata": {
    "colab_type": "text",
    "id": "ojUJFvHpWs-B"
   },
   "source": [
    "## Train with robust optimization"
   ]
  },
  {
   "cell_type": "markdown",
   "metadata": {
    "colab_type": "text",
    "id": "sjaERfx_Ws-C"
   },
   "source": [
    "We have seen that by using constrained optimization, we can learn a model that has low false positive rates (FPRs) for all groups. However, the models we have trained so far all have high false negative rates (FNRs). We could try training a model with additional constraints on the per-group FNRs, but this is likely to overconstrain the model and produce a trivial solution, such as e.g. a model that makes the same prediction on all inputs.\n",
    "\n",
    "Instead, a more reasonable solution would be to train a model by optimizing for the worst-case  metric, i.e. minimizing the worst among all the metrics we care about. In the following, we seek to optimize the mean of the worst-case FPR and the worst-case FNR, i.e. the mean of the maximum among *the overall FPR* and *the FPRs for individual groups*, and the maximum among *the overall FNR* and *the FNRs for individual groups*. More formally, this can be stated as:\n",
    "\n",
    "$$\n",
    "minimize \\text{       }\\frac{1}{2}max\\big\\{OverallFPR, FPR(sexuality), \\ldots\\big\\} + \\frac{1}{2}\\max\\big\\{OverallFNR, FNR(sexuality), \\ldots\\big\\}.\n",
    "$$\n",
    "\n",
    "Since the goal here is to be robust to a set of different evaluation metrics, problems of this form are often referred to as *robust optimization problems*.\n",
    "\n",
    "Below, we solve the above robust optimization problem using the TF constrained optimization library. We once again use two streams of minibatches to better handle the small group sizes."
   ]
  },
  {
   "cell_type": "code",
   "execution_count": 119,
   "metadata": {
    "colab": {},
    "colab_type": "code",
    "id": "Ei947kcxWs-D"
   },
   "outputs": [],
   "source": [
    "# Set random seed.\n",
    "np.random.seed(121212)\n",
    "#tf.compat.v1.random.set_random_seed(212121)\n",
    "\n",
    "# Features tensor.\n",
    "batch_shape = (hparams[\"batch_size\"], hparams['max_sequence_length'])\n",
    "features_tensor = tf.Variable(np.zeros(batch_shape, dtype='int32'), name='x')\n",
    "features_tensor_sen = tf.Variable(np.zeros(batch_shape, dtype='int32'), name='x_sen')\n",
    "\n",
    "# Label tensors.\n",
    "batch_shape = (hparams[\"batch_size\"], 1)\n",
    "labels_tensor = tf.Variable(np.zeros(batch_shape, dtype='float32'), name='labels')\n",
    "labels_tensor_sen = tf.Variable(np.zeros(batch_shape, dtype='float32'), name='labels_sen')\n",
    "\n",
    "# Group tensors.\n",
    "batch_shape = (hparams[\"batch_size\"], num_groups)\n",
    "groups_tensor_sen = tf.Variable(np.zeros(batch_shape, dtype='float32'), name='groups_sen')\n",
    "\n",
    "# Create model and predictions functions.\n",
    "if(MODEL_TYPE == 'CNN'):\n",
    "    model_robust = build_cnn_model()\n",
    "if(MODEL_TYPE == 'LSTM'):\n",
    "    model_robust = build_lstm_model()\n",
    "if(MODEL_TYPE == 'BILSTM'):\n",
    "    model_robust = build_bi_lstm_model()\n",
    "if(MODEL_TYPE == 'CNN_LSTM'):\n",
    "    model_robust = build_lstm_cnn()\n",
    "if(MODEL_TYPE == 'CNN_BILSTM'):\n",
    "    model_robust = build_bi_lstm_cnn()\n",
    "\n",
    "def predictions():\n",
    "  return model_robust(features_tensor)\n",
    "\n",
    "def predictions_sen():\n",
    "  return model_robust(features_tensor_sen)"
   ]
  },
  {
   "cell_type": "markdown",
   "metadata": {
    "colab_type": "text",
    "id": "5Uc6biFCWs-F"
   },
   "source": [
    "We formulate a rate minimization problem by creating a list of rate metrics we are interested in and using `tfco.upper_bound` to define the maximum of these metrics as the optimization objective."
   ]
  },
  {
   "cell_type": "code",
   "execution_count": 120,
   "metadata": {
    "colab": {},
    "colab_type": "code",
    "id": "mcoozVktWs-F"
   },
   "outputs": [],
   "source": [
    "# Set up separate contexts for the two minibatch streams.\n",
    "context = tfco.rate_context(predictions, lambda: labels_tensor)\n",
    "context_sen = tfco.rate_context(predictions_sen, lambda: labels_tensor_sen)\n",
    "\n",
    "# List of metrics we are interested in.\n",
    "fprs = []\n",
    "fnrs = []\n",
    "\n",
    "# Add overall FPR and overall FNR, computed using the first stream.\n",
    "fprs.append(tfco.false_positive_rate(context))\n",
    "fnrs.append(tfco.false_negative_rate(context))\n",
    "\n",
    "# Add group-specific FPRs and FNRs, computed using the second stream.\n",
    "for ii in range(num_groups):\n",
    "    context_sen_subset = context_sen.subset(\n",
    "        lambda kk=ii: groups_tensor_sen[:, kk] > 0)\n",
    "    # We pass the group index ii as a default argument to the the function, so\n",
    "    # that the function retains a local copy of this variable, and is unaffected\n",
    "    # by changes to the variable outside the function.\n",
    "    fprs.append(tfco.false_positive_rate(context_sen_subset))\n",
    "    fnrs.append(tfco.false_negative_rate(context_sen_subset))\n",
    "\n",
    "# Set up optimization problem with the \"max\" of all the metrics as the objective.\n",
    "problem = tfco.RateMinimizationProblem(\n",
    "    0.5 * tfco.upper_bound(fprs) + 0.5 * tfco.upper_bound(fnrs))\n",
    "\n",
    "# Set up constrained optimizer.\n",
    "optimizer = tfco.ProxyLagrangianOptimizerV2(\n",
    "    optimizer=tf.keras.optimizers.Adam(learning_rate=hparams[\"learning_rate\"]),\n",
    "    num_constraints=problem.num_constraints)\n",
    "\n",
    "# List of variables to optimize include the model weights,\n",
    "# and the trainable variables from the rate minimization problem and\n",
    "# the constrained optimizer.\n",
    "var_list = (model_robust.trainable_weights + problem.trainable_variables +\n",
    "            optimizer.trainable_variables())"
   ]
  },
  {
   "cell_type": "markdown",
   "metadata": {
    "colab_type": "text",
    "id": "zW-1LU78Ws-H"
   },
   "source": [
    "During training, we periodically snapshot the model parameters and evaluate the worst-case metric value (i.e. the \"max\" objective) on the validation set. At the end of training, we choose the iterate that yields the minimum worst-case metric.\n",
    "\n",
    "**Note**: The following code cell may take several minutes to run."
   ]
  },
  {
   "cell_type": "code",
   "execution_count": 121,
   "metadata": {
    "colab": {
     "base_uri": "https://localhost:8080/",
     "height": 34
    },
    "colab_type": "code",
    "id": "6IdlsJltWs-H",
    "outputId": "084f4427-cb4d-4b74-ca0f-6211cecd0140"
   },
   "outputs": [
    {
     "name": "stdout",
     "output_type": "stream",
     "text": [
      "Iteration 3525 / 3525: Elapsed time = 37140 secs, Max objective = 0.419 "
     ]
    }
   ],
   "source": [
    "# Create temporary directory for snapshotting models.\n",
    "temp_directory = tempfile.mktemp()\n",
    "os.mkdir(temp_directory)\n",
    "\n",
    "# Indices of sensitive group members.\n",
    "protected_group_indices = np.nonzero(groups_train.sum(axis=1))[0]\n",
    "\n",
    "num_examples = text_train.shape[0]\n",
    "num_examples_sen = protected_group_indices.shape[0]\n",
    "batch_size = hparams[\"batch_size\"]\n",
    "\n",
    "# Number of steps needed for one epoch over the training sample.\n",
    "num_steps = int(num_examples / batch_size)\n",
    "\n",
    "# Number of steps after which to snap-shot the model.\n",
    "skip_steps = int(num_steps / 10)\n",
    "\n",
    "# List of recorded robust optimization objectives.\n",
    "objectives_list = []\n",
    "\n",
    "start_time = time.time()\n",
    "\n",
    "# Loop over minibatches.\n",
    "for batch_index in range(num_steps):\n",
    "    # Indices for current minibatch in the first stream.\n",
    "    batch_indices = np.arange(batch_index * batch_size, (batch_index + 1) * batch_size)\n",
    "    batch_indices = [ind % num_examples for ind in batch_indices]\n",
    "\n",
    "    # Indices for current minibatch in the second stream.\n",
    "    batch_indices_sen = np.arange(batch_index * batch_size, (batch_index + 1) * batch_size)\n",
    "    batch_indices_sen = [protected_group_indices[ind % num_examples_sen]\n",
    "                         for ind in batch_indices_sen]\n",
    "\n",
    "    # Assign features, labels, groups from the minibatches to the respective tensors.\n",
    "    features_tensor.assign(text_train[batch_indices, :])\n",
    "    labels_tensor.assign(labels_train[batch_indices])\n",
    "\n",
    "    features_tensor_sen.assign(text_train[batch_indices_sen, :])\n",
    "    labels_tensor_sen.assign(labels_train[batch_indices_sen])\n",
    "    groups_tensor_sen.assign(groups_train[batch_indices_sen, :])\n",
    "\n",
    "    # Gradient update.\n",
    "    optimizer.minimize(problem, var_list=var_list)\n",
    "\n",
    "    # Once in every skip_steps steps, snapshot model parameters\n",
    "    # and evaluate robust optimization objective on the validation set.\n",
    "    all_fprs = []\n",
    "    all_fnrs = []\n",
    "\n",
    "    if batch_index % skip_steps == 0:\n",
    "        # Evaluate on validation set.\n",
    "        scores_vali = model_robust.predict(text_vali)\n",
    "\n",
    "        fpr = false_positive_rate(labels_vali, scores_vali)\n",
    "        all_fprs += [fpr]\n",
    "\n",
    "        fnr = false_negative_rate(labels_vali, scores_vali)\n",
    "        all_fnrs += [fnr]\n",
    "\n",
    "        group_fprs = group_false_positive_rates(labels_vali, scores_vali, groups_vali)\n",
    "        group_fprs = [group_fprs[jj] for jj in range(num_groups)]\n",
    "        all_fprs += group_fprs\n",
    "\n",
    "        group_fnrs = group_false_negative_rates(labels_vali, scores_vali, groups_vali)\n",
    "        group_fnrs = [group_fnrs[jj] for jj in range(num_groups)]\n",
    "        all_fnrs += group_fnrs\n",
    "\n",
    "        objectives_list.append(0.5 * max(all_fprs) + 0.5 * max(all_fnrs))\n",
    "\n",
    "        # Save model weights to temporary directory.\n",
    "        model_robust.save_weights(\n",
    "            temp_directory + \"/robust_\" +\n",
    "            str(int(batch_index / skip_steps)) + \".h5\")\n",
    "\n",
    "    # Display most recently recorded objective.\n",
    "    elapsed_time = time.time() - start_time\n",
    "    sys.stdout.write(\n",
    "        \"\\rIteration %d / %d: Elapsed time = %d secs, Max objective = %.3f \" %\n",
    "        (batch_index + 1, num_steps, elapsed_time, objectives_list[-1]))\n",
    "\n",
    "# Select the best model from the recorded iterates. Pick the one with the\n",
    "# minimum \"max objective\", and load its weights.\n",
    "best_index = np.argmin(objectives_list)\n",
    "model_robust.load_weights(temp_directory + \"/robust_\" + str(best_index) + \".h5\")\n",
    "\n",
    "# Remove temporary directory.\n",
    "shutil.rmtree(temp_directory)"
   ]
  },
  {
   "cell_type": "markdown",
   "metadata": {
    "colab_type": "text",
    "id": "I_PdmG2qWs-J"
   },
   "source": [
    "We plot various evaluation metrics for the trained model on the test set."
   ]
  },
  {
   "cell_type": "markdown",
   "metadata": {},
   "source": [
    "# LSTM"
   ]
  },
  {
   "cell_type": "code",
   "execution_count": 90,
   "metadata": {},
   "outputs": [
    {
     "data": {
      "image/png": "[encoded data removed]",
      "text/plain": [
       "<Figure size 576x216 with 2 Axes>"
      ]
     },
     "metadata": {
      "needs_background": "light"
     },
     "output_type": "display_data"
    }
   ],
   "source": [
    "scores_test = model_robust.predict(text_test)\n",
    "plot_metrics(labels_test, scores_test, groups_test, group_names, \"LSTM Robust Opt Model\")"
   ]
  },
  {
   "cell_type": "markdown",
   "metadata": {},
   "source": [
    "# CNN"
   ]
  },
  {
   "cell_type": "code",
   "execution_count": 45,
   "metadata": {
    "colab": {
     "base_uri": "https://localhost:8080/",
     "height": 254
    },
    "colab_type": "code",
    "id": "0emCk3Tvwj7U",
    "outputId": "c80c1c11-3c30-4227-c470-6b5cd36da129"
   },
   "outputs": [
    {
     "data": {
      "image/png": "[encoded data removed]",
      "text/plain": [
       "<Figure size 576x216 with 2 Axes>"
      ]
     },
     "metadata": {
      "needs_background": "light"
     },
     "output_type": "display_data"
    }
   ],
   "source": [
    "scores_test = model_robust.predict(text_test)\n",
    "plot_metrics(labels_test, scores_test, groups_test, group_names, \"CNN Robust Opt Model\")"
   ]
  },
  {
   "cell_type": "markdown",
   "metadata": {},
   "source": [
    "# BI-LSTM"
   ]
  },
  {
   "cell_type": "code",
   "execution_count": 122,
   "metadata": {},
   "outputs": [
    {
     "data": {
      "image/png": "[encoded data removed]",
      "text/plain": [
       "<Figure size 576x216 with 2 Axes>"
      ]
     },
     "metadata": {
      "needs_background": "light"
     },
     "output_type": "display_data"
    }
   ],
   "source": [
    "scores_test = model_robust.predict(text_test)\n",
    "plot_metrics(labels_test, scores_test, groups_test, group_names, \"BI-LSTM Robust Opt Model\")"
   ]
  },
  {
   "cell_type": "markdown",
   "metadata": {
    "colab_type": "text",
    "id": "mVZ23Q2bWs-N"
   },
   "source": [
    "Compared to the two previous models, we can see a significant reduction in the false negative rates. This however comes at the cost of a lower accuracy and higher false positive rates. Indeed the trained model performs the best on the training objective that we sought to minimize. \n",
    "\n",
    "Note that if low false positive rates are more important than low false negative rates, one can modify the training objective to have a higher weight on the maximum FPR term than the maximum FNR term."
   ]
  },
  {
   "cell_type": "markdown",
   "metadata": {
    "colab_type": "text",
    "id": "lfpQE4MSWs-O"
   },
   "source": [
    "## CNN Performance on finer groups"
   ]
  },
  {
   "cell_type": "markdown",
   "metadata": {
    "colab_type": "text",
    "id": "ECi_IZiFWs-O"
   },
   "source": [
    "We close this tutorial by noting that while constrained and robust optimization are effective means to enforce different fairness goals, with both these approaches, you at best get what you ask for!\n",
    "\n",
    "For example, with the robust optimization problem that we solved above, we observed that none of the four topic groups incurred a false positive rate or a false negative rate of more than 35%. However, the same may not hold for the finer sub-groups within these groups. Let's take a closer look at sub-groups within the *sexuality* topic group."
   ]
  },
  {
   "cell_type": "code",
   "execution_count": 62,
   "metadata": {
    "colab": {
     "base_uri": "https://localhost:8080/",
     "height": 235
    },
    "colab_type": "code",
    "id": "32x3i5WOWs-P",
    "outputId": "e59cfb5c-2b15-4d09-cb9e-5024077909eb",
    "scrolled": true
   },
   "outputs": [
    {
     "data": {
      "text/html": [
       "<div>\n",
       "<style scoped>\n",
       "    .dataframe tbody tr th:only-of-type {\n",
       "        vertical-align: middle;\n",
       "    }\n",
       "\n",
       "    .dataframe tbody tr th {\n",
       "        vertical-align: top;\n",
       "    }\n",
       "\n",
       "    .dataframe thead th {\n",
       "        text-align: right;\n",
       "    }\n",
       "</style>\n",
       "<table border=\"1\" class=\"dataframe\">\n",
       "  <thead>\n",
       "    <tr style=\"text-align: right;\">\n",
       "      <th></th>\n",
       "      <th>Sub-group</th>\n",
       "      <th>Sub-group proportion</th>\n",
       "      <th>Label proportion</th>\n",
       "    </tr>\n",
       "  </thead>\n",
       "  <tbody>\n",
       "    <tr>\n",
       "      <th>0</th>\n",
       "      <td>gay</td>\n",
       "      <td>0.48%</td>\n",
       "      <td>32.1%</td>\n",
       "    </tr>\n",
       "    <tr>\n",
       "      <th>1</th>\n",
       "      <td>lesbian</td>\n",
       "      <td>0.05%</td>\n",
       "      <td>32.0%</td>\n",
       "    </tr>\n",
       "    <tr>\n",
       "      <th>2</th>\n",
       "      <td>bisexual</td>\n",
       "      <td>0.01%</td>\n",
       "      <td>27.1%</td>\n",
       "    </tr>\n",
       "    <tr>\n",
       "      <th>3</th>\n",
       "      <td>homosexual</td>\n",
       "      <td>0.21%</td>\n",
       "      <td>28.3%</td>\n",
       "    </tr>\n",
       "    <tr>\n",
       "      <th>4</th>\n",
       "      <td>straight</td>\n",
       "      <td>0.42%</td>\n",
       "      <td>14.6%</td>\n",
       "    </tr>\n",
       "    <tr>\n",
       "      <th>5</th>\n",
       "      <td>heterosexual</td>\n",
       "      <td>0.06%</td>\n",
       "      <td>25.2%</td>\n",
       "    </tr>\n",
       "  </tbody>\n",
       "</table>\n",
       "</div>"
      ],
      "text/plain": [
       "      Sub-group Sub-group proportion Label proportion\n",
       "0           gay                0.48%            32.1%\n",
       "1       lesbian                0.05%            32.0%\n",
       "2      bisexual                0.01%            27.1%\n",
       "3    homosexual                0.21%            28.3%\n",
       "4      straight                0.42%            14.6%\n",
       "5  heterosexual                0.06%            25.2%"
      ]
     },
     "execution_count": 62,
     "metadata": {},
     "output_type": "execute_result"
    }
   ],
   "source": [
    "# We treat each identity term related to \"sexuality\" as a separate sub-group.\n",
    "terms_grp = terms[\"sexuality\"]\n",
    "\n",
    "# Create a sub-group membership matrix.\n",
    "comments_test = data_test[\"comment_text\"]\n",
    "subgroups_test = np.zeros((comments_test.shape[0], len(terms_grp)))\n",
    "for ii in range(len(terms_grp)):\n",
    "    subgroups_test[:, ii] = comments_test.str.contains(terms_grp[ii], case=False)\n",
    "\n",
    "# Display sub-group statistics.\n",
    "group_stats = []\n",
    "for ii in range(len(terms_grp)):\n",
    "    group_stats.append([terms_grp[ii],\n",
    "                        \"%.2f%%\" % (subgroups_test[:, ii].mean() * 100),\n",
    "                        \"%.1f%%\" % (labels_test[subgroups_test[:, ii] == 1].mean() * 100)])\n",
    "group_stats_df = pd.DataFrame(\n",
    "    group_stats, columns=[\"Sub-group\", \"Sub-group proportion\", \"Label proportion\"])\n",
    "group_stats_df"
   ]
  },
  {
   "cell_type": "markdown",
   "metadata": {
    "colab_type": "text",
    "id": "I4LJAIrGWs-S"
   },
   "source": [
    "The performance of the robust optimization model within each of these subgroups is shown below."
   ]
  },
  {
   "cell_type": "code",
   "execution_count": 63,
   "metadata": {
    "colab": {
     "base_uri": "https://localhost:8080/",
     "height": 254
    },
    "colab_type": "code",
    "id": "uoUYq4b5tNK4",
    "outputId": "5ddcdaac-0ae6-44b9-9fd0-2c1c1a0e6d7e"
   },
   "outputs": [
    {
     "data": {
      "image/png": "[encoded data removed]",
      "text/plain": [
       "<Figure size 576x216 with 2 Axes>"
      ]
     },
     "metadata": {
      "needs_background": "light"
     },
     "output_type": "display_data"
    }
   ],
   "source": [
    "plot_metrics(labels_test, scores_test, subgroups_test,\n",
    "             group_names=terms_grp, title=\"CNN Robust Opt Model on Finer Groups for Sexuality\")"
   ]
  },
  {
   "cell_type": "markdown",
   "metadata": {
    "colab_type": "text",
    "id": "PrqVCJRhWs-U"
   },
   "source": [
    "Notice that comments that contain the term \"heterosexual\" only constitute 0.03% of the dataset. It's therefore unsuprising that the robust optimization model has a false negative rate of 100% for this subgroup. Also notice that the comments containing the term \"gay\" and the comments containing the term \"bisexual\" have a higher false positive rate than the larger group of sexuality-related comments.\n",
    "\n",
    "While one could consider training a model by directly constraining these tiny subgroups, such a model is likely to generalize very poorly to new data. A better strategy would be to instead collect more training data for each of these subgroups, and then control performance on these subgroups through a constrained or robust optimization set-up."
   ]
  },
  {
   "cell_type": "code",
   "execution_count": 64,
   "metadata": {},
   "outputs": [
    {
     "data": {
      "text/html": [
       "<div>\n",
       "<style scoped>\n",
       "    .dataframe tbody tr th:only-of-type {\n",
       "        vertical-align: middle;\n",
       "    }\n",
       "\n",
       "    .dataframe tbody tr th {\n",
       "        vertical-align: top;\n",
       "    }\n",
       "\n",
       "    .dataframe thead th {\n",
       "        text-align: right;\n",
       "    }\n",
       "</style>\n",
       "<table border=\"1\" class=\"dataframe\">\n",
       "  <thead>\n",
       "    <tr style=\"text-align: right;\">\n",
       "      <th></th>\n",
       "      <th>Sub-group</th>\n",
       "      <th>Sub-group proportion</th>\n",
       "      <th>Label proportion</th>\n",
       "    </tr>\n",
       "  </thead>\n",
       "  <tbody>\n",
       "    <tr>\n",
       "      <th>0</th>\n",
       "      <td>christian</td>\n",
       "      <td>0.84%</td>\n",
       "      <td>19.0%</td>\n",
       "    </tr>\n",
       "    <tr>\n",
       "      <th>1</th>\n",
       "      <td>muslim</td>\n",
       "      <td>0.70%</td>\n",
       "      <td>27.5%</td>\n",
       "    </tr>\n",
       "    <tr>\n",
       "      <th>2</th>\n",
       "      <td>jewish</td>\n",
       "      <td>0.17%</td>\n",
       "      <td>19.9%</td>\n",
       "    </tr>\n",
       "    <tr>\n",
       "      <th>3</th>\n",
       "      <td>buddhist</td>\n",
       "      <td>0.04%</td>\n",
       "      <td>21.6%</td>\n",
       "    </tr>\n",
       "    <tr>\n",
       "      <th>4</th>\n",
       "      <td>catholic</td>\n",
       "      <td>1.01%</td>\n",
       "      <td>12.1%</td>\n",
       "    </tr>\n",
       "    <tr>\n",
       "      <th>5</th>\n",
       "      <td>protestant</td>\n",
       "      <td>0.10%</td>\n",
       "      <td>9.0%</td>\n",
       "    </tr>\n",
       "    <tr>\n",
       "      <th>6</th>\n",
       "      <td>sikh</td>\n",
       "      <td>0.05%</td>\n",
       "      <td>13.2%</td>\n",
       "    </tr>\n",
       "    <tr>\n",
       "      <th>7</th>\n",
       "      <td>taoist</td>\n",
       "      <td>0.00%</td>\n",
       "      <td>6.7%</td>\n",
       "    </tr>\n",
       "  </tbody>\n",
       "</table>\n",
       "</div>"
      ],
      "text/plain": [
       "    Sub-group Sub-group proportion Label proportion\n",
       "0   christian                0.84%            19.0%\n",
       "1      muslim                0.70%            27.5%\n",
       "2      jewish                0.17%            19.9%\n",
       "3    buddhist                0.04%            21.6%\n",
       "4    catholic                1.01%            12.1%\n",
       "5  protestant                0.10%             9.0%\n",
       "6        sikh                0.05%            13.2%\n",
       "7      taoist                0.00%             6.7%"
      ]
     },
     "execution_count": 64,
     "metadata": {},
     "output_type": "execute_result"
    }
   ],
   "source": [
    "# We treat each identity term related to \"religion\" as a separate sub-group.\n",
    "terms_grp = terms[\"religion\"]\n",
    "\n",
    "# Create a sub-group membership matrix.\n",
    "comments_test = data_test[\"comment_text\"]\n",
    "subgroups_test = np.zeros((comments_test.shape[0], len(terms_grp)))\n",
    "for ii in range(len(terms_grp)):\n",
    "    subgroups_test[:, ii] = comments_test.str.contains(terms_grp[ii], case=False)\n",
    "\n",
    "# Display sub-group statistics.\n",
    "group_stats = []\n",
    "for ii in range(len(terms_grp)):\n",
    "    group_stats.append([terms_grp[ii],\n",
    "                        \"%.2f%%\" % (subgroups_test[:, ii].mean() * 100),\n",
    "                        \"%.1f%%\" % (labels_test[subgroups_test[:, ii] == 1].mean() * 100)])\n",
    "group_stats_df = pd.DataFrame(\n",
    "    group_stats, columns=[\"Sub-group\", \"Sub-group proportion\", \"Label proportion\"])\n",
    "group_stats_df"
   ]
  },
  {
   "cell_type": "code",
   "execution_count": 65,
   "metadata": {},
   "outputs": [
    {
     "data": {
      "image/png": "[encoded data removed]",
      "text/plain": [
       "<Figure size 576x216 with 2 Axes>"
      ]
     },
     "metadata": {
      "needs_background": "light"
     },
     "output_type": "display_data"
    }
   ],
   "source": [
    "plot_metrics(labels_test, scores_test, subgroups_test,\n",
    "             group_names=terms_grp, title=\"CNN Robust Opt Model on Finer Groups for Religion\")"
   ]
  },
  {
   "cell_type": "code",
   "execution_count": 66,
   "metadata": {},
   "outputs": [
    {
     "data": {
      "text/html": [
       "<div>\n",
       "<style scoped>\n",
       "    .dataframe tbody tr th:only-of-type {\n",
       "        vertical-align: middle;\n",
       "    }\n",
       "\n",
       "    .dataframe tbody tr th {\n",
       "        vertical-align: top;\n",
       "    }\n",
       "\n",
       "    .dataframe thead th {\n",
       "        text-align: right;\n",
       "    }\n",
       "</style>\n",
       "<table border=\"1\" class=\"dataframe\">\n",
       "  <thead>\n",
       "    <tr style=\"text-align: right;\">\n",
       "      <th></th>\n",
       "      <th>Sub-group</th>\n",
       "      <th>Sub-group proportion</th>\n",
       "      <th>Label proportion</th>\n",
       "    </tr>\n",
       "  </thead>\n",
       "  <tbody>\n",
       "    <tr>\n",
       "      <th>0</th>\n",
       "      <td>african</td>\n",
       "      <td>0.32%</td>\n",
       "      <td>17.5%</td>\n",
       "    </tr>\n",
       "    <tr>\n",
       "      <th>1</th>\n",
       "      <td>african american</td>\n",
       "      <td>0.08%</td>\n",
       "      <td>19.6%</td>\n",
       "    </tr>\n",
       "    <tr>\n",
       "      <th>2</th>\n",
       "      <td>black</td>\n",
       "      <td>1.82%</td>\n",
       "      <td>27.7%</td>\n",
       "    </tr>\n",
       "    <tr>\n",
       "      <th>3</th>\n",
       "      <td>white</td>\n",
       "      <td>3.05%</td>\n",
       "      <td>27.3%</td>\n",
       "    </tr>\n",
       "    <tr>\n",
       "      <th>4</th>\n",
       "      <td>european</td>\n",
       "      <td>0.30%</td>\n",
       "      <td>10.4%</td>\n",
       "    </tr>\n",
       "    <tr>\n",
       "      <th>5</th>\n",
       "      <td>hispanic</td>\n",
       "      <td>0.12%</td>\n",
       "      <td>21.2%</td>\n",
       "    </tr>\n",
       "    <tr>\n",
       "      <th>6</th>\n",
       "      <td>latino</td>\n",
       "      <td>0.06%</td>\n",
       "      <td>24.9%</td>\n",
       "    </tr>\n",
       "    <tr>\n",
       "      <th>7</th>\n",
       "      <td>latina</td>\n",
       "      <td>0.01%</td>\n",
       "      <td>11.4%</td>\n",
       "    </tr>\n",
       "    <tr>\n",
       "      <th>8</th>\n",
       "      <td>latinx</td>\n",
       "      <td>0.00%</td>\n",
       "      <td>8.3%</td>\n",
       "    </tr>\n",
       "    <tr>\n",
       "      <th>9</th>\n",
       "      <td>mexican</td>\n",
       "      <td>0.20%</td>\n",
       "      <td>20.4%</td>\n",
       "    </tr>\n",
       "    <tr>\n",
       "      <th>10</th>\n",
       "      <td>canadian</td>\n",
       "      <td>2.45%</td>\n",
       "      <td>10.0%</td>\n",
       "    </tr>\n",
       "    <tr>\n",
       "      <th>11</th>\n",
       "      <td>american</td>\n",
       "      <td>3.40%</td>\n",
       "      <td>15.3%</td>\n",
       "    </tr>\n",
       "    <tr>\n",
       "      <th>12</th>\n",
       "      <td>asian</td>\n",
       "      <td>0.21%</td>\n",
       "      <td>17.8%</td>\n",
       "    </tr>\n",
       "    <tr>\n",
       "      <th>13</th>\n",
       "      <td>indian</td>\n",
       "      <td>0.27%</td>\n",
       "      <td>15.9%</td>\n",
       "    </tr>\n",
       "    <tr>\n",
       "      <th>14</th>\n",
       "      <td>middle eastern</td>\n",
       "      <td>0.02%</td>\n",
       "      <td>16.9%</td>\n",
       "    </tr>\n",
       "    <tr>\n",
       "      <th>15</th>\n",
       "      <td>chinese</td>\n",
       "      <td>0.38%</td>\n",
       "      <td>12.5%</td>\n",
       "    </tr>\n",
       "    <tr>\n",
       "      <th>16</th>\n",
       "      <td>japanese</td>\n",
       "      <td>0.14%</td>\n",
       "      <td>11.8%</td>\n",
       "    </tr>\n",
       "  </tbody>\n",
       "</table>\n",
       "</div>"
      ],
      "text/plain": [
       "           Sub-group Sub-group proportion Label proportion\n",
       "0            african                0.32%            17.5%\n",
       "1   african american                0.08%            19.6%\n",
       "2              black                1.82%            27.7%\n",
       "3              white                3.05%            27.3%\n",
       "4           european                0.30%            10.4%\n",
       "5           hispanic                0.12%            21.2%\n",
       "6             latino                0.06%            24.9%\n",
       "7             latina                0.01%            11.4%\n",
       "8             latinx                0.00%             8.3%\n",
       "9            mexican                0.20%            20.4%\n",
       "10          canadian                2.45%            10.0%\n",
       "11          american                3.40%            15.3%\n",
       "12             asian                0.21%            17.8%\n",
       "13            indian                0.27%            15.9%\n",
       "14    middle eastern                0.02%            16.9%\n",
       "15           chinese                0.38%            12.5%\n",
       "16          japanese                0.14%            11.8%"
      ]
     },
     "execution_count": 66,
     "metadata": {},
     "output_type": "execute_result"
    }
   ],
   "source": [
    "# We treat each identity term related to \"race\" as a separate sub-group.\n",
    "terms_grp = terms[\"race\"]\n",
    "\n",
    "# Create a sub-group membership matrix.\n",
    "comments_test = data_test[\"comment_text\"]\n",
    "subgroups_test = np.zeros((comments_test.shape[0], len(terms_grp)))\n",
    "for ii in range(len(terms_grp)):\n",
    "    subgroups_test[:, ii] = comments_test.str.contains(terms_grp[ii], case=False)\n",
    "\n",
    "# Display sub-group statistics.\n",
    "group_stats = []\n",
    "for ii in range(len(terms_grp)):\n",
    "    group_stats.append([terms_grp[ii],\n",
    "                        \"%.2f%%\" % (subgroups_test[:, ii].mean() * 100),\n",
    "                        \"%.1f%%\" % (labels_test[subgroups_test[:, ii] == 1].mean() * 100)])\n",
    "group_stats_df = pd.DataFrame(\n",
    "    group_stats, columns=[\"Sub-group\", \"Sub-group proportion\", \"Label proportion\"])\n",
    "group_stats_df"
   ]
  },
  {
   "cell_type": "code",
   "execution_count": 67,
   "metadata": {},
   "outputs": [
    {
     "data": {
      "image/png": "[encoded data removed]",
      "text/plain": [
       "<Figure size 576x216 with 2 Axes>"
      ]
     },
     "metadata": {
      "needs_background": "light"
     },
     "output_type": "display_data"
    }
   ],
   "source": [
    "plot_metrics(labels_test, scores_test, subgroups_test,\n",
    "             group_names=terms_grp, title=\"Robust Opt Model on Finer Groups for Race\")"
   ]
  },
  {
   "cell_type": "code",
   "execution_count": 68,
   "metadata": {},
   "outputs": [
    {
     "name": "stderr",
     "output_type": "stream",
     "text": [
      "/anaconda3/lib/python3.7/site-packages/ipykernel_launcher.py:15: RuntimeWarning: Mean of empty slice.\n",
      "  from ipykernel import kernelapp as app\n"
     ]
    },
    {
     "data": {
      "text/html": [
       "<div>\n",
       "<style scoped>\n",
       "    .dataframe tbody tr th:only-of-type {\n",
       "        vertical-align: middle;\n",
       "    }\n",
       "\n",
       "    .dataframe tbody tr th {\n",
       "        vertical-align: top;\n",
       "    }\n",
       "\n",
       "    .dataframe thead th {\n",
       "        text-align: right;\n",
       "    }\n",
       "</style>\n",
       "<table border=\"1\" class=\"dataframe\">\n",
       "  <thead>\n",
       "    <tr style=\"text-align: right;\">\n",
       "      <th></th>\n",
       "      <th>Sub-group</th>\n",
       "      <th>Sub-group proportion</th>\n",
       "      <th>Label proportion</th>\n",
       "    </tr>\n",
       "  </thead>\n",
       "  <tbody>\n",
       "    <tr>\n",
       "      <th>0</th>\n",
       "      <td>trans</td>\n",
       "      <td>1.77%</td>\n",
       "      <td>8.5%</td>\n",
       "    </tr>\n",
       "    <tr>\n",
       "      <th>1</th>\n",
       "      <td>transgender</td>\n",
       "      <td>0.12%</td>\n",
       "      <td>24.9%</td>\n",
       "    </tr>\n",
       "    <tr>\n",
       "      <th>2</th>\n",
       "      <td>cis</td>\n",
       "      <td>5.65%</td>\n",
       "      <td>20.2%</td>\n",
       "    </tr>\n",
       "    <tr>\n",
       "      <th>3</th>\n",
       "      <td>nonbinary</td>\n",
       "      <td>0.00%</td>\n",
       "      <td>nan%</td>\n",
       "    </tr>\n",
       "  </tbody>\n",
       "</table>\n",
       "</div>"
      ],
      "text/plain": [
       "     Sub-group Sub-group proportion Label proportion\n",
       "0        trans                1.77%             8.5%\n",
       "1  transgender                0.12%            24.9%\n",
       "2          cis                5.65%            20.2%\n",
       "3    nonbinary                0.00%             nan%"
      ]
     },
     "execution_count": 68,
     "metadata": {},
     "output_type": "execute_result"
    }
   ],
   "source": [
    "# We treat each identity term related to \"gender identity\" as a separate sub-group.\n",
    "terms_grp = terms[\"gender identity\"]\n",
    "\n",
    "# Create a sub-group membership matrix.\n",
    "comments_test = data_test[\"comment_text\"]\n",
    "subgroups_test = np.zeros((comments_test.shape[0], len(terms_grp)))\n",
    "for ii in range(len(terms_grp)):\n",
    "    subgroups_test[:, ii] = comments_test.str.contains(terms_grp[ii], case=False)\n",
    "\n",
    "# Display sub-group statistics.\n",
    "group_stats = []\n",
    "for ii in range(len(terms_grp)):\n",
    "    group_stats.append([terms_grp[ii],\n",
    "                        \"%.2f%%\" % (subgroups_test[:, ii].mean() * 100),\n",
    "                        \"%.1f%%\" % (labels_test[subgroups_test[:, ii] == 1].mean() * 100)])\n",
    "group_stats_df = pd.DataFrame(\n",
    "    group_stats, columns=[\"Sub-group\", \"Sub-group proportion\", \"Label proportion\"])\n",
    "group_stats_df"
   ]
  },
  {
   "cell_type": "code",
   "execution_count": 69,
   "metadata": {},
   "outputs": [
    {
     "data": {
      "image/png": "[encoded data removed]",
      "text/plain": [
       "<Figure size 576x216 with 2 Axes>"
      ]
     },
     "metadata": {
      "needs_background": "light"
     },
     "output_type": "display_data"
    }
   ],
   "source": [
    "plot_metrics(labels_test, scores_test, subgroups_test,\n",
    "             group_names=terms_grp, title=\"CNN Robust Opt Model on Finer Groups for Gender Identity\")"
   ]
  },
  {
   "cell_type": "code",
   "execution_count": 70,
   "metadata": {},
   "outputs": [
    {
     "name": "stderr",
     "output_type": "stream",
     "text": [
      "/anaconda3/lib/python3.7/site-packages/ipykernel_launcher.py:15: RuntimeWarning: Mean of empty slice.\n",
      "  from ipykernel import kernelapp as app\n"
     ]
    },
    {
     "data": {
      "text/html": [
       "<div>\n",
       "<style scoped>\n",
       "    .dataframe tbody tr th:only-of-type {\n",
       "        vertical-align: middle;\n",
       "    }\n",
       "\n",
       "    .dataframe tbody tr th {\n",
       "        vertical-align: top;\n",
       "    }\n",
       "\n",
       "    .dataframe thead th {\n",
       "        text-align: right;\n",
       "    }\n",
       "</style>\n",
       "<table border=\"1\" class=\"dataframe\">\n",
       "  <thead>\n",
       "    <tr style=\"text-align: right;\">\n",
       "      <th></th>\n",
       "      <th>Sub-group</th>\n",
       "      <th>Sub-group proportion</th>\n",
       "      <th>Label proportion</th>\n",
       "    </tr>\n",
       "  </thead>\n",
       "  <tbody>\n",
       "    <tr>\n",
       "      <th>0</th>\n",
       "      <td>depression</td>\n",
       "      <td>0.08%</td>\n",
       "      <td>10.1%</td>\n",
       "    </tr>\n",
       "    <tr>\n",
       "      <th>1</th>\n",
       "      <td>anxiety</td>\n",
       "      <td>0.05%</td>\n",
       "      <td>7.7%</td>\n",
       "    </tr>\n",
       "    <tr>\n",
       "      <th>2</th>\n",
       "      <td>bipolar</td>\n",
       "      <td>0.01%</td>\n",
       "      <td>14.0%</td>\n",
       "    </tr>\n",
       "    <tr>\n",
       "      <th>3</th>\n",
       "      <td>autism</td>\n",
       "      <td>0.02%</td>\n",
       "      <td>5.5%</td>\n",
       "    </tr>\n",
       "    <tr>\n",
       "      <th>4</th>\n",
       "      <td>schizophrenia</td>\n",
       "      <td>0.01%</td>\n",
       "      <td>10.3%</td>\n",
       "    </tr>\n",
       "    <tr>\n",
       "      <th>5</th>\n",
       "      <td>adhd</td>\n",
       "      <td>0.01%</td>\n",
       "      <td>8.2%</td>\n",
       "    </tr>\n",
       "    <tr>\n",
       "      <th>6</th>\n",
       "      <td>attention-Deficit</td>\n",
       "      <td>0.00%</td>\n",
       "      <td>nan%</td>\n",
       "    </tr>\n",
       "    <tr>\n",
       "      <th>7</th>\n",
       "      <td>agoraphobia</td>\n",
       "      <td>0.00%</td>\n",
       "      <td>0.0%</td>\n",
       "    </tr>\n",
       "    <tr>\n",
       "      <th>8</th>\n",
       "      <td>amnesia</td>\n",
       "      <td>0.01%</td>\n",
       "      <td>16.3%</td>\n",
       "    </tr>\n",
       "    <tr>\n",
       "      <th>9</th>\n",
       "      <td>asperger</td>\n",
       "      <td>0.00%</td>\n",
       "      <td>13.3%</td>\n",
       "    </tr>\n",
       "    <tr>\n",
       "      <th>10</th>\n",
       "      <td>alcohol abuse</td>\n",
       "      <td>0.01%</td>\n",
       "      <td>10.1%</td>\n",
       "    </tr>\n",
       "    <tr>\n",
       "      <th>11</th>\n",
       "      <td>alcoholic</td>\n",
       "      <td>0.04%</td>\n",
       "      <td>14.3%</td>\n",
       "    </tr>\n",
       "  </tbody>\n",
       "</table>\n",
       "</div>"
      ],
      "text/plain": [
       "            Sub-group Sub-group proportion Label proportion\n",
       "0          depression                0.08%            10.1%\n",
       "1             anxiety                0.05%             7.7%\n",
       "2             bipolar                0.01%            14.0%\n",
       "3              autism                0.02%             5.5%\n",
       "4       schizophrenia                0.01%            10.3%\n",
       "5                adhd                0.01%             8.2%\n",
       "6   attention-Deficit                0.00%             nan%\n",
       "7         agoraphobia                0.00%             0.0%\n",
       "8             amnesia                0.01%            16.3%\n",
       "9            asperger                0.00%            13.3%\n",
       "10      alcohol abuse                0.01%            10.1%\n",
       "11          alcoholic                0.04%            14.3%"
      ]
     },
     "execution_count": 70,
     "metadata": {},
     "output_type": "execute_result"
    }
   ],
   "source": [
    "# We treat each identity term related to \"mental\" as a separate sub-group.\n",
    "terms_grp = terms[\"mental\"]\n",
    "\n",
    "# Create a sub-group membership matrix.\n",
    "comments_test = data_test[\"comment_text\"]\n",
    "subgroups_test = np.zeros((comments_test.shape[0], len(terms_grp)))\n",
    "for ii in range(len(terms_grp)):\n",
    "    subgroups_test[:, ii] = comments_test.str.contains(terms_grp[ii], case=False)\n",
    "\n",
    "# Display sub-group statistics.\n",
    "group_stats = []\n",
    "for ii in range(len(terms_grp)):\n",
    "    group_stats.append([terms_grp[ii],\n",
    "                        \"%.2f%%\" % (subgroups_test[:, ii].mean() * 100),\n",
    "                        \"%.1f%%\" % (labels_test[subgroups_test[:, ii] == 1].mean() * 100)])\n",
    "group_stats_df = pd.DataFrame(\n",
    "    group_stats, columns=[\"Sub-group\", \"Sub-group proportion\", \"Label proportion\"])\n",
    "group_stats_df"
   ]
  },
  {
   "cell_type": "code",
   "execution_count": 71,
   "metadata": {},
   "outputs": [
    {
     "data": {
      "image/png": "[encoded data removed]",
      "text/plain": [
       "<Figure size 576x216 with 2 Axes>"
      ]
     },
     "metadata": {
      "needs_background": "light"
     },
     "output_type": "display_data"
    }
   ],
   "source": [
    "plot_metrics(labels_test, scores_test, subgroups_test,\n",
    "             group_names=terms_grp, title=\"CNN Robust Opt Model on Finer Groups for Mental health\")"
   ]
  },
  {
   "cell_type": "code",
   "execution_count": 72,
   "metadata": {},
   "outputs": [
    {
     "data": {
      "text/html": [
       "<div>\n",
       "<style scoped>\n",
       "    .dataframe tbody tr th:only-of-type {\n",
       "        vertical-align: middle;\n",
       "    }\n",
       "\n",
       "    .dataframe tbody tr th {\n",
       "        vertical-align: top;\n",
       "    }\n",
       "\n",
       "    .dataframe thead th {\n",
       "        text-align: right;\n",
       "    }\n",
       "</style>\n",
       "<table border=\"1\" class=\"dataframe\">\n",
       "  <thead>\n",
       "    <tr style=\"text-align: right;\">\n",
       "      <th></th>\n",
       "      <th>Sub-group</th>\n",
       "      <th>Sub-group proportion</th>\n",
       "      <th>Label proportion</th>\n",
       "    </tr>\n",
       "  </thead>\n",
       "  <tbody>\n",
       "    <tr>\n",
       "      <th>0</th>\n",
       "      <td>poor</td>\n",
       "      <td>1.57%</td>\n",
       "      <td>13.4%</td>\n",
       "    </tr>\n",
       "    <tr>\n",
       "      <th>1</th>\n",
       "      <td>retired</td>\n",
       "      <td>0.21%</td>\n",
       "      <td>7.4%</td>\n",
       "    </tr>\n",
       "    <tr>\n",
       "      <th>2</th>\n",
       "      <td>unemployed</td>\n",
       "      <td>0.07%</td>\n",
       "      <td>9.7%</td>\n",
       "    </tr>\n",
       "    <tr>\n",
       "      <th>3</th>\n",
       "      <td>rich</td>\n",
       "      <td>1.32%</td>\n",
       "      <td>12.0%</td>\n",
       "    </tr>\n",
       "    <tr>\n",
       "      <th>4</th>\n",
       "      <td>homeless</td>\n",
       "      <td>0.53%</td>\n",
       "      <td>9.6%</td>\n",
       "    </tr>\n",
       "    <tr>\n",
       "      <th>5</th>\n",
       "      <td>layoffs</td>\n",
       "      <td>0.11%</td>\n",
       "      <td>6.7%</td>\n",
       "    </tr>\n",
       "  </tbody>\n",
       "</table>\n",
       "</div>"
      ],
      "text/plain": [
       "    Sub-group Sub-group proportion Label proportion\n",
       "0        poor                1.57%            13.4%\n",
       "1     retired                0.21%             7.4%\n",
       "2  unemployed                0.07%             9.7%\n",
       "3        rich                1.32%            12.0%\n",
       "4    homeless                0.53%             9.6%\n",
       "5     layoffs                0.11%             6.7%"
      ]
     },
     "execution_count": 72,
     "metadata": {},
     "output_type": "execute_result"
    }
   ],
   "source": [
    "# We treat each identity term related to \"economic\" as a separate sub-group.\n",
    "terms_grp = terms[\"economic\"]\n",
    "\n",
    "# Create a sub-group membership matrix.\n",
    "comments_test = data_test[\"comment_text\"]\n",
    "subgroups_test = np.zeros((comments_test.shape[0], len(terms_grp)))\n",
    "for ii in range(len(terms_grp)):\n",
    "    subgroups_test[:, ii] = comments_test.str.contains(terms_grp[ii], case=False)\n",
    "\n",
    "# Display sub-group statistics.\n",
    "group_stats = []\n",
    "for ii in range(len(terms_grp)):\n",
    "    group_stats.append([terms_grp[ii],\n",
    "                        \"%.2f%%\" % (subgroups_test[:, ii].mean() * 100),\n",
    "                        \"%.1f%%\" % (labels_test[subgroups_test[:, ii] == 1].mean() * 100)])\n",
    "group_stats_df = pd.DataFrame(\n",
    "    group_stats, columns=[\"Sub-group\", \"Sub-group proportion\", \"Label proportion\"])\n",
    "group_stats_df"
   ]
  },
  {
   "cell_type": "code",
   "execution_count": 73,
   "metadata": {},
   "outputs": [
    {
     "data": {
      "image/png": "[encoded data removed]",
      "text/plain": [
       "<Figure size 576x216 with 2 Axes>"
      ]
     },
     "metadata": {
      "needs_background": "light"
     },
     "output_type": "display_data"
    }
   ],
   "source": [
    "plot_metrics(labels_test, scores_test, subgroups_test,\n",
    "             group_names=terms_grp, title=\"CNN Robust Opt Model on Finer Groups for Economic Status\")"
   ]
  },
  {
   "cell_type": "code",
   "execution_count": 74,
   "metadata": {},
   "outputs": [
    {
     "data": {
      "text/html": [
       "<div>\n",
       "<style scoped>\n",
       "    .dataframe tbody tr th:only-of-type {\n",
       "        vertical-align: middle;\n",
       "    }\n",
       "\n",
       "    .dataframe tbody tr th {\n",
       "        vertical-align: top;\n",
       "    }\n",
       "\n",
       "    .dataframe thead th {\n",
       "        text-align: right;\n",
       "    }\n",
       "</style>\n",
       "<table border=\"1\" class=\"dataframe\">\n",
       "  <thead>\n",
       "    <tr style=\"text-align: right;\">\n",
       "      <th></th>\n",
       "      <th>Sub-group</th>\n",
       "      <th>Sub-group proportion</th>\n",
       "      <th>Label proportion</th>\n",
       "    </tr>\n",
       "  </thead>\n",
       "  <tbody>\n",
       "    <tr>\n",
       "      <th>0</th>\n",
       "      <td>cancer</td>\n",
       "      <td>0.22%</td>\n",
       "      <td>15.9%</td>\n",
       "    </tr>\n",
       "    <tr>\n",
       "      <th>1</th>\n",
       "      <td>arthritis</td>\n",
       "      <td>0.01%</td>\n",
       "      <td>7.5%</td>\n",
       "    </tr>\n",
       "    <tr>\n",
       "      <th>2</th>\n",
       "      <td>injury</td>\n",
       "      <td>0.17%</td>\n",
       "      <td>7.3%</td>\n",
       "    </tr>\n",
       "    <tr>\n",
       "      <th>3</th>\n",
       "      <td>disability</td>\n",
       "      <td>0.07%</td>\n",
       "      <td>9.1%</td>\n",
       "    </tr>\n",
       "    <tr>\n",
       "      <th>4</th>\n",
       "      <td>alzheimer's</td>\n",
       "      <td>0.01%</td>\n",
       "      <td>6.7%</td>\n",
       "    </tr>\n",
       "    <tr>\n",
       "      <th>5</th>\n",
       "      <td>diabetes</td>\n",
       "      <td>0.03%</td>\n",
       "      <td>6.9%</td>\n",
       "    </tr>\n",
       "    <tr>\n",
       "      <th>6</th>\n",
       "      <td>infertility</td>\n",
       "      <td>0.00%</td>\n",
       "      <td>19.2%</td>\n",
       "    </tr>\n",
       "    <tr>\n",
       "      <th>7</th>\n",
       "      <td>hiv</td>\n",
       "      <td>0.09%</td>\n",
       "      <td>8.6%</td>\n",
       "    </tr>\n",
       "    <tr>\n",
       "      <th>8</th>\n",
       "      <td>parkinson</td>\n",
       "      <td>0.00%</td>\n",
       "      <td>3.8%</td>\n",
       "    </tr>\n",
       "    <tr>\n",
       "      <th>9</th>\n",
       "      <td>herpes</td>\n",
       "      <td>0.00%</td>\n",
       "      <td>20.3%</td>\n",
       "    </tr>\n",
       "    <tr>\n",
       "      <th>10</th>\n",
       "      <td>ulcers</td>\n",
       "      <td>0.00%</td>\n",
       "      <td>27.5%</td>\n",
       "    </tr>\n",
       "    <tr>\n",
       "      <th>11</th>\n",
       "      <td>allergies</td>\n",
       "      <td>0.01%</td>\n",
       "      <td>3.8%</td>\n",
       "    </tr>\n",
       "    <tr>\n",
       "      <th>12</th>\n",
       "      <td>stroke</td>\n",
       "      <td>0.05%</td>\n",
       "      <td>12.1%</td>\n",
       "    </tr>\n",
       "    <tr>\n",
       "      <th>13</th>\n",
       "      <td>influenza</td>\n",
       "      <td>0.00%</td>\n",
       "      <td>3.8%</td>\n",
       "    </tr>\n",
       "  </tbody>\n",
       "</table>\n",
       "</div>"
      ],
      "text/plain": [
       "      Sub-group Sub-group proportion Label proportion\n",
       "0        cancer                0.22%            15.9%\n",
       "1     arthritis                0.01%             7.5%\n",
       "2        injury                0.17%             7.3%\n",
       "3    disability                0.07%             9.1%\n",
       "4   alzheimer's                0.01%             6.7%\n",
       "5      diabetes                0.03%             6.9%\n",
       "6   infertility                0.00%            19.2%\n",
       "7           hiv                0.09%             8.6%\n",
       "8     parkinson                0.00%             3.8%\n",
       "9        herpes                0.00%            20.3%\n",
       "10       ulcers                0.00%            27.5%\n",
       "11    allergies                0.01%             3.8%\n",
       "12       stroke                0.05%            12.1%\n",
       "13    influenza                0.00%             3.8%"
      ]
     },
     "execution_count": 74,
     "metadata": {},
     "output_type": "execute_result"
    }
   ],
   "source": [
    "# We treat each identity term related to \"physical\" as a separate sub-group.\n",
    "terms_grp = terms[\"physical\"]\n",
    "\n",
    "# Create a sub-group membership matrix.\n",
    "comments_test = data_test[\"comment_text\"]\n",
    "subgroups_test = np.zeros((comments_test.shape[0], len(terms_grp)))\n",
    "for ii in range(len(terms_grp)):\n",
    "    subgroups_test[:, ii] = comments_test.str.contains(terms_grp[ii], case=False)\n",
    "\n",
    "# Display sub-group statistics.\n",
    "group_stats = []\n",
    "for ii in range(len(terms_grp)):\n",
    "    group_stats.append([terms_grp[ii],\n",
    "                        \"%.2f%%\" % (subgroups_test[:, ii].mean() * 100),\n",
    "                        \"%.1f%%\" % (labels_test[subgroups_test[:, ii] == 1].mean() * 100)])\n",
    "group_stats_df = pd.DataFrame(\n",
    "    group_stats, columns=[\"Sub-group\", \"Sub-group proportion\", \"Label proportion\"])\n",
    "group_stats_df"
   ]
  },
  {
   "cell_type": "code",
   "execution_count": 75,
   "metadata": {},
   "outputs": [
    {
     "data": {
      "image/png": "[encoded data removed]",
      "text/plain": [
       "<Figure size 576x216 with 2 Axes>"
      ]
     },
     "metadata": {
      "needs_background": "light"
     },
     "output_type": "display_data"
    }
   ],
   "source": [
    "plot_metrics(labels_test, scores_test, subgroups_test,\n",
    "             group_names=terms_grp, title=\"CNN Robust Opt Model on Finer Groups for Physical Disability\")"
   ]
  },
  {
   "cell_type": "markdown",
   "metadata": {},
   "source": [
    "# END CNN"
   ]
  },
  {
   "cell_type": "markdown",
   "metadata": {},
   "source": [
    "# LSTM Performance on finer groups\n"
   ]
  },
  {
   "cell_type": "code",
   "execution_count": 91,
   "metadata": {},
   "outputs": [
    {
     "data": {
      "text/html": [
       "<div>\n",
       "<style scoped>\n",
       "    .dataframe tbody tr th:only-of-type {\n",
       "        vertical-align: middle;\n",
       "    }\n",
       "\n",
       "    .dataframe tbody tr th {\n",
       "        vertical-align: top;\n",
       "    }\n",
       "\n",
       "    .dataframe thead th {\n",
       "        text-align: right;\n",
       "    }\n",
       "</style>\n",
       "<table border=\"1\" class=\"dataframe\">\n",
       "  <thead>\n",
       "    <tr style=\"text-align: right;\">\n",
       "      <th></th>\n",
       "      <th>Sub-group</th>\n",
       "      <th>Sub-group proportion</th>\n",
       "      <th>Label proportion</th>\n",
       "    </tr>\n",
       "  </thead>\n",
       "  <tbody>\n",
       "    <tr>\n",
       "      <th>0</th>\n",
       "      <td>gay</td>\n",
       "      <td>0.48%</td>\n",
       "      <td>32.1%</td>\n",
       "    </tr>\n",
       "    <tr>\n",
       "      <th>1</th>\n",
       "      <td>lesbian</td>\n",
       "      <td>0.05%</td>\n",
       "      <td>32.0%</td>\n",
       "    </tr>\n",
       "    <tr>\n",
       "      <th>2</th>\n",
       "      <td>bisexual</td>\n",
       "      <td>0.01%</td>\n",
       "      <td>27.1%</td>\n",
       "    </tr>\n",
       "    <tr>\n",
       "      <th>3</th>\n",
       "      <td>homosexual</td>\n",
       "      <td>0.21%</td>\n",
       "      <td>28.3%</td>\n",
       "    </tr>\n",
       "    <tr>\n",
       "      <th>4</th>\n",
       "      <td>straight</td>\n",
       "      <td>0.42%</td>\n",
       "      <td>14.6%</td>\n",
       "    </tr>\n",
       "    <tr>\n",
       "      <th>5</th>\n",
       "      <td>heterosexual</td>\n",
       "      <td>0.06%</td>\n",
       "      <td>25.2%</td>\n",
       "    </tr>\n",
       "  </tbody>\n",
       "</table>\n",
       "</div>"
      ],
      "text/plain": [
       "      Sub-group Sub-group proportion Label proportion\n",
       "0           gay                0.48%            32.1%\n",
       "1       lesbian                0.05%            32.0%\n",
       "2      bisexual                0.01%            27.1%\n",
       "3    homosexual                0.21%            28.3%\n",
       "4      straight                0.42%            14.6%\n",
       "5  heterosexual                0.06%            25.2%"
      ]
     },
     "execution_count": 91,
     "metadata": {},
     "output_type": "execute_result"
    }
   ],
   "source": [
    "# We treat each identity term related to \"sexuality\" as a separate sub-group.\n",
    "terms_grp = terms[\"sexuality\"]\n",
    "\n",
    "# Create a sub-group membership matrix.\n",
    "comments_test = data_test[\"comment_text\"]\n",
    "subgroups_test = np.zeros((comments_test.shape[0], len(terms_grp)))\n",
    "for ii in range(len(terms_grp)):\n",
    "    subgroups_test[:, ii] = comments_test.str.contains(terms_grp[ii], case=False)\n",
    "\n",
    "# Display sub-group statistics.\n",
    "group_stats = []\n",
    "for ii in range(len(terms_grp)):\n",
    "    group_stats.append([terms_grp[ii],\n",
    "                        \"%.2f%%\" % (subgroups_test[:, ii].mean() * 100),\n",
    "                        \"%.1f%%\" % (labels_test[subgroups_test[:, ii] == 1].mean() * 100)])\n",
    "group_stats_df = pd.DataFrame(\n",
    "    group_stats, columns=[\"Sub-group\", \"Sub-group proportion\", \"Label proportion\"])\n",
    "group_stats_df"
   ]
  },
  {
   "cell_type": "code",
   "execution_count": 92,
   "metadata": {},
   "outputs": [
    {
     "data": {
      "image/png": "[encoded data removed]",
      "text/plain": [
       "<Figure size 576x216 with 2 Axes>"
      ]
     },
     "metadata": {
      "needs_background": "light"
     },
     "output_type": "display_data"
    }
   ],
   "source": [
    "plot_metrics(labels_test, scores_test, subgroups_test,\n",
    "             group_names=terms_grp, title=\"LSTM Robust Opt Model on Finer Groups for Sexuality\")"
   ]
  },
  {
   "cell_type": "code",
   "execution_count": 94,
   "metadata": {},
   "outputs": [
    {
     "name": "stderr",
     "output_type": "stream",
     "text": [
      "/anaconda3/lib/python3.7/site-packages/ipykernel_launcher.py:15: RuntimeWarning: Mean of empty slice.\n",
      "  from ipykernel import kernelapp as app\n"
     ]
    },
    {
     "data": {
      "text/html": [
       "<div>\n",
       "<style scoped>\n",
       "    .dataframe tbody tr th:only-of-type {\n",
       "        vertical-align: middle;\n",
       "    }\n",
       "\n",
       "    .dataframe tbody tr th {\n",
       "        vertical-align: top;\n",
       "    }\n",
       "\n",
       "    .dataframe thead th {\n",
       "        text-align: right;\n",
       "    }\n",
       "</style>\n",
       "<table border=\"1\" class=\"dataframe\">\n",
       "  <thead>\n",
       "    <tr style=\"text-align: right;\">\n",
       "      <th></th>\n",
       "      <th>Sub-group</th>\n",
       "      <th>Sub-group proportion</th>\n",
       "      <th>Label proportion</th>\n",
       "    </tr>\n",
       "  </thead>\n",
       "  <tbody>\n",
       "    <tr>\n",
       "      <th>0</th>\n",
       "      <td>cancer</td>\n",
       "      <td>1.77%</td>\n",
       "      <td>8.5%</td>\n",
       "    </tr>\n",
       "    <tr>\n",
       "      <th>1</th>\n",
       "      <td>arthritis</td>\n",
       "      <td>0.12%</td>\n",
       "      <td>24.9%</td>\n",
       "    </tr>\n",
       "    <tr>\n",
       "      <th>2</th>\n",
       "      <td>injury</td>\n",
       "      <td>5.65%</td>\n",
       "      <td>20.2%</td>\n",
       "    </tr>\n",
       "    <tr>\n",
       "      <th>3</th>\n",
       "      <td>disability</td>\n",
       "      <td>0.00%</td>\n",
       "      <td>nan%</td>\n",
       "    </tr>\n",
       "  </tbody>\n",
       "</table>\n",
       "</div>"
      ],
      "text/plain": [
       "    Sub-group Sub-group proportion Label proportion\n",
       "0      cancer                1.77%             8.5%\n",
       "1   arthritis                0.12%            24.9%\n",
       "2      injury                5.65%            20.2%\n",
       "3  disability                0.00%             nan%"
      ]
     },
     "execution_count": 94,
     "metadata": {},
     "output_type": "execute_result"
    }
   ],
   "source": [
    "# We treat each identity term related to \"gender\" as a separate sub-group.\n",
    "terms_grp = terms[\"gender identity\"]\n",
    "\n",
    "# Create a sub-group membership matrix.\n",
    "comments_test = data_test[\"comment_text\"]\n",
    "subgroups_test = np.zeros((comments_test.shape[0], len(terms_grp)))\n",
    "for ii in range(len(terms_grp)):\n",
    "    subgroups_test[:, ii] = comments_test.str.contains(terms_grp[ii], case=False)\n",
    "\n",
    "# Display sub-group statistics.\n",
    "group_stats = []\n",
    "for ii in range(len(terms_grp)):\n",
    "    group_stats.append([terms_sexuality[ii],\n",
    "                        \"%.2f%%\" % (subgroups_test[:, ii].mean() * 100),\n",
    "                        \"%.1f%%\" % (labels_test[subgroups_test[:, ii] == 1].mean() * 100)])\n",
    "group_stats_df = pd.DataFrame(\n",
    "    group_stats, columns=[\"Sub-group\", \"Sub-group proportion\", \"Label proportion\"])\n",
    "group_stats_df"
   ]
  },
  {
   "cell_type": "code",
   "execution_count": 95,
   "metadata": {},
   "outputs": [
    {
     "data": {
      "image/png": "[encoded data removed]",
      "text/plain": [
       "<Figure size 576x216 with 2 Axes>"
      ]
     },
     "metadata": {
      "needs_background": "light"
     },
     "output_type": "display_data"
    }
   ],
   "source": [
    "plot_metrics(labels_test, scores_test, subgroups_test,\n",
    "             group_names=terms_grp, title=\"LSTM Robust Opt Model on Finer Groups for Gender Inequality\")"
   ]
  },
  {
   "cell_type": "code",
   "execution_count": 96,
   "metadata": {},
   "outputs": [
    {
     "data": {
      "text/html": [
       "<div>\n",
       "<style scoped>\n",
       "    .dataframe tbody tr th:only-of-type {\n",
       "        vertical-align: middle;\n",
       "    }\n",
       "\n",
       "    .dataframe tbody tr th {\n",
       "        vertical-align: top;\n",
       "    }\n",
       "\n",
       "    .dataframe thead th {\n",
       "        text-align: right;\n",
       "    }\n",
       "</style>\n",
       "<table border=\"1\" class=\"dataframe\">\n",
       "  <thead>\n",
       "    <tr style=\"text-align: right;\">\n",
       "      <th></th>\n",
       "      <th>Sub-group</th>\n",
       "      <th>Sub-group proportion</th>\n",
       "      <th>Label proportion</th>\n",
       "    </tr>\n",
       "  </thead>\n",
       "  <tbody>\n",
       "    <tr>\n",
       "      <th>0</th>\n",
       "      <td>christian</td>\n",
       "      <td>0.84%</td>\n",
       "      <td>19.0%</td>\n",
       "    </tr>\n",
       "    <tr>\n",
       "      <th>1</th>\n",
       "      <td>muslim</td>\n",
       "      <td>0.70%</td>\n",
       "      <td>27.5%</td>\n",
       "    </tr>\n",
       "    <tr>\n",
       "      <th>2</th>\n",
       "      <td>jewish</td>\n",
       "      <td>0.17%</td>\n",
       "      <td>19.9%</td>\n",
       "    </tr>\n",
       "    <tr>\n",
       "      <th>3</th>\n",
       "      <td>buddhist</td>\n",
       "      <td>0.04%</td>\n",
       "      <td>21.6%</td>\n",
       "    </tr>\n",
       "    <tr>\n",
       "      <th>4</th>\n",
       "      <td>catholic</td>\n",
       "      <td>1.01%</td>\n",
       "      <td>12.1%</td>\n",
       "    </tr>\n",
       "    <tr>\n",
       "      <th>5</th>\n",
       "      <td>protestant</td>\n",
       "      <td>0.10%</td>\n",
       "      <td>9.0%</td>\n",
       "    </tr>\n",
       "    <tr>\n",
       "      <th>6</th>\n",
       "      <td>sikh</td>\n",
       "      <td>0.05%</td>\n",
       "      <td>13.2%</td>\n",
       "    </tr>\n",
       "    <tr>\n",
       "      <th>7</th>\n",
       "      <td>taoist</td>\n",
       "      <td>0.00%</td>\n",
       "      <td>6.7%</td>\n",
       "    </tr>\n",
       "  </tbody>\n",
       "</table>\n",
       "</div>"
      ],
      "text/plain": [
       "    Sub-group Sub-group proportion Label proportion\n",
       "0   christian                0.84%            19.0%\n",
       "1      muslim                0.70%            27.5%\n",
       "2      jewish                0.17%            19.9%\n",
       "3    buddhist                0.04%            21.6%\n",
       "4    catholic                1.01%            12.1%\n",
       "5  protestant                0.10%             9.0%\n",
       "6        sikh                0.05%            13.2%\n",
       "7      taoist                0.00%             6.7%"
      ]
     },
     "execution_count": 96,
     "metadata": {},
     "output_type": "execute_result"
    }
   ],
   "source": [
    "# We treat each identity term related to \"religion\" as a separate sub-group.\n",
    "terms_grp = terms[\"religion\"]\n",
    "\n",
    "# Create a sub-group membership matrix.\n",
    "comments_test = data_test[\"comment_text\"]\n",
    "subgroups_test = np.zeros((comments_test.shape[0], len(terms_grp)))\n",
    "for ii in range(len(terms_grp)):\n",
    "    subgroups_test[:, ii] = comments_test.str.contains(terms_grp[ii], case=False)\n",
    "\n",
    "# Display sub-group statistics.\n",
    "group_stats = []\n",
    "for ii in range(len(terms_grp)):\n",
    "    group_stats.append([terms_grp[ii],\n",
    "                        \"%.2f%%\" % (subgroups_test[:, ii].mean() * 100),\n",
    "                        \"%.1f%%\" % (labels_test[subgroups_test[:, ii] == 1].mean() * 100)])\n",
    "group_stats_df = pd.DataFrame(\n",
    "    group_stats, columns=[\"Sub-group\", \"Sub-group proportion\", \"Label proportion\"])\n",
    "group_stats_df"
   ]
  },
  {
   "cell_type": "code",
   "execution_count": 97,
   "metadata": {},
   "outputs": [
    {
     "data": {
      "image/png": "[encoded data removed]",
      "text/plain": [
       "<Figure size 576x216 with 2 Axes>"
      ]
     },
     "metadata": {
      "needs_background": "light"
     },
     "output_type": "display_data"
    }
   ],
   "source": [
    "plot_metrics(labels_test, scores_test, subgroups_test,\n",
    "             group_names=terms_grp, title=\"LSTM Robust Opt Model on Finer Groups for Religion\")"
   ]
  },
  {
   "cell_type": "code",
   "execution_count": 98,
   "metadata": {},
   "outputs": [
    {
     "data": {
      "text/html": [
       "<div>\n",
       "<style scoped>\n",
       "    .dataframe tbody tr th:only-of-type {\n",
       "        vertical-align: middle;\n",
       "    }\n",
       "\n",
       "    .dataframe tbody tr th {\n",
       "        vertical-align: top;\n",
       "    }\n",
       "\n",
       "    .dataframe thead th {\n",
       "        text-align: right;\n",
       "    }\n",
       "</style>\n",
       "<table border=\"1\" class=\"dataframe\">\n",
       "  <thead>\n",
       "    <tr style=\"text-align: right;\">\n",
       "      <th></th>\n",
       "      <th>Sub-group</th>\n",
       "      <th>Sub-group proportion</th>\n",
       "      <th>Label proportion</th>\n",
       "    </tr>\n",
       "  </thead>\n",
       "  <tbody>\n",
       "    <tr>\n",
       "      <th>0</th>\n",
       "      <td>african</td>\n",
       "      <td>0.32%</td>\n",
       "      <td>17.5%</td>\n",
       "    </tr>\n",
       "    <tr>\n",
       "      <th>1</th>\n",
       "      <td>african american</td>\n",
       "      <td>0.08%</td>\n",
       "      <td>19.6%</td>\n",
       "    </tr>\n",
       "    <tr>\n",
       "      <th>2</th>\n",
       "      <td>black</td>\n",
       "      <td>1.82%</td>\n",
       "      <td>27.7%</td>\n",
       "    </tr>\n",
       "    <tr>\n",
       "      <th>3</th>\n",
       "      <td>white</td>\n",
       "      <td>3.05%</td>\n",
       "      <td>27.3%</td>\n",
       "    </tr>\n",
       "    <tr>\n",
       "      <th>4</th>\n",
       "      <td>european</td>\n",
       "      <td>0.30%</td>\n",
       "      <td>10.4%</td>\n",
       "    </tr>\n",
       "    <tr>\n",
       "      <th>5</th>\n",
       "      <td>hispanic</td>\n",
       "      <td>0.12%</td>\n",
       "      <td>21.2%</td>\n",
       "    </tr>\n",
       "    <tr>\n",
       "      <th>6</th>\n",
       "      <td>latino</td>\n",
       "      <td>0.06%</td>\n",
       "      <td>24.9%</td>\n",
       "    </tr>\n",
       "    <tr>\n",
       "      <th>7</th>\n",
       "      <td>latina</td>\n",
       "      <td>0.01%</td>\n",
       "      <td>11.4%</td>\n",
       "    </tr>\n",
       "    <tr>\n",
       "      <th>8</th>\n",
       "      <td>latinx</td>\n",
       "      <td>0.00%</td>\n",
       "      <td>8.3%</td>\n",
       "    </tr>\n",
       "    <tr>\n",
       "      <th>9</th>\n",
       "      <td>mexican</td>\n",
       "      <td>0.20%</td>\n",
       "      <td>20.4%</td>\n",
       "    </tr>\n",
       "    <tr>\n",
       "      <th>10</th>\n",
       "      <td>canadian</td>\n",
       "      <td>2.45%</td>\n",
       "      <td>10.0%</td>\n",
       "    </tr>\n",
       "    <tr>\n",
       "      <th>11</th>\n",
       "      <td>american</td>\n",
       "      <td>3.40%</td>\n",
       "      <td>15.3%</td>\n",
       "    </tr>\n",
       "    <tr>\n",
       "      <th>12</th>\n",
       "      <td>asian</td>\n",
       "      <td>0.21%</td>\n",
       "      <td>17.8%</td>\n",
       "    </tr>\n",
       "    <tr>\n",
       "      <th>13</th>\n",
       "      <td>indian</td>\n",
       "      <td>0.27%</td>\n",
       "      <td>15.9%</td>\n",
       "    </tr>\n",
       "    <tr>\n",
       "      <th>14</th>\n",
       "      <td>middle eastern</td>\n",
       "      <td>0.02%</td>\n",
       "      <td>16.9%</td>\n",
       "    </tr>\n",
       "    <tr>\n",
       "      <th>15</th>\n",
       "      <td>chinese</td>\n",
       "      <td>0.38%</td>\n",
       "      <td>12.5%</td>\n",
       "    </tr>\n",
       "    <tr>\n",
       "      <th>16</th>\n",
       "      <td>japanese</td>\n",
       "      <td>0.14%</td>\n",
       "      <td>11.8%</td>\n",
       "    </tr>\n",
       "  </tbody>\n",
       "</table>\n",
       "</div>"
      ],
      "text/plain": [
       "           Sub-group Sub-group proportion Label proportion\n",
       "0            african                0.32%            17.5%\n",
       "1   african american                0.08%            19.6%\n",
       "2              black                1.82%            27.7%\n",
       "3              white                3.05%            27.3%\n",
       "4           european                0.30%            10.4%\n",
       "5           hispanic                0.12%            21.2%\n",
       "6             latino                0.06%            24.9%\n",
       "7             latina                0.01%            11.4%\n",
       "8             latinx                0.00%             8.3%\n",
       "9            mexican                0.20%            20.4%\n",
       "10          canadian                2.45%            10.0%\n",
       "11          american                3.40%            15.3%\n",
       "12             asian                0.21%            17.8%\n",
       "13            indian                0.27%            15.9%\n",
       "14    middle eastern                0.02%            16.9%\n",
       "15           chinese                0.38%            12.5%\n",
       "16          japanese                0.14%            11.8%"
      ]
     },
     "execution_count": 98,
     "metadata": {},
     "output_type": "execute_result"
    }
   ],
   "source": [
    "# We treat each identity term related to \"race\" as a separate sub-group.\n",
    "terms_grp = terms[\"race\"]\n",
    "\n",
    "# Create a sub-group membership matrix.\n",
    "comments_test = data_test[\"comment_text\"]\n",
    "subgroups_test = np.zeros((comments_test.shape[0], len(terms_grp)))\n",
    "for ii in range(len(terms_grp)):\n",
    "    subgroups_test[:, ii] = comments_test.str.contains(terms_grp[ii], case=False)\n",
    "\n",
    "# Display sub-group statistics.\n",
    "group_stats = []\n",
    "for ii in range(len(terms_grp)):\n",
    "    group_stats.append([terms_grp[ii],\n",
    "                        \"%.2f%%\" % (subgroups_test[:, ii].mean() * 100),\n",
    "                        \"%.1f%%\" % (labels_test[subgroups_test[:, ii] == 1].mean() * 100)])\n",
    "group_stats_df = pd.DataFrame(\n",
    "    group_stats, columns=[\"Sub-group\", \"Sub-group proportion\", \"Label proportion\"])\n",
    "group_stats_df"
   ]
  },
  {
   "cell_type": "code",
   "execution_count": 99,
   "metadata": {},
   "outputs": [
    {
     "data": {
      "image/png": "[encoded data removed]",
      "text/plain": [
       "<Figure size 576x216 with 2 Axes>"
      ]
     },
     "metadata": {
      "needs_background": "light"
     },
     "output_type": "display_data"
    }
   ],
   "source": [
    "plot_metrics(labels_test, scores_test, subgroups_test,\n",
    "             group_names=terms_grp, title=\"LSTM Robust Opt Model on Finer Groups for Race\")"
   ]
  },
  {
   "cell_type": "code",
   "execution_count": 105,
   "metadata": {},
   "outputs": [
    {
     "name": "stderr",
     "output_type": "stream",
     "text": [
      "/anaconda3/lib/python3.7/site-packages/ipykernel_launcher.py:14: RuntimeWarning: Mean of empty slice.\n",
      "  \n"
     ]
    },
    {
     "data": {
      "text/html": [
       "<div>\n",
       "<style scoped>\n",
       "    .dataframe tbody tr th:only-of-type {\n",
       "        vertical-align: middle;\n",
       "    }\n",
       "\n",
       "    .dataframe tbody tr th {\n",
       "        vertical-align: top;\n",
       "    }\n",
       "\n",
       "    .dataframe thead th {\n",
       "        text-align: right;\n",
       "    }\n",
       "</style>\n",
       "<table border=\"1\" class=\"dataframe\">\n",
       "  <thead>\n",
       "    <tr style=\"text-align: right;\">\n",
       "      <th></th>\n",
       "      <th>Sub-group</th>\n",
       "      <th>Sub-group proportion</th>\n",
       "      <th>Label proportion</th>\n",
       "    </tr>\n",
       "  </thead>\n",
       "  <tbody>\n",
       "    <tr>\n",
       "      <th>0</th>\n",
       "      <td>depression</td>\n",
       "      <td>0.08%</td>\n",
       "      <td>10.1%</td>\n",
       "    </tr>\n",
       "    <tr>\n",
       "      <th>1</th>\n",
       "      <td>anxiety</td>\n",
       "      <td>0.05%</td>\n",
       "      <td>7.7%</td>\n",
       "    </tr>\n",
       "    <tr>\n",
       "      <th>2</th>\n",
       "      <td>bipolar</td>\n",
       "      <td>0.01%</td>\n",
       "      <td>14.0%</td>\n",
       "    </tr>\n",
       "    <tr>\n",
       "      <th>3</th>\n",
       "      <td>autism</td>\n",
       "      <td>0.02%</td>\n",
       "      <td>5.5%</td>\n",
       "    </tr>\n",
       "    <tr>\n",
       "      <th>4</th>\n",
       "      <td>schizophrenia</td>\n",
       "      <td>0.01%</td>\n",
       "      <td>10.3%</td>\n",
       "    </tr>\n",
       "    <tr>\n",
       "      <th>5</th>\n",
       "      <td>adhd</td>\n",
       "      <td>0.01%</td>\n",
       "      <td>8.2%</td>\n",
       "    </tr>\n",
       "    <tr>\n",
       "      <th>6</th>\n",
       "      <td>attention-Deficit</td>\n",
       "      <td>0.00%</td>\n",
       "      <td>nan%</td>\n",
       "    </tr>\n",
       "    <tr>\n",
       "      <th>7</th>\n",
       "      <td>agoraphobia</td>\n",
       "      <td>0.00%</td>\n",
       "      <td>0.0%</td>\n",
       "    </tr>\n",
       "    <tr>\n",
       "      <th>8</th>\n",
       "      <td>amnesia</td>\n",
       "      <td>0.01%</td>\n",
       "      <td>16.3%</td>\n",
       "    </tr>\n",
       "    <tr>\n",
       "      <th>9</th>\n",
       "      <td>asperger</td>\n",
       "      <td>0.00%</td>\n",
       "      <td>13.3%</td>\n",
       "    </tr>\n",
       "    <tr>\n",
       "      <th>10</th>\n",
       "      <td>alcohol abuse</td>\n",
       "      <td>0.01%</td>\n",
       "      <td>10.1%</td>\n",
       "    </tr>\n",
       "    <tr>\n",
       "      <th>11</th>\n",
       "      <td>alcoholic</td>\n",
       "      <td>0.04%</td>\n",
       "      <td>14.3%</td>\n",
       "    </tr>\n",
       "  </tbody>\n",
       "</table>\n",
       "</div>"
      ],
      "text/plain": [
       "            Sub-group Sub-group proportion Label proportion\n",
       "0          depression                0.08%            10.1%\n",
       "1             anxiety                0.05%             7.7%\n",
       "2             bipolar                0.01%            14.0%\n",
       "3              autism                0.02%             5.5%\n",
       "4       schizophrenia                0.01%            10.3%\n",
       "5                adhd                0.01%             8.2%\n",
       "6   attention-Deficit                0.00%             nan%\n",
       "7         agoraphobia                0.00%             0.0%\n",
       "8             amnesia                0.01%            16.3%\n",
       "9            asperger                0.00%            13.3%\n",
       "10      alcohol abuse                0.01%            10.1%\n",
       "11          alcoholic                0.04%            14.3%"
      ]
     },
     "execution_count": 105,
     "metadata": {},
     "output_type": "execute_result"
    }
   ],
   "source": [
    "# We treat each identity term related to \"mental\" as a separate sub-group.\n",
    "terms_grp = terms[\"mental\"]\n",
    "\n",
    "comments_test = data_test[\"comment_text\"]\n",
    "subgroups_test = np.zeros((comments_test.shape[0], len(terms_grp)))\n",
    "for ii in range(len(terms_grp)):\n",
    "    subgroups_test[:, ii] = comments_test.str.contains(terms_grp[ii], case=False)\n",
    "\n",
    "# Display sub-group statistics.\n",
    "group_stats = []\n",
    "for ii in range(len(terms_grp)):\n",
    "    group_stats.append([terms_grp[ii],\n",
    "                        \"%.2f%%\" % (subgroups_test[:, ii].mean() * 100),\n",
    "                        \"%.1f%%\" % (labels_test[subgroups_test[:, ii] == 1].mean() * 100)])\n",
    "group_stats_df = pd.DataFrame(\n",
    "    group_stats, columns=[\"Sub-group\", \"Sub-group proportion\", \"Label proportion\"])\n",
    "group_stats_df"
   ]
  },
  {
   "cell_type": "code",
   "execution_count": 106,
   "metadata": {},
   "outputs": [
    {
     "data": {
      "image/png": "[encoded data removed]",
      "text/plain": [
       "<Figure size 576x216 with 2 Axes>"
      ]
     },
     "metadata": {
      "needs_background": "light"
     },
     "output_type": "display_data"
    }
   ],
   "source": [
    "plot_metrics(labels_test, scores_test, subgroups_test,\n",
    "             group_names=terms_grp, title=\"LSTM Robust Opt Model on Finer Groups for Mental Health\")"
   ]
  },
  {
   "cell_type": "code",
   "execution_count": 101,
   "metadata": {},
   "outputs": [
    {
     "data": {
      "text/html": [
       "<div>\n",
       "<style scoped>\n",
       "    .dataframe tbody tr th:only-of-type {\n",
       "        vertical-align: middle;\n",
       "    }\n",
       "\n",
       "    .dataframe tbody tr th {\n",
       "        vertical-align: top;\n",
       "    }\n",
       "\n",
       "    .dataframe thead th {\n",
       "        text-align: right;\n",
       "    }\n",
       "</style>\n",
       "<table border=\"1\" class=\"dataframe\">\n",
       "  <thead>\n",
       "    <tr style=\"text-align: right;\">\n",
       "      <th></th>\n",
       "      <th>Sub-group</th>\n",
       "      <th>Sub-group proportion</th>\n",
       "      <th>Label proportion</th>\n",
       "    </tr>\n",
       "  </thead>\n",
       "  <tbody>\n",
       "    <tr>\n",
       "      <th>0</th>\n",
       "      <td>cancer</td>\n",
       "      <td>0.22%</td>\n",
       "      <td>15.9%</td>\n",
       "    </tr>\n",
       "    <tr>\n",
       "      <th>1</th>\n",
       "      <td>arthritis</td>\n",
       "      <td>0.01%</td>\n",
       "      <td>7.5%</td>\n",
       "    </tr>\n",
       "    <tr>\n",
       "      <th>2</th>\n",
       "      <td>injury</td>\n",
       "      <td>0.17%</td>\n",
       "      <td>7.3%</td>\n",
       "    </tr>\n",
       "    <tr>\n",
       "      <th>3</th>\n",
       "      <td>disability</td>\n",
       "      <td>0.07%</td>\n",
       "      <td>9.1%</td>\n",
       "    </tr>\n",
       "    <tr>\n",
       "      <th>4</th>\n",
       "      <td>alzheimer's</td>\n",
       "      <td>0.01%</td>\n",
       "      <td>6.7%</td>\n",
       "    </tr>\n",
       "    <tr>\n",
       "      <th>5</th>\n",
       "      <td>diabetes</td>\n",
       "      <td>0.03%</td>\n",
       "      <td>6.9%</td>\n",
       "    </tr>\n",
       "    <tr>\n",
       "      <th>6</th>\n",
       "      <td>infertility</td>\n",
       "      <td>0.00%</td>\n",
       "      <td>19.2%</td>\n",
       "    </tr>\n",
       "    <tr>\n",
       "      <th>7</th>\n",
       "      <td>hiv</td>\n",
       "      <td>0.09%</td>\n",
       "      <td>8.6%</td>\n",
       "    </tr>\n",
       "    <tr>\n",
       "      <th>8</th>\n",
       "      <td>parkinson</td>\n",
       "      <td>0.00%</td>\n",
       "      <td>3.8%</td>\n",
       "    </tr>\n",
       "    <tr>\n",
       "      <th>9</th>\n",
       "      <td>herpes</td>\n",
       "      <td>0.00%</td>\n",
       "      <td>20.3%</td>\n",
       "    </tr>\n",
       "    <tr>\n",
       "      <th>10</th>\n",
       "      <td>ulcers</td>\n",
       "      <td>0.00%</td>\n",
       "      <td>27.5%</td>\n",
       "    </tr>\n",
       "    <tr>\n",
       "      <th>11</th>\n",
       "      <td>allergies</td>\n",
       "      <td>0.01%</td>\n",
       "      <td>3.8%</td>\n",
       "    </tr>\n",
       "    <tr>\n",
       "      <th>12</th>\n",
       "      <td>stroke</td>\n",
       "      <td>0.05%</td>\n",
       "      <td>12.1%</td>\n",
       "    </tr>\n",
       "    <tr>\n",
       "      <th>13</th>\n",
       "      <td>influenza</td>\n",
       "      <td>0.00%</td>\n",
       "      <td>3.8%</td>\n",
       "    </tr>\n",
       "  </tbody>\n",
       "</table>\n",
       "</div>"
      ],
      "text/plain": [
       "      Sub-group Sub-group proportion Label proportion\n",
       "0        cancer                0.22%            15.9%\n",
       "1     arthritis                0.01%             7.5%\n",
       "2        injury                0.17%             7.3%\n",
       "3    disability                0.07%             9.1%\n",
       "4   alzheimer's                0.01%             6.7%\n",
       "5      diabetes                0.03%             6.9%\n",
       "6   infertility                0.00%            19.2%\n",
       "7           hiv                0.09%             8.6%\n",
       "8     parkinson                0.00%             3.8%\n",
       "9        herpes                0.00%            20.3%\n",
       "10       ulcers                0.00%            27.5%\n",
       "11    allergies                0.01%             3.8%\n",
       "12       stroke                0.05%            12.1%\n",
       "13    influenza                0.00%             3.8%"
      ]
     },
     "execution_count": 101,
     "metadata": {},
     "output_type": "execute_result"
    }
   ],
   "source": [
    "# We treat each identity term related to \"Physical\" as a separate sub-group.\n",
    "terms_grp = terms[\"physical\"]\n",
    "\n",
    "# Create a sub-group membership matrix.\n",
    "comments_test = data_test[\"comment_text\"]\n",
    "subgroups_test = np.zeros((comments_test.shape[0], len(terms_grp)))\n",
    "for ii in range(len(terms_sexuality)):\n",
    "    subgroups_test[:, ii] = comments_test.str.contains(terms_grp[ii], case=False)\n",
    "\n",
    "# Display sub-group statistics.\n",
    "group_stats = []\n",
    "for ii in range(len(terms_grp)):\n",
    "    group_stats.append([terms_grp[ii],\n",
    "                        \"%.2f%%\" % (subgroups_test[:, ii].mean() * 100),\n",
    "                        \"%.1f%%\" % (labels_test[subgroups_test[:, ii] == 1].mean() * 100)])\n",
    "group_stats_df = pd.DataFrame(\n",
    "    group_stats, columns=[\"Sub-group\", \"Sub-group proportion\", \"Label proportion\"])\n",
    "group_stats_df"
   ]
  },
  {
   "cell_type": "code",
   "execution_count": 102,
   "metadata": {},
   "outputs": [
    {
     "data": {
      "image/png": "[encoded data removed]",
      "text/plain": [
       "<Figure size 576x216 with 2 Axes>"
      ]
     },
     "metadata": {
      "needs_background": "light"
     },
     "output_type": "display_data"
    }
   ],
   "source": [
    "plot_metrics(labels_test, scores_test, subgroups_test,\n",
    "             group_names=terms_grp, title=\"LSTM Robust Opt Model on Finer Groups for Physical Health\")"
   ]
  },
  {
   "cell_type": "code",
   "execution_count": 107,
   "metadata": {},
   "outputs": [
    {
     "data": {
      "text/html": [
       "<div>\n",
       "<style scoped>\n",
       "    .dataframe tbody tr th:only-of-type {\n",
       "        vertical-align: middle;\n",
       "    }\n",
       "\n",
       "    .dataframe tbody tr th {\n",
       "        vertical-align: top;\n",
       "    }\n",
       "\n",
       "    .dataframe thead th {\n",
       "        text-align: right;\n",
       "    }\n",
       "</style>\n",
       "<table border=\"1\" class=\"dataframe\">\n",
       "  <thead>\n",
       "    <tr style=\"text-align: right;\">\n",
       "      <th></th>\n",
       "      <th>Sub-group</th>\n",
       "      <th>Sub-group proportion</th>\n",
       "      <th>Label proportion</th>\n",
       "    </tr>\n",
       "  </thead>\n",
       "  <tbody>\n",
       "    <tr>\n",
       "      <th>0</th>\n",
       "      <td>poor</td>\n",
       "      <td>1.57%</td>\n",
       "      <td>13.4%</td>\n",
       "    </tr>\n",
       "    <tr>\n",
       "      <th>1</th>\n",
       "      <td>retired</td>\n",
       "      <td>0.21%</td>\n",
       "      <td>7.4%</td>\n",
       "    </tr>\n",
       "    <tr>\n",
       "      <th>2</th>\n",
       "      <td>unemployed</td>\n",
       "      <td>0.07%</td>\n",
       "      <td>9.7%</td>\n",
       "    </tr>\n",
       "    <tr>\n",
       "      <th>3</th>\n",
       "      <td>rich</td>\n",
       "      <td>1.32%</td>\n",
       "      <td>12.0%</td>\n",
       "    </tr>\n",
       "    <tr>\n",
       "      <th>4</th>\n",
       "      <td>homeless</td>\n",
       "      <td>0.53%</td>\n",
       "      <td>9.6%</td>\n",
       "    </tr>\n",
       "    <tr>\n",
       "      <th>5</th>\n",
       "      <td>layoffs</td>\n",
       "      <td>0.11%</td>\n",
       "      <td>6.7%</td>\n",
       "    </tr>\n",
       "  </tbody>\n",
       "</table>\n",
       "</div>"
      ],
      "text/plain": [
       "    Sub-group Sub-group proportion Label proportion\n",
       "0        poor                1.57%            13.4%\n",
       "1     retired                0.21%             7.4%\n",
       "2  unemployed                0.07%             9.7%\n",
       "3        rich                1.32%            12.0%\n",
       "4    homeless                0.53%             9.6%\n",
       "5     layoffs                0.11%             6.7%"
      ]
     },
     "execution_count": 107,
     "metadata": {},
     "output_type": "execute_result"
    }
   ],
   "source": [
    "# We treat each identity term related to \"economic\" as a separate sub-group.\n",
    "terms_grp = terms[\"economic\"]\n",
    "\n",
    "# Create a sub-group membership matrix.\n",
    "comments_test = data_test[\"comment_text\"]\n",
    "subgroups_test = np.zeros((comments_test.shape[0], len(terms_grp)))\n",
    "for ii in range(len(terms_grp)):\n",
    "    subgroups_test[:, ii] = comments_test.str.contains(terms_grp[ii], case=False)\n",
    "\n",
    "# Display sub-group statistics.\n",
    "group_stats = []\n",
    "for ii in range(len(terms_grp)):\n",
    "    group_stats.append([terms_grp[ii],\n",
    "                        \"%.2f%%\" % (subgroups_test[:, ii].mean() * 100),\n",
    "                        \"%.1f%%\" % (labels_test[subgroups_test[:, ii] == 1].mean() * 100)])\n",
    "group_stats_df = pd.DataFrame(\n",
    "    group_stats, columns=[\"Sub-group\", \"Sub-group proportion\", \"Label proportion\"])\n",
    "group_stats_df"
   ]
  },
  {
   "cell_type": "code",
   "execution_count": 108,
   "metadata": {},
   "outputs": [
    {
     "data": {
      "image/png": "[encoded data removed]",
      "text/plain": [
       "<Figure size 576x216 with 2 Axes>"
      ]
     },
     "metadata": {
      "needs_background": "light"
     },
     "output_type": "display_data"
    }
   ],
   "source": [
    "plot_metrics(labels_test, scores_test, subgroups_test,\n",
    "             group_names=terms_grp, title=\"LSTM Robust Opt Model on Finer Groups for Economic Status\")"
   ]
  },
  {
   "cell_type": "markdown",
   "metadata": {},
   "source": [
    "# END LSTM##########"
   ]
  },
  {
   "cell_type": "markdown",
   "metadata": {},
   "source": [
    "# BI-LSTM Performance on finer groups"
   ]
  },
  {
   "cell_type": "code",
   "execution_count": 123,
   "metadata": {},
   "outputs": [
    {
     "data": {
      "text/html": [
       "<div>\n",
       "<style scoped>\n",
       "    .dataframe tbody tr th:only-of-type {\n",
       "        vertical-align: middle;\n",
       "    }\n",
       "\n",
       "    .dataframe tbody tr th {\n",
       "        vertical-align: top;\n",
       "    }\n",
       "\n",
       "    .dataframe thead th {\n",
       "        text-align: right;\n",
       "    }\n",
       "</style>\n",
       "<table border=\"1\" class=\"dataframe\">\n",
       "  <thead>\n",
       "    <tr style=\"text-align: right;\">\n",
       "      <th></th>\n",
       "      <th>Sub-group</th>\n",
       "      <th>Sub-group proportion</th>\n",
       "      <th>Label proportion</th>\n",
       "    </tr>\n",
       "  </thead>\n",
       "  <tbody>\n",
       "    <tr>\n",
       "      <th>0</th>\n",
       "      <td>gay</td>\n",
       "      <td>0.48%</td>\n",
       "      <td>32.1%</td>\n",
       "    </tr>\n",
       "    <tr>\n",
       "      <th>1</th>\n",
       "      <td>lesbian</td>\n",
       "      <td>0.05%</td>\n",
       "      <td>32.0%</td>\n",
       "    </tr>\n",
       "    <tr>\n",
       "      <th>2</th>\n",
       "      <td>bisexual</td>\n",
       "      <td>0.01%</td>\n",
       "      <td>27.1%</td>\n",
       "    </tr>\n",
       "    <tr>\n",
       "      <th>3</th>\n",
       "      <td>homosexual</td>\n",
       "      <td>0.21%</td>\n",
       "      <td>28.3%</td>\n",
       "    </tr>\n",
       "    <tr>\n",
       "      <th>4</th>\n",
       "      <td>straight</td>\n",
       "      <td>0.42%</td>\n",
       "      <td>14.6%</td>\n",
       "    </tr>\n",
       "    <tr>\n",
       "      <th>5</th>\n",
       "      <td>heterosexual</td>\n",
       "      <td>0.06%</td>\n",
       "      <td>25.2%</td>\n",
       "    </tr>\n",
       "  </tbody>\n",
       "</table>\n",
       "</div>"
      ],
      "text/plain": [
       "      Sub-group Sub-group proportion Label proportion\n",
       "0           gay                0.48%            32.1%\n",
       "1       lesbian                0.05%            32.0%\n",
       "2      bisexual                0.01%            27.1%\n",
       "3    homosexual                0.21%            28.3%\n",
       "4      straight                0.42%            14.6%\n",
       "5  heterosexual                0.06%            25.2%"
      ]
     },
     "execution_count": 123,
     "metadata": {},
     "output_type": "execute_result"
    }
   ],
   "source": [
    "# We treat each identity term related to \"sexuality\" as a separate sub-group.\n",
    "terms_grp = terms[\"sexuality\"]\n",
    "\n",
    "# Create a sub-group membership matrix.\n",
    "comments_test = data_test[\"comment_text\"]\n",
    "subgroups_test = np.zeros((comments_test.shape[0], len(terms_grp)))\n",
    "for ii in range(len(terms_grp)):\n",
    "    subgroups_test[:, ii] = comments_test.str.contains(terms_grp[ii], case=False)\n",
    "\n",
    "# Display sub-group statistics.\n",
    "group_stats = []\n",
    "for ii in range(len(terms_grp)):\n",
    "    group_stats.append([terms_grp[ii],\n",
    "                        \"%.2f%%\" % (subgroups_test[:, ii].mean() * 100),\n",
    "                        \"%.1f%%\" % (labels_test[subgroups_test[:, ii] == 1].mean() * 100)])\n",
    "group_stats_df = pd.DataFrame(\n",
    "    group_stats, columns=[\"Sub-group\", \"Sub-group proportion\", \"Label proportion\"])\n",
    "group_stats_df"
   ]
  },
  {
   "cell_type": "code",
   "execution_count": 124,
   "metadata": {},
   "outputs": [
    {
     "data": {
      "image/png": "[encoded data removed]",
      "text/plain": [
       "<Figure size 576x216 with 2 Axes>"
      ]
     },
     "metadata": {
      "needs_background": "light"
     },
     "output_type": "display_data"
    }
   ],
   "source": [
    "plot_metrics(labels_test, scores_test, subgroups_test,\n",
    "             group_names=terms_grp, title=\"BI-LSTM Robust Opt Model on Finer Groups for Sexuality\")"
   ]
  },
  {
   "cell_type": "code",
   "execution_count": 125,
   "metadata": {},
   "outputs": [
    {
     "name": "stderr",
     "output_type": "stream",
     "text": [
      "/anaconda3/lib/python3.7/site-packages/ipykernel_launcher.py:15: RuntimeWarning: Mean of empty slice.\n",
      "  from ipykernel import kernelapp as app\n"
     ]
    },
    {
     "data": {
      "text/html": [
       "<div>\n",
       "<style scoped>\n",
       "    .dataframe tbody tr th:only-of-type {\n",
       "        vertical-align: middle;\n",
       "    }\n",
       "\n",
       "    .dataframe tbody tr th {\n",
       "        vertical-align: top;\n",
       "    }\n",
       "\n",
       "    .dataframe thead th {\n",
       "        text-align: right;\n",
       "    }\n",
       "</style>\n",
       "<table border=\"1\" class=\"dataframe\">\n",
       "  <thead>\n",
       "    <tr style=\"text-align: right;\">\n",
       "      <th></th>\n",
       "      <th>Sub-group</th>\n",
       "      <th>Sub-group proportion</th>\n",
       "      <th>Label proportion</th>\n",
       "    </tr>\n",
       "  </thead>\n",
       "  <tbody>\n",
       "    <tr>\n",
       "      <th>0</th>\n",
       "      <td>cancer</td>\n",
       "      <td>1.77%</td>\n",
       "      <td>8.5%</td>\n",
       "    </tr>\n",
       "    <tr>\n",
       "      <th>1</th>\n",
       "      <td>arthritis</td>\n",
       "      <td>0.12%</td>\n",
       "      <td>24.9%</td>\n",
       "    </tr>\n",
       "    <tr>\n",
       "      <th>2</th>\n",
       "      <td>injury</td>\n",
       "      <td>5.65%</td>\n",
       "      <td>20.2%</td>\n",
       "    </tr>\n",
       "    <tr>\n",
       "      <th>3</th>\n",
       "      <td>disability</td>\n",
       "      <td>0.00%</td>\n",
       "      <td>nan%</td>\n",
       "    </tr>\n",
       "  </tbody>\n",
       "</table>\n",
       "</div>"
      ],
      "text/plain": [
       "    Sub-group Sub-group proportion Label proportion\n",
       "0      cancer                1.77%             8.5%\n",
       "1   arthritis                0.12%            24.9%\n",
       "2      injury                5.65%            20.2%\n",
       "3  disability                0.00%             nan%"
      ]
     },
     "execution_count": 125,
     "metadata": {},
     "output_type": "execute_result"
    }
   ],
   "source": [
    "# We treat each identity term related to \"gender\" as a separate sub-group.\n",
    "terms_grp = terms[\"gender identity\"]\n",
    "\n",
    "# Create a sub-group membership matrix.\n",
    "comments_test = data_test[\"comment_text\"]\n",
    "subgroups_test = np.zeros((comments_test.shape[0], len(terms_grp)))\n",
    "for ii in range(len(terms_grp)):\n",
    "    subgroups_test[:, ii] = comments_test.str.contains(terms_grp[ii], case=False)\n",
    "\n",
    "# Display sub-group statistics.\n",
    "group_stats = []\n",
    "for ii in range(len(terms_grp)):\n",
    "    group_stats.append([terms_sexuality[ii],\n",
    "                        \"%.2f%%\" % (subgroups_test[:, ii].mean() * 100),\n",
    "                        \"%.1f%%\" % (labels_test[subgroups_test[:, ii] == 1].mean() * 100)])\n",
    "group_stats_df = pd.DataFrame(\n",
    "    group_stats, columns=[\"Sub-group\", \"Sub-group proportion\", \"Label proportion\"])\n",
    "group_stats_df"
   ]
  },
  {
   "cell_type": "code",
   "execution_count": 126,
   "metadata": {},
   "outputs": [
    {
     "data": {
      "image/png": "[encoded data removed]",
      "text/plain": [
       "<Figure size 576x216 with 2 Axes>"
      ]
     },
     "metadata": {
      "needs_background": "light"
     },
     "output_type": "display_data"
    }
   ],
   "source": [
    "plot_metrics(labels_test, scores_test, subgroups_test,\n",
    "             group_names=terms_grp, title=\"BI-LSTM Robust Opt Model on Finer Groups for Gender Inequality\")"
   ]
  },
  {
   "cell_type": "code",
   "execution_count": 127,
   "metadata": {},
   "outputs": [
    {
     "data": {
      "text/html": [
       "<div>\n",
       "<style scoped>\n",
       "    .dataframe tbody tr th:only-of-type {\n",
       "        vertical-align: middle;\n",
       "    }\n",
       "\n",
       "    .dataframe tbody tr th {\n",
       "        vertical-align: top;\n",
       "    }\n",
       "\n",
       "    .dataframe thead th {\n",
       "        text-align: right;\n",
       "    }\n",
       "</style>\n",
       "<table border=\"1\" class=\"dataframe\">\n",
       "  <thead>\n",
       "    <tr style=\"text-align: right;\">\n",
       "      <th></th>\n",
       "      <th>Sub-group</th>\n",
       "      <th>Sub-group proportion</th>\n",
       "      <th>Label proportion</th>\n",
       "    </tr>\n",
       "  </thead>\n",
       "  <tbody>\n",
       "    <tr>\n",
       "      <th>0</th>\n",
       "      <td>christian</td>\n",
       "      <td>0.84%</td>\n",
       "      <td>19.0%</td>\n",
       "    </tr>\n",
       "    <tr>\n",
       "      <th>1</th>\n",
       "      <td>muslim</td>\n",
       "      <td>0.70%</td>\n",
       "      <td>27.5%</td>\n",
       "    </tr>\n",
       "    <tr>\n",
       "      <th>2</th>\n",
       "      <td>jewish</td>\n",
       "      <td>0.17%</td>\n",
       "      <td>19.9%</td>\n",
       "    </tr>\n",
       "    <tr>\n",
       "      <th>3</th>\n",
       "      <td>buddhist</td>\n",
       "      <td>0.04%</td>\n",
       "      <td>21.6%</td>\n",
       "    </tr>\n",
       "    <tr>\n",
       "      <th>4</th>\n",
       "      <td>catholic</td>\n",
       "      <td>1.01%</td>\n",
       "      <td>12.1%</td>\n",
       "    </tr>\n",
       "    <tr>\n",
       "      <th>5</th>\n",
       "      <td>protestant</td>\n",
       "      <td>0.10%</td>\n",
       "      <td>9.0%</td>\n",
       "    </tr>\n",
       "    <tr>\n",
       "      <th>6</th>\n",
       "      <td>sikh</td>\n",
       "      <td>0.05%</td>\n",
       "      <td>13.2%</td>\n",
       "    </tr>\n",
       "    <tr>\n",
       "      <th>7</th>\n",
       "      <td>taoist</td>\n",
       "      <td>0.00%</td>\n",
       "      <td>6.7%</td>\n",
       "    </tr>\n",
       "  </tbody>\n",
       "</table>\n",
       "</div>"
      ],
      "text/plain": [
       "    Sub-group Sub-group proportion Label proportion\n",
       "0   christian                0.84%            19.0%\n",
       "1      muslim                0.70%            27.5%\n",
       "2      jewish                0.17%            19.9%\n",
       "3    buddhist                0.04%            21.6%\n",
       "4    catholic                1.01%            12.1%\n",
       "5  protestant                0.10%             9.0%\n",
       "6        sikh                0.05%            13.2%\n",
       "7      taoist                0.00%             6.7%"
      ]
     },
     "execution_count": 127,
     "metadata": {},
     "output_type": "execute_result"
    }
   ],
   "source": [
    "# We treat each identity term related to \"religion\" as a separate sub-group.\n",
    "terms_grp = terms[\"religion\"]\n",
    "\n",
    "# Create a sub-group membership matrix.\n",
    "comments_test = data_test[\"comment_text\"]\n",
    "subgroups_test = np.zeros((comments_test.shape[0], len(terms_grp)))\n",
    "for ii in range(len(terms_grp)):\n",
    "    subgroups_test[:, ii] = comments_test.str.contains(terms_grp[ii], case=False)\n",
    "\n",
    "# Display sub-group statistics.\n",
    "group_stats = []\n",
    "for ii in range(len(terms_grp)):\n",
    "    group_stats.append([terms_grp[ii],\n",
    "                        \"%.2f%%\" % (subgroups_test[:, ii].mean() * 100),\n",
    "                        \"%.1f%%\" % (labels_test[subgroups_test[:, ii] == 1].mean() * 100)])\n",
    "group_stats_df = pd.DataFrame(\n",
    "    group_stats, columns=[\"Sub-group\", \"Sub-group proportion\", \"Label proportion\"])\n",
    "group_stats_df"
   ]
  },
  {
   "cell_type": "code",
   "execution_count": 128,
   "metadata": {},
   "outputs": [
    {
     "data": {
      "image/png": "[encoded data removed]",
      "text/plain": [
       "<Figure size 576x216 with 2 Axes>"
      ]
     },
     "metadata": {
      "needs_background": "light"
     },
     "output_type": "display_data"
    }
   ],
   "source": [
    "plot_metrics(labels_test, scores_test, subgroups_test,\n",
    "             group_names=terms_grp, title=\"BI-LSTM Robust Opt Model on Finer Groups for Religion\")"
   ]
  },
  {
   "cell_type": "code",
   "execution_count": 129,
   "metadata": {},
   "outputs": [
    {
     "data": {
      "text/html": [
       "<div>\n",
       "<style scoped>\n",
       "    .dataframe tbody tr th:only-of-type {\n",
       "        vertical-align: middle;\n",
       "    }\n",
       "\n",
       "    .dataframe tbody tr th {\n",
       "        vertical-align: top;\n",
       "    }\n",
       "\n",
       "    .dataframe thead th {\n",
       "        text-align: right;\n",
       "    }\n",
       "</style>\n",
       "<table border=\"1\" class=\"dataframe\">\n",
       "  <thead>\n",
       "    <tr style=\"text-align: right;\">\n",
       "      <th></th>\n",
       "      <th>Sub-group</th>\n",
       "      <th>Sub-group proportion</th>\n",
       "      <th>Label proportion</th>\n",
       "    </tr>\n",
       "  </thead>\n",
       "  <tbody>\n",
       "    <tr>\n",
       "      <th>0</th>\n",
       "      <td>african</td>\n",
       "      <td>0.32%</td>\n",
       "      <td>17.5%</td>\n",
       "    </tr>\n",
       "    <tr>\n",
       "      <th>1</th>\n",
       "      <td>african american</td>\n",
       "      <td>0.08%</td>\n",
       "      <td>19.6%</td>\n",
       "    </tr>\n",
       "    <tr>\n",
       "      <th>2</th>\n",
       "      <td>black</td>\n",
       "      <td>1.82%</td>\n",
       "      <td>27.7%</td>\n",
       "    </tr>\n",
       "    <tr>\n",
       "      <th>3</th>\n",
       "      <td>white</td>\n",
       "      <td>3.05%</td>\n",
       "      <td>27.3%</td>\n",
       "    </tr>\n",
       "    <tr>\n",
       "      <th>4</th>\n",
       "      <td>european</td>\n",
       "      <td>0.30%</td>\n",
       "      <td>10.4%</td>\n",
       "    </tr>\n",
       "    <tr>\n",
       "      <th>5</th>\n",
       "      <td>hispanic</td>\n",
       "      <td>0.12%</td>\n",
       "      <td>21.2%</td>\n",
       "    </tr>\n",
       "    <tr>\n",
       "      <th>6</th>\n",
       "      <td>latino</td>\n",
       "      <td>0.06%</td>\n",
       "      <td>24.9%</td>\n",
       "    </tr>\n",
       "    <tr>\n",
       "      <th>7</th>\n",
       "      <td>latina</td>\n",
       "      <td>0.01%</td>\n",
       "      <td>11.4%</td>\n",
       "    </tr>\n",
       "    <tr>\n",
       "      <th>8</th>\n",
       "      <td>latinx</td>\n",
       "      <td>0.00%</td>\n",
       "      <td>8.3%</td>\n",
       "    </tr>\n",
       "    <tr>\n",
       "      <th>9</th>\n",
       "      <td>mexican</td>\n",
       "      <td>0.20%</td>\n",
       "      <td>20.4%</td>\n",
       "    </tr>\n",
       "    <tr>\n",
       "      <th>10</th>\n",
       "      <td>canadian</td>\n",
       "      <td>2.45%</td>\n",
       "      <td>10.0%</td>\n",
       "    </tr>\n",
       "    <tr>\n",
       "      <th>11</th>\n",
       "      <td>american</td>\n",
       "      <td>3.40%</td>\n",
       "      <td>15.3%</td>\n",
       "    </tr>\n",
       "    <tr>\n",
       "      <th>12</th>\n",
       "      <td>asian</td>\n",
       "      <td>0.21%</td>\n",
       "      <td>17.8%</td>\n",
       "    </tr>\n",
       "    <tr>\n",
       "      <th>13</th>\n",
       "      <td>indian</td>\n",
       "      <td>0.27%</td>\n",
       "      <td>15.9%</td>\n",
       "    </tr>\n",
       "    <tr>\n",
       "      <th>14</th>\n",
       "      <td>middle eastern</td>\n",
       "      <td>0.02%</td>\n",
       "      <td>16.9%</td>\n",
       "    </tr>\n",
       "    <tr>\n",
       "      <th>15</th>\n",
       "      <td>chinese</td>\n",
       "      <td>0.38%</td>\n",
       "      <td>12.5%</td>\n",
       "    </tr>\n",
       "    <tr>\n",
       "      <th>16</th>\n",
       "      <td>japanese</td>\n",
       "      <td>0.14%</td>\n",
       "      <td>11.8%</td>\n",
       "    </tr>\n",
       "  </tbody>\n",
       "</table>\n",
       "</div>"
      ],
      "text/plain": [
       "           Sub-group Sub-group proportion Label proportion\n",
       "0            african                0.32%            17.5%\n",
       "1   african american                0.08%            19.6%\n",
       "2              black                1.82%            27.7%\n",
       "3              white                3.05%            27.3%\n",
       "4           european                0.30%            10.4%\n",
       "5           hispanic                0.12%            21.2%\n",
       "6             latino                0.06%            24.9%\n",
       "7             latina                0.01%            11.4%\n",
       "8             latinx                0.00%             8.3%\n",
       "9            mexican                0.20%            20.4%\n",
       "10          canadian                2.45%            10.0%\n",
       "11          american                3.40%            15.3%\n",
       "12             asian                0.21%            17.8%\n",
       "13            indian                0.27%            15.9%\n",
       "14    middle eastern                0.02%            16.9%\n",
       "15           chinese                0.38%            12.5%\n",
       "16          japanese                0.14%            11.8%"
      ]
     },
     "execution_count": 129,
     "metadata": {},
     "output_type": "execute_result"
    }
   ],
   "source": [
    "# We treat each identity term related to \"race\" as a separate sub-group.\n",
    "terms_grp = terms[\"race\"]\n",
    "\n",
    "# Create a sub-group membership matrix.\n",
    "comments_test = data_test[\"comment_text\"]\n",
    "subgroups_test = np.zeros((comments_test.shape[0], len(terms_grp)))\n",
    "for ii in range(len(terms_grp)):\n",
    "    subgroups_test[:, ii] = comments_test.str.contains(terms_grp[ii], case=False)\n",
    "\n",
    "# Display sub-group statistics.\n",
    "group_stats = []\n",
    "for ii in range(len(terms_grp)):\n",
    "    group_stats.append([terms_grp[ii],\n",
    "                        \"%.2f%%\" % (subgroups_test[:, ii].mean() * 100),\n",
    "                        \"%.1f%%\" % (labels_test[subgroups_test[:, ii] == 1].mean() * 100)])\n",
    "group_stats_df = pd.DataFrame(\n",
    "    group_stats, columns=[\"Sub-group\", \"Sub-group proportion\", \"Label proportion\"])\n",
    "group_stats_df"
   ]
  },
  {
   "cell_type": "code",
   "execution_count": 130,
   "metadata": {},
   "outputs": [
    {
     "data": {
      "image/png": "[encoded data removed]",
      "text/plain": [
       "<Figure size 576x216 with 2 Axes>"
      ]
     },
     "metadata": {
      "needs_background": "light"
     },
     "output_type": "display_data"
    }
   ],
   "source": [
    "plot_metrics(labels_test, scores_test, subgroups_test,\n",
    "             group_names=terms_grp, title=\"BI-LSTM Robust Opt Model on Finer Groups for Race\")"
   ]
  },
  {
   "cell_type": "code",
   "execution_count": 132,
   "metadata": {},
   "outputs": [
    {
     "name": "stderr",
     "output_type": "stream",
     "text": [
      "/anaconda3/lib/python3.7/site-packages/ipykernel_launcher.py:15: RuntimeWarning: Mean of empty slice.\n",
      "  from ipykernel import kernelapp as app\n"
     ]
    },
    {
     "data": {
      "text/html": [
       "<div>\n",
       "<style scoped>\n",
       "    .dataframe tbody tr th:only-of-type {\n",
       "        vertical-align: middle;\n",
       "    }\n",
       "\n",
       "    .dataframe tbody tr th {\n",
       "        vertical-align: top;\n",
       "    }\n",
       "\n",
       "    .dataframe thead th {\n",
       "        text-align: right;\n",
       "    }\n",
       "</style>\n",
       "<table border=\"1\" class=\"dataframe\">\n",
       "  <thead>\n",
       "    <tr style=\"text-align: right;\">\n",
       "      <th></th>\n",
       "      <th>Sub-group</th>\n",
       "      <th>Sub-group proportion</th>\n",
       "      <th>Label proportion</th>\n",
       "    </tr>\n",
       "  </thead>\n",
       "  <tbody>\n",
       "    <tr>\n",
       "      <th>0</th>\n",
       "      <td>depression</td>\n",
       "      <td>0.08%</td>\n",
       "      <td>10.1%</td>\n",
       "    </tr>\n",
       "    <tr>\n",
       "      <th>1</th>\n",
       "      <td>anxiety</td>\n",
       "      <td>0.05%</td>\n",
       "      <td>7.7%</td>\n",
       "    </tr>\n",
       "    <tr>\n",
       "      <th>2</th>\n",
       "      <td>bipolar</td>\n",
       "      <td>0.01%</td>\n",
       "      <td>14.0%</td>\n",
       "    </tr>\n",
       "    <tr>\n",
       "      <th>3</th>\n",
       "      <td>autism</td>\n",
       "      <td>0.02%</td>\n",
       "      <td>5.5%</td>\n",
       "    </tr>\n",
       "    <tr>\n",
       "      <th>4</th>\n",
       "      <td>schizophrenia</td>\n",
       "      <td>0.01%</td>\n",
       "      <td>10.3%</td>\n",
       "    </tr>\n",
       "    <tr>\n",
       "      <th>5</th>\n",
       "      <td>adhd</td>\n",
       "      <td>0.01%</td>\n",
       "      <td>8.2%</td>\n",
       "    </tr>\n",
       "    <tr>\n",
       "      <th>6</th>\n",
       "      <td>attention-Deficit</td>\n",
       "      <td>0.00%</td>\n",
       "      <td>nan%</td>\n",
       "    </tr>\n",
       "    <tr>\n",
       "      <th>7</th>\n",
       "      <td>agoraphobia</td>\n",
       "      <td>0.00%</td>\n",
       "      <td>0.0%</td>\n",
       "    </tr>\n",
       "    <tr>\n",
       "      <th>8</th>\n",
       "      <td>amnesia</td>\n",
       "      <td>0.01%</td>\n",
       "      <td>16.3%</td>\n",
       "    </tr>\n",
       "    <tr>\n",
       "      <th>9</th>\n",
       "      <td>asperger</td>\n",
       "      <td>0.00%</td>\n",
       "      <td>13.3%</td>\n",
       "    </tr>\n",
       "    <tr>\n",
       "      <th>10</th>\n",
       "      <td>alcohol abuse</td>\n",
       "      <td>0.01%</td>\n",
       "      <td>10.1%</td>\n",
       "    </tr>\n",
       "    <tr>\n",
       "      <th>11</th>\n",
       "      <td>alcoholic</td>\n",
       "      <td>0.04%</td>\n",
       "      <td>14.3%</td>\n",
       "    </tr>\n",
       "  </tbody>\n",
       "</table>\n",
       "</div>"
      ],
      "text/plain": [
       "            Sub-group Sub-group proportion Label proportion\n",
       "0          depression                0.08%            10.1%\n",
       "1             anxiety                0.05%             7.7%\n",
       "2             bipolar                0.01%            14.0%\n",
       "3              autism                0.02%             5.5%\n",
       "4       schizophrenia                0.01%            10.3%\n",
       "5                adhd                0.01%             8.2%\n",
       "6   attention-Deficit                0.00%             nan%\n",
       "7         agoraphobia                0.00%             0.0%\n",
       "8             amnesia                0.01%            16.3%\n",
       "9            asperger                0.00%            13.3%\n",
       "10      alcohol abuse                0.01%            10.1%\n",
       "11          alcoholic                0.04%            14.3%"
      ]
     },
     "execution_count": 132,
     "metadata": {},
     "output_type": "execute_result"
    }
   ],
   "source": [
    "# We treat each identity term related to \"mental\" as a separate sub-group.\n",
    "terms_grp = terms[\"mental\"]\n",
    "\n",
    "# Create a sub-group membership matrix.\n",
    "comments_test = data_test[\"comment_text\"]\n",
    "subgroups_test = np.zeros((comments_test.shape[0], len(terms_grp)))\n",
    "for ii in range(len(terms_grp)):\n",
    "    subgroups_test[:, ii] = comments_test.str.contains(terms_grp[ii], case=False)\n",
    "\n",
    "# Display sub-group statistics.\n",
    "group_stats = []\n",
    "for ii in range(len(terms_grp)):\n",
    "    group_stats.append([terms_grp[ii],\n",
    "                        \"%.2f%%\" % (subgroups_test[:, ii].mean() * 100),\n",
    "                        \"%.1f%%\" % (labels_test[subgroups_test[:, ii] == 1].mean() * 100)])\n",
    "group_stats_df = pd.DataFrame(\n",
    "    group_stats, columns=[\"Sub-group\", \"Sub-group proportion\", \"Label proportion\"])\n",
    "group_stats_df"
   ]
  },
  {
   "cell_type": "code",
   "execution_count": 133,
   "metadata": {},
   "outputs": [
    {
     "data": {
      "image/png": "[encoded data removed]",
      "text/plain": [
       "<Figure size 576x216 with 2 Axes>"
      ]
     },
     "metadata": {
      "needs_background": "light"
     },
     "output_type": "display_data"
    }
   ],
   "source": [
    "plot_metrics(labels_test, scores_test, subgroups_test,\n",
    "             group_names=terms_grp, title=\"BI-LSTM Robust Opt Model on Finer Groups for Mental Health\")"
   ]
  },
  {
   "cell_type": "code",
   "execution_count": 137,
   "metadata": {},
   "outputs": [
    {
     "data": {
      "text/html": [
       "<div>\n",
       "<style scoped>\n",
       "    .dataframe tbody tr th:only-of-type {\n",
       "        vertical-align: middle;\n",
       "    }\n",
       "\n",
       "    .dataframe tbody tr th {\n",
       "        vertical-align: top;\n",
       "    }\n",
       "\n",
       "    .dataframe thead th {\n",
       "        text-align: right;\n",
       "    }\n",
       "</style>\n",
       "<table border=\"1\" class=\"dataframe\">\n",
       "  <thead>\n",
       "    <tr style=\"text-align: right;\">\n",
       "      <th></th>\n",
       "      <th>Sub-group</th>\n",
       "      <th>Sub-group proportion</th>\n",
       "      <th>Label proportion</th>\n",
       "    </tr>\n",
       "  </thead>\n",
       "  <tbody>\n",
       "    <tr>\n",
       "      <th>0</th>\n",
       "      <td>cancer</td>\n",
       "      <td>0.22%</td>\n",
       "      <td>15.9%</td>\n",
       "    </tr>\n",
       "    <tr>\n",
       "      <th>1</th>\n",
       "      <td>arthritis</td>\n",
       "      <td>0.01%</td>\n",
       "      <td>7.5%</td>\n",
       "    </tr>\n",
       "    <tr>\n",
       "      <th>2</th>\n",
       "      <td>injury</td>\n",
       "      <td>0.17%</td>\n",
       "      <td>7.3%</td>\n",
       "    </tr>\n",
       "    <tr>\n",
       "      <th>3</th>\n",
       "      <td>disability</td>\n",
       "      <td>0.07%</td>\n",
       "      <td>9.1%</td>\n",
       "    </tr>\n",
       "    <tr>\n",
       "      <th>4</th>\n",
       "      <td>alzheimer's</td>\n",
       "      <td>0.01%</td>\n",
       "      <td>6.7%</td>\n",
       "    </tr>\n",
       "    <tr>\n",
       "      <th>5</th>\n",
       "      <td>diabetes</td>\n",
       "      <td>0.03%</td>\n",
       "      <td>6.9%</td>\n",
       "    </tr>\n",
       "    <tr>\n",
       "      <th>6</th>\n",
       "      <td>infertility</td>\n",
       "      <td>0.00%</td>\n",
       "      <td>19.2%</td>\n",
       "    </tr>\n",
       "    <tr>\n",
       "      <th>7</th>\n",
       "      <td>hiv</td>\n",
       "      <td>0.09%</td>\n",
       "      <td>8.6%</td>\n",
       "    </tr>\n",
       "    <tr>\n",
       "      <th>8</th>\n",
       "      <td>parkinson</td>\n",
       "      <td>0.00%</td>\n",
       "      <td>3.8%</td>\n",
       "    </tr>\n",
       "    <tr>\n",
       "      <th>9</th>\n",
       "      <td>herpes</td>\n",
       "      <td>0.00%</td>\n",
       "      <td>20.3%</td>\n",
       "    </tr>\n",
       "    <tr>\n",
       "      <th>10</th>\n",
       "      <td>ulcers</td>\n",
       "      <td>0.00%</td>\n",
       "      <td>27.5%</td>\n",
       "    </tr>\n",
       "    <tr>\n",
       "      <th>11</th>\n",
       "      <td>allergies</td>\n",
       "      <td>0.01%</td>\n",
       "      <td>3.8%</td>\n",
       "    </tr>\n",
       "    <tr>\n",
       "      <th>12</th>\n",
       "      <td>stroke</td>\n",
       "      <td>0.05%</td>\n",
       "      <td>12.1%</td>\n",
       "    </tr>\n",
       "    <tr>\n",
       "      <th>13</th>\n",
       "      <td>influenza</td>\n",
       "      <td>0.00%</td>\n",
       "      <td>3.8%</td>\n",
       "    </tr>\n",
       "  </tbody>\n",
       "</table>\n",
       "</div>"
      ],
      "text/plain": [
       "      Sub-group Sub-group proportion Label proportion\n",
       "0        cancer                0.22%            15.9%\n",
       "1     arthritis                0.01%             7.5%\n",
       "2        injury                0.17%             7.3%\n",
       "3    disability                0.07%             9.1%\n",
       "4   alzheimer's                0.01%             6.7%\n",
       "5      diabetes                0.03%             6.9%\n",
       "6   infertility                0.00%            19.2%\n",
       "7           hiv                0.09%             8.6%\n",
       "8     parkinson                0.00%             3.8%\n",
       "9        herpes                0.00%            20.3%\n",
       "10       ulcers                0.00%            27.5%\n",
       "11    allergies                0.01%             3.8%\n",
       "12       stroke                0.05%            12.1%\n",
       "13    influenza                0.00%             3.8%"
      ]
     },
     "execution_count": 137,
     "metadata": {},
     "output_type": "execute_result"
    }
   ],
   "source": [
    "# We treat each identity term related to \"Physical\" as a separate sub-group.\n",
    "terms_grp = terms[\"physical\"]\n",
    "\n",
    "# Create a sub-group membership matrix.\n",
    "comments_test = data_test[\"comment_text\"]\n",
    "subgroups_test = np.zeros((comments_test.shape[0], len(terms_grp)))\n",
    "for ii in range(len(terms_grp)):\n",
    "    subgroups_test[:, ii] = comments_test.str.contains(terms_grp[ii], case=False)\n",
    "\n",
    "# Display sub-group statistics.\n",
    "group_stats = []\n",
    "for ii in range(len(terms_grp)):\n",
    "    group_stats.append([terms_grp[ii],\n",
    "                        \"%.2f%%\" % (subgroups_test[:, ii].mean() * 100),\n",
    "                        \"%.1f%%\" % (labels_test[subgroups_test[:, ii] == 1].mean() * 100)])\n",
    "group_stats_df = pd.DataFrame(\n",
    "    group_stats, columns=[\"Sub-group\", \"Sub-group proportion\", \"Label proportion\"])\n",
    "group_stats_df"
   ]
  },
  {
   "cell_type": "code",
   "execution_count": 138,
   "metadata": {},
   "outputs": [
    {
     "data": {
      "image/png": "[encoded data removed]",
      "text/plain": [
       "<Figure size 576x216 with 2 Axes>"
      ]
     },
     "metadata": {
      "needs_background": "light"
     },
     "output_type": "display_data"
    }
   ],
   "source": [
    "plot_metrics(labels_test, scores_test, subgroups_test,\n",
    "             group_names=terms_grp, title=\"BI-LSTM Robust Opt Model on Finer Groups for Physical Health\")"
   ]
  },
  {
   "cell_type": "code",
   "execution_count": 139,
   "metadata": {},
   "outputs": [
    {
     "data": {
      "text/html": [
       "<div>\n",
       "<style scoped>\n",
       "    .dataframe tbody tr th:only-of-type {\n",
       "        vertical-align: middle;\n",
       "    }\n",
       "\n",
       "    .dataframe tbody tr th {\n",
       "        vertical-align: top;\n",
       "    }\n",
       "\n",
       "    .dataframe thead th {\n",
       "        text-align: right;\n",
       "    }\n",
       "</style>\n",
       "<table border=\"1\" class=\"dataframe\">\n",
       "  <thead>\n",
       "    <tr style=\"text-align: right;\">\n",
       "      <th></th>\n",
       "      <th>Sub-group</th>\n",
       "      <th>Sub-group proportion</th>\n",
       "      <th>Label proportion</th>\n",
       "    </tr>\n",
       "  </thead>\n",
       "  <tbody>\n",
       "    <tr>\n",
       "      <th>0</th>\n",
       "      <td>poor</td>\n",
       "      <td>1.57%</td>\n",
       "      <td>13.4%</td>\n",
       "    </tr>\n",
       "    <tr>\n",
       "      <th>1</th>\n",
       "      <td>retired</td>\n",
       "      <td>0.21%</td>\n",
       "      <td>7.4%</td>\n",
       "    </tr>\n",
       "    <tr>\n",
       "      <th>2</th>\n",
       "      <td>unemployed</td>\n",
       "      <td>0.07%</td>\n",
       "      <td>9.7%</td>\n",
       "    </tr>\n",
       "    <tr>\n",
       "      <th>3</th>\n",
       "      <td>rich</td>\n",
       "      <td>1.32%</td>\n",
       "      <td>12.0%</td>\n",
       "    </tr>\n",
       "    <tr>\n",
       "      <th>4</th>\n",
       "      <td>homeless</td>\n",
       "      <td>0.53%</td>\n",
       "      <td>9.6%</td>\n",
       "    </tr>\n",
       "    <tr>\n",
       "      <th>5</th>\n",
       "      <td>layoffs</td>\n",
       "      <td>0.11%</td>\n",
       "      <td>6.7%</td>\n",
       "    </tr>\n",
       "  </tbody>\n",
       "</table>\n",
       "</div>"
      ],
      "text/plain": [
       "    Sub-group Sub-group proportion Label proportion\n",
       "0        poor                1.57%            13.4%\n",
       "1     retired                0.21%             7.4%\n",
       "2  unemployed                0.07%             9.7%\n",
       "3        rich                1.32%            12.0%\n",
       "4    homeless                0.53%             9.6%\n",
       "5     layoffs                0.11%             6.7%"
      ]
     },
     "execution_count": 139,
     "metadata": {},
     "output_type": "execute_result"
    }
   ],
   "source": [
    "# We treat each identity term related to \"economic\" as a separate sub-group.\n",
    "terms_grp = terms[\"economic\"]\n",
    "\n",
    "# Create a sub-group membership matrix.\n",
    "comments_test = data_test[\"comment_text\"]\n",
    "subgroups_test = np.zeros((comments_test.shape[0], len(terms_grp)))\n",
    "for ii in range(len(terms_grp)):\n",
    "    subgroups_test[:, ii] = comments_test.str.contains(terms_grp[ii], case=False)\n",
    "\n",
    "# Display sub-group statistics.\n",
    "group_stats = []\n",
    "for ii in range(len(terms_grp)):\n",
    "    group_stats.append([terms_grp[ii],\n",
    "                        \"%.2f%%\" % (subgroups_test[:, ii].mean() * 100),\n",
    "                        \"%.1f%%\" % (labels_test[subgroups_test[:, ii] == 1].mean() * 100)])\n",
    "group_stats_df = pd.DataFrame(\n",
    "    group_stats, columns=[\"Sub-group\", \"Sub-group proportion\", \"Label proportion\"])\n",
    "group_stats_df"
   ]
  },
  {
   "cell_type": "code",
   "execution_count": 140,
   "metadata": {},
   "outputs": [
    {
     "data": {
      "image/png": "[encoded data removed]",
      "text/plain": [
       "<Figure size 576x216 with 2 Axes>"
      ]
     },
     "metadata": {
      "needs_background": "light"
     },
     "output_type": "display_data"
    }
   ],
   "source": [
    "plot_metrics(labels_test, scores_test, subgroups_test,\n",
    "             group_names=terms_grp, title=\"BI-LSTM Robust Opt Model on Finer Groups for Economic Status\")"
   ]
  },
  {
   "cell_type": "markdown",
   "metadata": {},
   "source": [
    "# END BI-LSTM"
   ]
  },
  {
   "cell_type": "code",
   "execution_count": null,
   "metadata": {},
   "outputs": [],
   "source": []
  }
 ],
 "metadata": {
  "colab": {
   "collapsed_sections": [],
   "name": "Wiki_toxicity_fairness.ipynb",
   "provenance": []
  },
  "kernelspec": {
   "display_name": "Python 3",
   "language": "python",
   "name": "python3"
  },
  "language_info": {
   "codemirror_mode": {
    "name": "ipython",
    "version": 3
   },
   "file_extension": ".py",
   "mimetype": "text/x-python",
   "name": "python",
   "nbconvert_exporter": "python",
   "pygments_lexer": "ipython3",
   "version": "3.7.3"
  }
 },
 "nbformat": 4,
 "nbformat_minor": 1
}
